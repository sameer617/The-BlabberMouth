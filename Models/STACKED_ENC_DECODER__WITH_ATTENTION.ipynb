{
 "cells": [
  {
   "cell_type": "code",
   "execution_count": 1,
   "metadata": {
    "colab": {
     "base_uri": "https://localhost:8080/"
    },
    "id": "VmchQqJok6D4",
    "outputId": "066ea341-c26d-4e3f-c3b2-b8f75d612a2d"
   },
   "outputs": [
    {
     "name": "stdout",
     "output_type": "stream",
     "text": [
      "--2021-10-21 04:41:45--  https://doc-0s-5k-docs.googleusercontent.com/docs/securesc/6kbudo4ee5hqmlq3ia8ppia9sbcvjuvj/c9cen8ui1eghaa2pst0sed791t6207hg/1634791275000/12878554966299595518/12878554966299595518/1jqMhtzlops8iBUTwYDiIAA2s1JucXd1t?e=download&authuser=0&nonce=45rs822l54fg8&user=12878554966299595518&hash=7t9bp2i6nq3i3hgeis5jshjjmtlk3bnl\n",
      "Resolving doc-0s-5k-docs.googleusercontent.com (doc-0s-5k-docs.googleusercontent.com)... 74.125.20.132, 2607:f8b0:400e:c07::84\n",
      "Connecting to doc-0s-5k-docs.googleusercontent.com (doc-0s-5k-docs.googleusercontent.com)|74.125.20.132|:443... connected.\n",
      "HTTP request sent, awaiting response... 200 OK\n",
      "Length: 33697872 (32M) [text/csv]\n",
      "Saving to: ‘df_data.csv’\n",
      "\n",
      "df_data.csv         100%[===================>]  32.14M   208MB/s    in 0.2s    \n",
      "\n",
      "2021-10-21 04:41:46 (208 MB/s) - ‘df_data.csv’ saved [33697872/33697872]\n",
      "\n"
     ]
    }
   ],
   "source": [
    "!wget --header=\"Host: doc-0s-5k-docs.googleusercontent.com\" --header=\"User-Agent: Mozilla/5.0 (Windows NT 10.0; Win64; x64) AppleWebKit/537.36 (KHTML, like Gecko) Chrome/94.0.4606.81 Safari/537.36\" --header=\"Accept: text/html,application/xhtml+xml,application/xml;q=0.9,image/avif,image/webp,image/apng,*/*;q=0.8,application/signed-exchange;v=b3;q=0.9\" --header=\"Accept-Language: en-US,en;q=0.9,mt;q=0.8,hi;q=0.7\" --header=\"Cookie: AUTH_2u1gmt4j08s836ujksdlj51vps0jhs16_nonce=45rs822l54fg8\" --header=\"Connection: keep-alive\" \"https://doc-0s-5k-docs.googleusercontent.com/docs/securesc/6kbudo4ee5hqmlq3ia8ppia9sbcvjuvj/c9cen8ui1eghaa2pst0sed791t6207hg/1634791275000/12878554966299595518/12878554966299595518/1jqMhtzlops8iBUTwYDiIAA2s1JucXd1t?e=download&authuser=0&nonce=45rs822l54fg8&user=12878554966299595518&hash=7t9bp2i6nq3i3hgeis5jshjjmtlk3bnl\" -c -O 'df_data.csv'"
   ]
  },
  {
   "cell_type": "code",
   "execution_count": 2,
   "metadata": {
    "id": "-huU9TC2zixF"
   },
   "outputs": [],
   "source": [
    "#importing libraries\n",
    "import re\n",
    "\n",
    "import numpy as np\n",
    "import pandas as pd\n",
    "import matplotlib.pyplot as plt\n",
    "%matplotlib inline\n",
    "# import seaborn as sns\n",
    "import pandas as pd\n",
    "import re\n",
    "import tensorflow as tf\n",
    "from tensorflow.keras.layers import Embedding, LSTM, Dense\n",
    "from tensorflow.keras.models import Model\n",
    "from tensorflow.keras.preprocessing.text import Tokenizer\n",
    "from tensorflow.keras.preprocessing.sequence import pad_sequences\n",
    "import numpy as np\n",
    "import seaborn as sns"
   ]
  },
  {
   "cell_type": "code",
   "execution_count": 3,
   "metadata": {
    "colab": {
     "base_uri": "https://localhost:8080/",
     "height": 202
    },
    "id": "uKrIDgNkzitu",
    "outputId": "795e0b07-24f4-4cea-f45e-ef275d6f9ff9"
   },
   "outputs": [
    {
     "data": {
      "text/html": [
       "<div>\n",
       "<style scoped>\n",
       "    .dataframe tbody tr th:only-of-type {\n",
       "        vertical-align: middle;\n",
       "    }\n",
       "\n",
       "    .dataframe tbody tr th {\n",
       "        vertical-align: top;\n",
       "    }\n",
       "\n",
       "    .dataframe thead th {\n",
       "        text-align: right;\n",
       "    }\n",
       "</style>\n",
       "<table border=\"1\" class=\"dataframe\">\n",
       "  <thead>\n",
       "    <tr style=\"text-align: right;\">\n",
       "      <th></th>\n",
       "      <th>questions</th>\n",
       "      <th>answers_inp</th>\n",
       "      <th>answers_out</th>\n",
       "    </tr>\n",
       "  </thead>\n",
       "  <tbody>\n",
       "    <tr>\n",
       "      <th>0</th>\n",
       "      <td>can we make this quick roxanne korrine and and...</td>\n",
       "      <td>&lt;start&gt; well i thought we would start with pro...</td>\n",
       "      <td>well i thought we would start with pronunciati...</td>\n",
       "    </tr>\n",
       "    <tr>\n",
       "      <th>1</th>\n",
       "      <td>well i thought we would start with pronunciati...</td>\n",
       "      <td>&lt;start&gt; not the hacking and gagging and spitti...</td>\n",
       "      <td>not the hacking and gagging and spitting part ...</td>\n",
       "    </tr>\n",
       "    <tr>\n",
       "      <th>2</th>\n",
       "      <td>not the hacking and gagging and spitting part ...</td>\n",
       "      <td>&lt;start&gt; okay then how bout we try out some fre...</td>\n",
       "      <td>okay then how bout we try out some french cuis...</td>\n",
       "    </tr>\n",
       "    <tr>\n",
       "      <th>3</th>\n",
       "      <td>you are asking me out that is so cute what is ...</td>\n",
       "      <td>&lt;start&gt; forget it</td>\n",
       "      <td>forget it &lt;end&gt;</td>\n",
       "    </tr>\n",
       "    <tr>\n",
       "      <th>4</th>\n",
       "      <td>the thing is cameron i am at the mercy of a pa...</td>\n",
       "      <td>&lt;start&gt; seems like she could get a date easy e...</td>\n",
       "      <td>seems like she could get a date easy enough &lt;end&gt;</td>\n",
       "    </tr>\n",
       "  </tbody>\n",
       "</table>\n",
       "</div>"
      ],
      "text/plain": [
       "                                           questions  ...                                        answers_out\n",
       "0  can we make this quick roxanne korrine and and...  ...  well i thought we would start with pronunciati...\n",
       "1  well i thought we would start with pronunciati...  ...  not the hacking and gagging and spitting part ...\n",
       "2  not the hacking and gagging and spitting part ...  ...  okay then how bout we try out some french cuis...\n",
       "3  you are asking me out that is so cute what is ...  ...                                    forget it <end>\n",
       "4  the thing is cameron i am at the mercy of a pa...  ...  seems like she could get a date easy enough <end>\n",
       "\n",
       "[5 rows x 3 columns]"
      ]
     },
     "execution_count": 3,
     "metadata": {},
     "output_type": "execute_result"
    }
   ],
   "source": [
    "df_data=pd.read_csv('df_data.csv')\n",
    "df_data.head()"
   ]
  },
  {
   "cell_type": "code",
   "execution_count": 4,
   "metadata": {
    "id": "pNEt3_Qglnxz"
   },
   "outputs": [],
   "source": [
    "df_data['answers']=[\" \".join(i.split()[1:]) for i in df_data['answers_inp'].values]"
   ]
  },
  {
   "cell_type": "code",
   "execution_count": 5,
   "metadata": {
    "id": "GzimwkgxUpOr"
   },
   "outputs": [],
   "source": [
    "df_data['complete_answers']=df_data['answers_inp']+' <end>'"
   ]
  },
  {
   "cell_type": "code",
   "execution_count": 6,
   "metadata": {
    "id": "CxNjradOlnuP"
   },
   "outputs": [],
   "source": [
    "labels_to_remove=[]\n",
    "for index, value in enumerate(df_data['questions'].values):\n",
    "     if len(value.split())>25:\n",
    "         labels_to_remove.append(index)\n",
    "for index, value in enumerate(df_data['answers'].values):\n",
    "     if len(value.split())>25:\n",
    "         labels_to_remove.append(index)\n",
    "labels_to_remove=list(set(labels_to_remove))"
   ]
  },
  {
   "cell_type": "code",
   "execution_count": 7,
   "metadata": {
    "id": "op4cyJGglnpX"
   },
   "outputs": [],
   "source": [
    "df_new=df_data.drop(labels=labels_to_remove).reset_index(drop=True)"
   ]
  },
  {
   "cell_type": "code",
   "execution_count": 8,
   "metadata": {
    "id": "vvJooHWkzipz"
   },
   "outputs": [],
   "source": [
    "#train test split\n",
    "from sklearn.model_selection import train_test_split\n",
    "train, validation = train_test_split(df_new, test_size=0.2)"
   ]
  },
  {
   "cell_type": "code",
   "execution_count": 9,
   "metadata": {
    "colab": {
     "base_uri": "https://localhost:8080/"
    },
    "id": "OzJ9lHsvUiOD",
    "outputId": "28f1a064-1e55-4109-ba7b-ceab9434d4c9"
   },
   "outputs": [
    {
     "data": {
      "text/plain": [
       "(154389, 5)"
      ]
     },
     "execution_count": 9,
     "metadata": {},
     "output_type": "execute_result"
    }
   ],
   "source": [
    "df_new.shape"
   ]
  },
  {
   "cell_type": "code",
   "execution_count": 10,
   "metadata": {
    "id": "j8Ti1IA-l39U"
   },
   "outputs": [],
   "source": [
    "VOCAB_SIZE=10000"
   ]
  },
  {
   "cell_type": "code",
   "execution_count": 98,
   "metadata": {
    "id": "SX4kQiyKl6rO"
   },
   "outputs": [],
   "source": [
    "token=Tokenizer(num_words=VOCAB_SIZE, filters='!\"#$%&()*+,-./:;=?@[\\\\]^_`{|}~\\t\\n')\n",
    "token.fit_on_texts(train['questions'].values.astype(str))"
   ]
  },
  {
   "cell_type": "code",
   "execution_count": 67,
   "metadata": {
    "id": "p-4sFfZymCFX"
   },
   "outputs": [],
   "source": [
    "\n",
    "token.word_index['<start>']=8001\n",
    "token.word_index['<end>']=8002"
   ]
  },
  {
   "cell_type": "code",
   "execution_count": 64,
   "metadata": {
    "colab": {
     "base_uri": "https://localhost:8080/"
    },
    "id": "95tsiMrbVHWQ",
    "outputId": "c9ebe128-d0ec-43c1-fc45-0cd6edef24f1"
   },
   "outputs": [
    {
     "data": {
      "text/plain": [
       "(2, 1)"
      ]
     },
     "execution_count": 64,
     "metadata": {},
     "output_type": "execute_result"
    }
   ],
   "source": [
    "decoder_token.word_index['<end>'], decoder_token.word_index['<start>']"
   ]
  },
  {
   "cell_type": "code",
   "execution_count": 14,
   "metadata": {
    "id": "AIbBxiuvmCA9"
   },
   "outputs": [],
   "source": [
    "train_encoder_input=encoder_token.texts_to_sequences(train['questions'])\n",
    "train_decoder_input = decoder_token.texts_to_sequences(train['answers_inp'])\n",
    "train_decoder_output= decoder_token.texts_to_sequences(train['answers_out'])\n",
    "\n",
    "validation_encoder_input=encoder_token.texts_to_sequences(validation['questions'])\n",
    "validation_decoder_input = decoder_token.texts_to_sequences(validation['answers_inp'])\n",
    "validation_decoder_output= decoder_token.texts_to_sequences(validation['answers_out'])"
   ]
  },
  {
   "cell_type": "code",
   "execution_count": 13,
   "metadata": {
    "id": "7Ssh53timezU"
   },
   "outputs": [],
   "source": [
    "max_length=25"
   ]
  },
  {
   "cell_type": "code",
   "execution_count": 15,
   "metadata": {
    "id": "9LtG7ZDHmPzN"
   },
   "outputs": [],
   "source": [
    "from tensorflow.keras.preprocessing.sequence import pad_sequences\n",
    "train_encoder_input=pad_sequences(train_encoder_input, maxlen=max_length, padding='post')\n",
    "train_decoder_input=pad_sequences(train_decoder_input, maxlen=max_length, padding='post')\n",
    "train_decoder_output=pad_sequences(train_decoder_output, maxlen=max_length, padding='post')\n",
    "\n",
    "validation_encoder_input=pad_sequences(validation_encoder_input, maxlen=max_length, padding='post')\n",
    "validation_decoder_input=pad_sequences(validation_decoder_input, maxlen=max_length, padding='post')\n",
    "validation_decoder_output=pad_sequences(validation_decoder_output, maxlen=max_length, padding='post')"
   ]
  },
  {
   "cell_type": "code",
   "execution_count": 16,
   "metadata": {
    "id": "H8-U-mMyruHE"
   },
   "outputs": [],
   "source": [
    "BUFFER_SIZE=20000\n",
    "BATCH_SIZE=256\n",
    "###TRAIN DATASET###\n",
    "train_dataset=tf.data.Dataset.from_tensor_slices(((train_encoder_input, train_decoder_input),train_decoder_output))\n",
    "train_dataset=train_dataset.shuffle(BUFFER_SIZE).batch(BATCH_SIZE)\n",
    "train_dataset = train_dataset.cache()\n",
    "train_dataset = train_dataset.prefetch(tf.data.experimental.AUTOTUNE)\n",
    "\n",
    "\n",
    "###VALIDATION DATASET###\n",
    "validation_dataset=tf.data.Dataset.from_tensor_slices(((validation_encoder_input, validation_decoder_input), validation_decoder_output))\n",
    "validation_dataset=validation_dataset.shuffle(BUFFER_SIZE).batch(BATCH_SIZE)\n",
    "validation_dataset = validation_dataset.cache()\n",
    "validation_dataset = validation_dataset.prefetch(tf.data.experimental.AUTOTUNE)"
   ]
  },
  {
   "cell_type": "code",
   "execution_count": 45,
   "metadata": {
    "colab": {
     "base_uri": "https://localhost:8080/"
    },
    "id": "JJr6hxwmmiZm",
    "outputId": "ae13411a-6074-45e6-d7f9-52040293d554"
   },
   "outputs": [
    {
     "data": {
      "text/plain": [
       "((66313, 12), (66313, 12), (66313, 12))"
      ]
     },
     "execution_count": 45,
     "metadata": {},
     "output_type": "execute_result"
    }
   ],
   "source": [
    "train_encoder_input.shape, train_decoder_input.shape,train_decoder_output.shape\n"
   ]
  },
  {
   "cell_type": "code",
   "execution_count": 11,
   "metadata": {
    "colab": {
     "base_uri": "https://localhost:8080/"
    },
    "id": "Qj9OJX8Zzij-",
    "outputId": "8a109d1e-ab50-4777-8060-d60c6f843204"
   },
   "outputs": [
    {
     "data": {
      "text/plain": [
       "34331"
      ]
     },
     "execution_count": 11,
     "metadata": {},
     "output_type": "execute_result"
    }
   ],
   "source": [
    "encoder_token=Tokenizer(num_words=VOCAB_SIZE)\n",
    "encoder_token.fit_on_texts(train['questions'].values.astype(str))\n",
    "enc_vocab_size=len(encoder_token.word_index.keys())\n",
    "enc_vocab_size"
   ]
  },
  {
   "cell_type": "code",
   "execution_count": 12,
   "metadata": {
    "colab": {
     "base_uri": "https://localhost:8080/"
    },
    "id": "pBvpevtGzigi",
    "outputId": "d96eada1-b086-4d6b-fc3f-7575f05e1208"
   },
   "outputs": [
    {
     "data": {
      "text/plain": [
       "34322"
      ]
     },
     "execution_count": 12,
     "metadata": {},
     "output_type": "execute_result"
    }
   ],
   "source": [
    "decoder_token=Tokenizer(num_words=VOCAB_SIZE,filters='!\"#$%&()*+,-./:;=?@[\\\\]^_`{|}~\\t\\n')\n",
    "decoder_token.fit_on_texts(train['complete_answers'].values.astype(str))\n",
    "dec_vocab_size=len(decoder_token.word_index.keys())\n",
    "dec_vocab_size"
   ]
  },
  {
   "cell_type": "code",
   "execution_count": 17,
   "metadata": {
    "id": "lqWxNgYlzidd"
   },
   "outputs": [],
   "source": [
    "from tensorflow.keras.layers import Embedding,LSTM,Bidirectional,Concatenate\n",
    "class Encoder(tf.keras.layers.Layer):\n",
    "   '''\n",
    "   Creation of an encoder class for an encoder-decoder model\n",
    "\n",
    "   Args:\n",
    "   enc_vocab_size- inputs the vocabulary size of the sequence to be fed in the encoder\n",
    "   embedding_size- output dimesion of the embedding layer\n",
    "   encoder_input_length- length of the sequence\n",
    "\n",
    "   Returns:\n",
    "   Returns outputs of all the timesteps, final timestep hidden state, final timestep cell state of the lstm layer\n",
    "\n",
    "   '''\n",
    "\n",
    "   def __init__(self,enc_vocab_size, embedding_size,enc_lstm_size,enc_input_length,embedding_weights_available=False):\n",
    "       super().__init__()\n",
    "       self.enc_vocab_size=enc_vocab_size\n",
    "       self.embedding_size=embedding_size\n",
    "       self.enc_lstm_size=enc_lstm_size\n",
    "       self.enc_input_length=enc_input_length\n",
    "       if embedding_weights_available:\n",
    "            print('using pretrained vector for embedding')\n",
    "            self.embedding_layer=Embedding(input_dim=self.enc_vocab_size,output_dim=self.embedding_size,weights=[embedding_matrix_encoder],trainable=False,input_length=self.enc_input_length,mask_zero=True,name='embedding_layer_encoder')\n",
    "       else:\n",
    "            print('using no pretrained vector for embedding')\n",
    "            self.embedding_layer=Embedding(input_dim=self.enc_vocab_size,output_dim=self.embedding_size,input_length=self.enc_input_length,trainable=True,mask_zero=True,name='embedding_layer_encoder')\n",
    "\n",
    "            \n",
    "       self.lstm_layer1=Bidirectional(LSTM(self.enc_lstm_size,dropout=0.3,return_sequences=True, return_state=True),merge_mode='concat', name='ENCODER_LSTM1')\n",
    "       self.lstm_layer2=Bidirectional(LSTM(self.enc_lstm_size,dropout=0.3,return_sequences=True, return_state=True),merge_mode='concat', name='ENCODER_LSTM2')\n",
    "       self.lstm_layer3=Bidirectional(LSTM(self.enc_lstm_size,dropout=0.3,return_sequences=True, return_state=True),merge_mode='concat', name='ENCODER_LSTM3')\n",
    "   def call(self, input_sequences,training=True):\n",
    "      enc_embedd=self.embedding_layer(input_sequences)\n",
    "      enc_whole_seq_output1,forward_h1,forward_c1,backward_h1,backward_c1= self.lstm_layer1(enc_embedd)\n",
    "      enc_whole_seq_output2,forward_h2,forward_c2,backward_h2,backward_c2= self.lstm_layer2(enc_whole_seq_output1)\n",
    "      enc_whole_seq_output3,forward_h3,forward_c3,backward_h3,backward_c3= self.lstm_layer3(enc_whole_seq_output1)\n",
    "      enc_hidden_state1=Concatenate()([forward_h1,backward_h1])\n",
    "      enc_cell_state1=Concatenate()([backward_h1,backward_c1])\n",
    "\n",
    "      enc_hidden_state2=Concatenate()([forward_h2,backward_h2])\n",
    "      enc_cell_state2=Concatenate()([backward_h2,backward_c2])\n",
    "\n",
    "      enc_hidden_state3=Concatenate()([forward_h3,backward_h3])\n",
    "      enc_cell_state3=Concatenate()([backward_h3,backward_c3])\n",
    "\n",
    "      states1=[enc_hidden_state1, enc_cell_state1]\n",
    "      states2=[enc_hidden_state2, enc_cell_state2]\n",
    "      states3=[enc_hidden_state3, enc_cell_state3]\n",
    "\n",
    "      return enc_whole_seq_output1, enc_whole_seq_output2, enc_whole_seq_output3, states1, states2, states3"
   ]
  },
  {
   "cell_type": "code",
   "execution_count": 18,
   "metadata": {
    "id": "fCCRK5mVziaJ"
   },
   "outputs": [],
   "source": [
    "class Attention(tf.keras.layers.Layer):\n",
    "  '''\n",
    "    Class the calculates score based on the scoring_function using Bahdanu attention mechanism.\n",
    "  '''\n",
    "  def __init__(self,scoring_function, att_units):\n",
    "\n",
    "    super().__init__()\n",
    "    # Please go through the reference notebook and research paper to complete the scoring functions\n",
    "    self.scoring_function=scoring_function\n",
    "    if self.scoring_function=='dot':\n",
    "      # Intialize variables needed for Dot score function here\n",
    "       self.att_units=att_units\n",
    "      \n",
    "    if scoring_function == 'general':\n",
    "      # Intialize variables needed for General score function here\n",
    "      self.att_units=att_units\n",
    "      self.W=Dense(self.att_units)\n",
    "    elif scoring_function == 'concat':\n",
    "      # Intialize variables needed for Concat score function here\n",
    "      self.att_units=att_units\n",
    "      self.W_alpha=Dense(self.att_units,activation='tanh')\n",
    "      self.V=Dense(1)\n",
    "  \n",
    "  def call(self,decoder_hidden_state,encoder_output):\n",
    "    '''\n",
    "      Attention mechanism takes two inputs current step -- decoder_hidden_state and all the encoder_outputs.\n",
    "      * Based on the scoring function we will find the score or similarity between decoder_hidden_state and encoder_output.\n",
    "        Multiply the score function with your encoder_outputs to get the context vector.\n",
    "        Function returns context vector and attention weights(softmax - scores)\n",
    "    '''\n",
    " \n",
    "\n",
    "   \n",
    "    decoder_hidden_state=tf.reshape(decoder_hidden_state,shape=(-1,1,decoder_hidden_state.shape[1]))\n",
    "\n",
    "    if self.scoring_function == 'dot':\n",
    "        # Implement Dot score function here\n",
    "       \n",
    "        attention_weights=tf.matmul(a=encoder_output,b=decoder_hidden_state,transpose_a=False,transpose_b=True)\n",
    "        \n",
    "        attention_weights=tf.nn.softmax(attention_weights,axis=1)\n",
    "       \n",
    "\n",
    "        context_vector=tf.matmul(a=encoder_output,b=attention_weights,transpose_a=True,transpose_b=False)\n",
    "        \n",
    "        context_vector=tf.reshape(context_vector,shape=(-1,encoder_output.shape[2]))\n",
    "        \n",
    "        return context_vector,attention_weights\n",
    "    elif self.scoring_function == 'general':\n",
    "        # Implement General score function here\n",
    "        \n",
    "        attention_weights=tf.matmul(self.W(encoder_output),decoder_hidden_state,transpose_b=True)\n",
    "        #attention_weights=tf.reshape(attention_weights,shape=(attention_weights.shape[0],attention_weights.shape[2],attention_weights.shape[1]))\n",
    "      \n",
    "        attention_weights=tf.nn.softmax(attention_weights,axis=1)\n",
    "        \n",
    "        context_vector=tf.matmul(a=encoder_output,b=attention_weights,transpose_a=True,transpose_b=False)\n",
    "        context_vector=tf.reshape(context_vector,shape=(-1,context_vector.shape[1]))\n",
    "        return context_vector,attention_weights\n",
    "        \n",
    "    elif self.scoring_function == 'concat':\n",
    "        # Implement General score function here\n",
    "\n",
    "       attention_weights=self.V(self.W_alpha(tf.add(encoder_output,decoder_hidden_state)))\n",
    "       attention_weights=tf.nn.softmax(attention_weights,axis=1)\n",
    "       context_vector=tf.linalg.matmul(a=encoder_output,b=attention_weights,transpose_a=True,transpose_b=False)\n",
    "       context_vector=tf.reshape(context_vector,shape=(-1,context_vector.shape[1]))\n",
    "       return context_vector,attention_weights"
   ]
  },
  {
   "cell_type": "code",
   "execution_count": 19,
   "metadata": {
    "id": "cItITGdXziWg"
   },
   "outputs": [],
   "source": [
    "class OneStepDecoder(tf.keras.layers.Layer):\n",
    "  def __init__(self,dec_vocab_size, embedding_size, dec_input_length, dec_lstm_size ,score_fun ,att_units,embedding_weights_available):\n",
    "\n",
    "      # Initialize decoder embedding layer, LSTM and any other objects needed\n",
    "        super().__init__()\n",
    "        self.dec_vocab_size=dec_vocab_size\n",
    "        self.embedding_size=embedding_size\n",
    "        self.dec_lstm_size= dec_lstm_size\n",
    "        self.dec_input_length=dec_input_length\n",
    "        self.score_fun=score_fun\n",
    "        self.att_units=att_units\n",
    "      \n",
    "       \n",
    "        #self.embedding_matrix=matrix(token,self.out_vocab_size,self.embedding_size)\n",
    "        if embedding_weights_available:\n",
    "            self.embedding=Embedding(input_dim=self.dec_vocab_size,output_dim=self.embedding_size,weights=[embedding_matrix_decoder],input_length=self.dec_input_length,mask_zero=True, trainable=False)\n",
    "        else:\n",
    "            self.embedding=Embedding(input_dim=self.dec_vocab_size,output_dim=self.embedding_size,input_length=self.dec_input_length,mask_zero=True,trainable=True)\n",
    "        \n",
    "        self.lstm1=LSTM(units=self.dec_lstm_size,dropout=0.637803031844477,return_state=True,return_sequences=True, name=\"DECODER_LSTM1\")\n",
    "        self.lstm2= LSTM(units=self.dec_lstm_size, dropout=0.63, return_state=True, return_sequences=True, name='DECODER_LSTM2')\n",
    "        self.lstm3= LSTM(units=self.dec_lstm_size, dropout=0.63, return_state=True, return_sequences=True, name='DECODER_LSTM3')\n",
    "        self.attention=Attention(self.score_fun,self.att_units)\n",
    "        self.dense=Dense(self.dec_vocab_size)\n",
    "        \n",
    "  def call(self,input_to_decoder, encoder_output, states1, states2, states3):\n",
    "      '''\n",
    "          One step decoder mechanisim step by step:\n",
    "        A. Pass the input_to_decoder to the embedding layer and then get the output(batch_size,1,embedding_dim)\n",
    "        B. Using the encoder_output and decoder hidden state, compute the context vector.\n",
    "        C. Concat the context vector with the step A output\n",
    "        D. Pass the Step-C output to LSTM/GRU and get the decoder output and states(hidden and cell state)\n",
    "        E. Pass the decoder output to dense layer(vocab size) and store the result into output.\n",
    "        F. Return the states from step D, output from Step E, attention weights from Step -B\n",
    "\n",
    "\n",
    "        states1=[enc_hidden_state1, enc_cell_state1]\n",
    "      states2=[enc_hidden_state2, enc_cell_state2]\n",
    "      '''\n",
    "      dec_embed=self.embedding(input_to_decoder)\n",
    "     \n",
    "      context_vector1,attention_weights1=self.attention(decoder_hidden_state=states1[0], encoder_output=encoder_output[0])\n",
    "      #lstm_layer1\n",
    "      dec_inp=tf.concat([tf.expand_dims(context_vector1, 1),dec_embed],axis=2)\n",
    "      decoder_output,decoder_hidden_state1,decoder_cell_state1=self.lstm1(dec_inp,initial_state=states1)\n",
    "\n",
    "      #lstm_layer2\n",
    "      context_vector2,attention_weights2=self.attention(decoder_hidden_state=states2[0], encoder_output=encoder_output[1])\n",
    "      decoder_output=tf.concat([tf.expand_dims(context_vector2, 1),decoder_output],axis=2)\n",
    "      decoder_output, decoder_hidden_state2, decoder_cell_state2= self.lstm2(decoder_output, initial_state=states2)\n",
    "      \n",
    "      #lstm_layer3\n",
    "      context_vector3,attention_weights3=self.attention(decoder_hidden_state=states3[0], encoder_output=encoder_output[2])\n",
    "      decoder_output=tf.concat([tf.expand_dims(context_vector3, 1),decoder_output],axis=2)\n",
    "      decoder_output, decoder_hidden_state3, decoder_cell_state3= self.lstm3(decoder_output, initial_state=states3)\n",
    "      \n",
    "      decoder_output=self.dense(decoder_output)\n",
    "\n",
    "      decoder_output=tf.reshape(decoder_output,shape=(-1,decoder_output.shape[2]))\n",
    "\n",
    "      states1=[decoder_hidden_state1, decoder_cell_state2]\n",
    "      states2=[decoder_hidden_state2, decoder_cell_state2]\n",
    "      states3=[decoder_hidden_state3, decoder_cell_state3]\n",
    "    \n",
    "      return decoder_output, states1, states2, states3"
   ]
  },
  {
   "cell_type": "code",
   "execution_count": 20,
   "metadata": {
    "id": "RvuJhu6WziTI"
   },
   "outputs": [],
   "source": [
    "class Decoder(tf.keras.layers.Layer):\n",
    "    def __init__(self,dec_vocab_size, embedding_size, dec_input_length, dec_lstm_size ,score_fun ,att_units,embedding_weights_available):\n",
    "      #Intialize necessary variables and create an object from the class onestepdecoder\n",
    "      super().__init__()\n",
    "      self.dec_vocab_size=dec_vocab_size\n",
    "      self.embedding_size=embedding_size\n",
    "      self.dec_lstm_size= dec_lstm_size\n",
    "      self.dec_input_length=dec_input_length\n",
    "      self.score_fun=score_fun\n",
    "      self.att_units=att_units\n",
    "    \n",
    "     \n",
    "      self.onestepdecoder=OneStepDecoder(dec_vocab_size=self.dec_vocab_size, embedding_size=self.embedding_size, dec_input_length=self.dec_input_length, dec_lstm_size=self.dec_lstm_size ,score_fun=self.score_fun ,att_units=self.att_units,embedding_weights_available=embedding_weights_available)\n",
    "    \n",
    "    def call(self, input_to_decoder,encoder_output,states1, states2, states3 ):\n",
    "\n",
    "        #Initialize an empty Tensor array, that will store the outputs at each and every time step\n",
    "        #Create a tensor array as shown in the reference notebook\n",
    "        \n",
    "        #Iterate till the length of the decoder input\n",
    "            # Call onestepdecoder for each token in decoder_input\n",
    "            # Store the output in tensorarray\n",
    "        # Return the tensor array\n",
    "       \n",
    "        all_outputs=tf.TensorArray(tf.float32,size=self.dec_input_length)\n",
    "        #all_outputs=[]\n",
    "        count=0\n",
    "        #print(input_to_decoder[1].shape)\n",
    "        for timestep in range(self.dec_input_length):\n",
    "             #count=count+1\n",
    "             #print(input_to_decoder.shape[1])\n",
    "             #print(count)\n",
    "             decoder_output,states1,states2,states3=self.onestepdecoder(input_to_decoder[:,timestep:timestep+1],encoder_output,states1,states2, states3)\n",
    "             all_outputs=all_outputs.write(timestep,decoder_output)\n",
    "            \n",
    "             #all_outputs.append(decoder_output)\n",
    "        all_outputs=tf.transpose(all_outputs.stack(),[1,0,2])\n",
    "        return all_outputs  "
   ]
  },
  {
   "cell_type": "code",
   "execution_count": 21,
   "metadata": {
    "id": "OAI0E8b7ziPx"
   },
   "outputs": [],
   "source": [
    "class encoder_decoder(tf.keras.Model):\n",
    "\n",
    "  def __init__(self, enc_vocab_size, dec_vocab_size, embedding_size, enc_lstm_size, dec_lstm_size, enc_input_length, dec_input_length, score_fun, att_units, embedding_weights_available):\n",
    "    #Intialize objects from encoder decoder\n",
    "    super().__init__() \n",
    "    self.enc_vocab_size=enc_vocab_size\n",
    "    self.dec_vocab_size=dec_vocab_size\n",
    "    self.embedding_size=embedding_size\n",
    "    self.enc_lstm_size=enc_lstm_size\n",
    "    self.dec_lstm_size=dec_lstm_size\n",
    "    self.enc_input_length=enc_input_length\n",
    "    self.dec_input_length=dec_input_length\n",
    "    self.score_fun=score_fun\n",
    "    self.att_units=att_units\n",
    "\n",
    "   \n",
    "\n",
    "\n",
    "    self.encoder = Encoder(enc_vocab_size=self.enc_vocab_size+1, embedding_size=self.embedding_size, enc_lstm_size=self.enc_lstm_size, enc_input_length=self.enc_input_length, embedding_weights_available=embedding_weights_available)\n",
    "    self.decoder = Decoder(dec_vocab_size=self.dec_vocab_size+1, embedding_size=self.embedding_size,  dec_input_length=self.dec_input_length, dec_lstm_size=self.dec_lstm_size, score_fun= self.score_fun, att_units=self.att_units, embedding_weights_available=embedding_weights_available)\n",
    "   # self.dense   = Dense(output_vocab_size, activation='softmax')\n",
    "\n",
    "  \n",
    "  def call(self,data):\n",
    "    #Intialize encoder states, Pass the encoder_sequence to the embedding layer\n",
    "    # Pass the decoder sequence,encoder_output,decoder states to Decoder\n",
    "    # return the decoder output\n",
    "    input,output = data[0], data[1]\n",
    "\n",
    "    enc_whole_seq_output1, enc_whole_seq_output2, enc_whole_seq_output3, states1, states2, states3 =self.encoder(input)\n",
    "    encoder_output=[enc_whole_seq_output1, enc_whole_seq_output2, enc_whole_seq_output3]\n",
    "\n",
    "    decoder_output=self.decoder(output, encoder_output, states1, states2, states3)\n",
    "    \n",
    "    return decoder_output"
   ]
  },
  {
   "cell_type": "code",
   "execution_count": 22,
   "metadata": {
    "id": "NXWwRRJSziMK"
   },
   "outputs": [],
   "source": [
    "\n",
    "loss_object = tf.keras.losses.SparseCategoricalCrossentropy(\n",
    "    from_logits=True, reduction='none')"
   ]
  },
  {
   "cell_type": "code",
   "execution_count": 23,
   "metadata": {
    "id": "dWtCac2wziJA"
   },
   "outputs": [],
   "source": [
    "def custom_lossfunction(targets,logits):\n",
    "\n",
    "   mask = tf.math.logical_not(tf.math.equal(targets, 0))\n",
    "   loss_ = loss_object(targets,logits)\n",
    "\n",
    "   mask = tf.cast(mask, dtype=loss_.dtype)\n",
    "   loss_ *= mask\n",
    "\n",
    "   return tf.reduce_mean(loss_)"
   ]
  },
  {
   "cell_type": "code",
   "execution_count": 24,
   "metadata": {
    "id": "ds4RKAn4ziFR"
   },
   "outputs": [],
   "source": [
    "early_stop=tf.keras.callbacks.EarlyStopping(\n",
    "    monitor='val_loss', min_delta=0.0001, patience=3, verbose=0,\n",
    "    mode='min', restore_best_weights=True\n",
    ")"
   ]
  },
  {
   "cell_type": "markdown",
   "metadata": {},
   "source": [
    "<h2> MODEL1- no pretrained vector and using function 'dot' for attention</h2>"
   ]
  },
  {
   "cell_type": "code",
   "execution_count": 77,
   "metadata": {
    "colab": {
     "base_uri": "https://localhost:8080/"
    },
    "id": "eSyWhRdbziCS",
    "outputId": "d5b12d82-f892-4c7c-ea7a-fcc327bffc6d"
   },
   "outputs": [
    {
     "name": "stdout",
     "output_type": "stream",
     "text": [
      "using no pretrained vector for embedding\n",
      "Epoch 1/100\n",
      "483/483 [==============================] - 378s 467ms/step - loss: 2.2349 - acc: 0.0469 - val_loss: 2.1754 - val_acc: 0.0477\n",
      "Epoch 2/100\n",
      "483/483 [==============================] - 188s 389ms/step - loss: 2.1881 - acc: 0.0485 - val_loss: 2.1692 - val_acc: 0.0488\n",
      "Epoch 3/100\n",
      "483/483 [==============================] - 188s 389ms/step - loss: 2.1817 - acc: 0.0489 - val_loss: 2.1630 - val_acc: 0.0491\n",
      "Epoch 4/100\n",
      "483/483 [==============================] - 187s 388ms/step - loss: 2.0806 - acc: 0.0562 - val_loss: 1.9452 - val_acc: 0.0664\n",
      "Epoch 5/100\n",
      "483/483 [==============================] - 187s 388ms/step - loss: 1.9073 - acc: 0.0716 - val_loss: 1.8430 - val_acc: 0.0769\n",
      "Epoch 6/100\n",
      "483/483 [==============================] - 188s 389ms/step - loss: 1.8314 - acc: 0.0783 - val_loss: 1.7956 - val_acc: 0.0813\n",
      "Epoch 7/100\n",
      "483/483 [==============================] - 188s 389ms/step - loss: 1.7851 - acc: 0.0817 - val_loss: 1.7666 - val_acc: 0.0835\n",
      "Epoch 8/100\n",
      "483/483 [==============================] - 188s 388ms/step - loss: 1.7503 - acc: 0.0838 - val_loss: 1.7481 - val_acc: 0.0849\n",
      "Epoch 9/100\n",
      "483/483 [==============================] - 188s 389ms/step - loss: 1.7210 - acc: 0.0855 - val_loss: 1.7345 - val_acc: 0.0861\n",
      "Epoch 10/100\n",
      "483/483 [==============================] - 187s 388ms/step - loss: 1.6947 - acc: 0.0871 - val_loss: 1.7268 - val_acc: 0.0868\n",
      "Epoch 11/100\n",
      "483/483 [==============================] - 188s 389ms/step - loss: 1.6703 - acc: 0.0884 - val_loss: 1.7209 - val_acc: 0.0874\n",
      "Epoch 12/100\n",
      "483/483 [==============================] - 187s 388ms/step - loss: 1.6475 - acc: 0.0897 - val_loss: 1.7182 - val_acc: 0.0877\n",
      "Epoch 13/100\n",
      "483/483 [==============================] - 188s 388ms/step - loss: 1.6259 - acc: 0.0908 - val_loss: 1.7178 - val_acc: 0.0880\n",
      "\n",
      "Epoch 00013: ReduceLROnPlateau reducing learning rate to 0.00010000000474974513.\n",
      "Epoch 14/100\n",
      "483/483 [==============================] - 188s 388ms/step - loss: 1.5972 - acc: 0.0928 - val_loss: 1.7126 - val_acc: 0.0882\n",
      "Epoch 15/100\n",
      "483/483 [==============================] - 187s 388ms/step - loss: 1.5903 - acc: 0.0933 - val_loss: 1.7118 - val_acc: 0.0882\n",
      "\n",
      "Epoch 00015: ReduceLROnPlateau reducing learning rate to 0.0001.\n",
      "Epoch 16/100\n",
      "483/483 [==============================] - 187s 388ms/step - loss: 1.5860 - acc: 0.0936 - val_loss: 1.7118 - val_acc: 0.0883\n",
      "Epoch 17/100\n",
      "483/483 [==============================] - 188s 388ms/step - loss: 1.5823 - acc: 0.0938 - val_loss: 1.7117 - val_acc: 0.0883\n",
      "Epoch 18/100\n",
      "483/483 [==============================] - 188s 388ms/step - loss: 1.5790 - acc: 0.0941 - val_loss: 1.7119 - val_acc: 0.0882\n",
      "Model: \"encoder_decoder_5\"\n",
      "_________________________________________________________________\n",
      "Layer (type)                 Output Shape              Param #   \n",
      "=================================================================\n",
      "encoder_5 (Encoder)          multiple                  9845248   \n",
      "_________________________________________________________________\n",
      "decoder_5 (Decoder)          multiple                  19694353  \n",
      "=================================================================\n",
      "Total params: 29,539,601\n",
      "Trainable params: 29,539,601\n",
      "Non-trainable params: 0\n",
      "_________________________________________________________________\n"
     ]
    }
   ],
   "source": [
    "import warnings\n",
    "warnings.filterwarnings(\"ignore\")\n",
    "\n",
    "enc_vocab_size=VOCAB_SIZE\n",
    "dec_vocab_size=VOCAB_SIZE \n",
    "\n",
    "enc_lstm_size=256\n",
    "dec_lstm_size=512\n",
    "score_fun='dot'\n",
    "att_units=512\n",
    "embedding_weights_available=False\n",
    "embedding_size=512\n",
    "enc_input_length=max_length\n",
    "dec_input_length=max_length\n",
    "reduce_lr=tf.keras.callbacks.ReduceLROnPlateau(monitor='val_loss', factor= 0.1, patience=1, verbose=1,mode='min', min_delta=0.001, cooldown=0, min_lr=0.0001)\n",
    "#reduce_lr=tf.keras.callbacks.ReduceLROnPlateau(monitor='val_loss', factor= 0.2, patience=2, verbose=1,mode='min', min_delta=0.001, cooldown=0, min_lr=0.0001)\n",
    "model  = encoder_decoder(enc_vocab_size=enc_vocab_size,dec_vocab_size=dec_vocab_size, embedding_size=embedding_size, enc_lstm_size=enc_lstm_size, dec_lstm_size=dec_lstm_size,  enc_input_length=enc_input_length, dec_input_length=dec_input_length, score_fun=score_fun, att_units=att_units, embedding_weights_available=embedding_weights_available)\n",
    "optimizer = tf.keras.optimizers.Adam( 0.001,decay=1e-5)\n",
    "model.compile(optimizer=optimizer, loss=custom_lossfunction, metrics=['acc'])\n",
    "#train_steps=train.shape[0]//batch_size\n",
    "#valid_steps=validation.shape[0]//batch_size\n",
    "\n",
    "history=model.fit(train_dataset,epochs=100,batch_size=256, validation_data=validation_dataset,callbacks=[reduce_lr,early_stop])\n",
    "#history=model.fit(train_dataloader,steps_per_epoch=train_steps,epochs=100, validation_data=test_dataloader, validation_steps=valid_steps,callbacks=[reduce_lr,early_stop])\n",
    "model.summary()"
   ]
  },
  {
   "cell_type": "code",
   "execution_count": 78,
   "metadata": {
    "colab": {
     "base_uri": "https://localhost:8080/",
     "height": 312
    },
    "id": "MvJZjoCTr53j",
    "outputId": "91d203d0-e87d-4f2c-8f48-484eaac51193"
   },
   "outputs": [
    {
     "data": {
      "text/plain": [
       "[]"
      ]
     },
     "execution_count": 78,
     "metadata": {},
     "output_type": "execute_result"
    },
    {
     "data": {
      "image/png": "[encoded data removed]",
      "text/plain": [
       "<Figure size 432x288 with 1 Axes>"
      ]
     },
     "metadata": {
      "needs_background": "light"
     },
     "output_type": "display_data"
    }
   ],
   "source": [
    "#print history loss validation and training\n",
    "plt.plot(history.history['loss'])\n",
    "plt.plot(history.history['val_loss'])\n",
    "plt.ylabel('LOSS')\n",
    "plt.xlabel('epoch')\n",
    "plt.title('LOSS vs EPOCHS')\n",
    "plt.legend(['train', 'validation'], loc='upper left')\n",
    "plt.plot()"
   ]
  },
  {
   "cell_type": "code",
   "execution_count": 79,
   "metadata": {
    "colab": {
     "base_uri": "https://localhost:8080/",
     "height": 298
    },
    "id": "APbx16Xwr50z",
    "outputId": "256b4bff-8486-4e70-eb4d-0dc7a7a56b6a"
   },
   "outputs": [
    {
     "data": {
      "text/plain": [
       "[]"
      ]
     },
     "execution_count": 79,
     "metadata": {},
     "output_type": "execute_result"
    },
    {
     "data": {
      "image/png": "[encoded data removed]",
      "text/plain": [
       "<Figure size 432x288 with 1 Axes>"
      ]
     },
     "metadata": {
      "needs_background": "light"
     },
     "output_type": "display_data"
    }
   ],
   "source": [
    "#print history accuracy validation and training\n",
    "plt.plot(history.history['acc'])\n",
    "plt.plot(history.history['val_acc'])\n",
    "plt.ylabel('ACCURACYepoch')\n",
    "plt.title('ACCURACY vs EPOCHS')\n",
    "plt.legend(['train', 'validation'], loc='upper left')\n",
    "plt.plot()"
   ]
  },
  {
   "cell_type": "code",
   "execution_count": null,
   "metadata": {
    "id": "4gkZ7R0mr5x5"
   },
   "outputs": [],
   "source": []
  },
  {
   "cell_type": "code",
   "execution_count": 31,
   "metadata": {
    "id": "f22clPe5zh_I"
   },
   "outputs": [],
   "source": [
    "def greedy_search_predict(input_sentence):\n",
    "\n",
    "  '''\n",
    "  A. Given input sentence, convert the sentence into integers using tokenizer used earlier\n",
    "  B. Pass the input_sequence to encoder. we get encoder_outputs, last time step hidden and cell state\n",
    "  C. Initialize index of <start> as input to decoder. and encoder final states as input_states to onestepdecoder.\n",
    "  D. till we reach max_length of decoder or till the model predicted word <end>:\n",
    "         predictions, input_states, attention_weights = model.layers[1].onestepdecoder(input_to_decoder, encoder_output, input_states)\n",
    "         Save the attention weights\n",
    "         And get the word using the tokenizer(word index) and then store it in a string.\n",
    "  E. Call plot_attention(#params)\n",
    "  F. Return the predicted sentence\n",
    "  '''\n",
    "  attention_plot = np.zeros((10, 10))\n",
    "\n",
    "  enc_sent=encoder_token.texts_to_sequences(input_sentence)\n",
    "\n",
    "  padded_enc_sent=pad_sequences(enc_sent,max_length, padding='post')\n",
    "\n",
    " \n",
    "\n",
    "  encoder_embed= model.layers[0].embedding_layer(padded_enc_sent)\n",
    "  \n",
    "  enc_whole_seq_output1,forward_h1,forward_c1,backward_h1,backward_c1= model.layers[0].lstm_layer1(encoder_embed)\n",
    "  enc_whole_seq_output2,forward_h2,forward_c2,backward_h2,backward_c2= model.layers[0].lstm_layer2(enc_whole_seq_output1)\n",
    "  enc_whole_seq_output3,forward_h3,forward_c3,backward_h3,backward_c3= model.layers[0].lstm_layer3(enc_whole_seq_output2)\n",
    "      \n",
    "  enc_hidden_state1=Concatenate()([forward_h1,backward_h1])\n",
    "  enc_cell_state1=Concatenate()([backward_h1,backward_c1])\n",
    "\n",
    "  enc_hidden_state2=Concatenate()([forward_h2,backward_h2])\n",
    "  enc_cell_state2=Concatenate()([backward_h2,backward_c2])\n",
    "\n",
    "  enc_hidden_state3=Concatenate()([forward_h3,backward_h3])\n",
    "  enc_cell_state3=Concatenate()([backward_h3,backward_c3])\n",
    "\n",
    "  states1=[enc_hidden_state1, enc_cell_state1]\n",
    "  states2=[enc_hidden_state2, enc_cell_state2]\n",
    "  states3=[enc_hidden_state3, enc_cell_state3]\n",
    "\n",
    "  \n",
    "\n",
    "  #encoder_output,forward_h,forward_c,backward_h,backward_c=model.layers[0].lstm1(encoder_embed)\n",
    "\n",
    "  word_count=0\n",
    "  pred = []\n",
    "  \n",
    "  dec_input= np.array([[8001]])\n",
    "  #attention_weights_list=[]\n",
    "  #hidden_state_enc=Concatenate()([forward_h,backward_h])\n",
    "  #cell_state_enc=Concatenate()([forward_c,backward_c])\n",
    "  #input_state=[hidden_state_enc,cell_state_enc]\n",
    "  encoder_output=[enc_whole_seq_output1, enc_whole_seq_output2, enc_whole_seq_output3]\n",
    "  while (dec_input!=decoder_token.word_index['<end>'] and word_count<=max_length ):\n",
    "     \n",
    "       decoder_output, states1, states2, states3=model.layers[1].onestepdecoder(dec_input,encoder_output,states1,states2,states3)\n",
    "       \n",
    "      \n",
    "       dec_input=np.reshape(np.argmax(decoder_output), (1, 1))\n",
    "       #input_state=[decoder_hidden_state,decoder_cell_state]\n",
    "     \n",
    "       for key,value in decoder_token.word_index.items():\n",
    "   \n",
    "            if value==dec_input[0]:\n",
    "                word=key\n",
    "              \n",
    "       \n",
    "     \n",
    "       pred.append(word)\n",
    "       word_count=word_count+1\n",
    "      \n",
    "  predicted_sentence=\" \".join(pred)\n",
    "\n",
    " # attention_plot = attention_plot[:len(predicted_sentence.split(' ')), :len(input_sentence[0].split(' '))]\n",
    "  #plot_attention(attention_plot, input_sentence[0].split(),predicted_sentence.split())\n",
    "  \n",
    "  return pred"
   ]
  },
  {
   "cell_type": "code",
   "execution_count": 81,
   "metadata": {
    "colab": {
     "base_uri": "https://localhost:8080/"
    },
    "id": "0rj2tDcrzh8C",
    "outputId": "4a7d4e99-df9c-4e59-8438-d39101fce106"
   },
   "outputs": [
    {
     "name": "stdout",
     "output_type": "stream",
     "text": [
      "question--> hello\n",
      "BOT--> ['<end>']\n",
      "question--> how are you\n",
      "BOT--> ['<end>']\n",
      "question--> once upon a  time there was a man\n",
      "BOT--> ['i', 'am', 'sorry', 'i', 'am', 'not', 'going', 'to', 'be', 'a', 'good', 'man', '<end>']\n",
      "question--> are you sure you will be alright\n",
      "BOT--> ['<end>']\n",
      "question--> are you coming with me to London\n",
      "BOT--> ['i', 'am', 'sorry', 'i', 'am', 'not', 'sure', '<end>']\n",
      "question--> do you know me\n",
      "BOT--> ['i', 'am', 'not', 'sure', '<end>']\n"
     ]
    }
   ],
   "source": [
    "input_sentence=['hello',\n",
    "                'how are you',\n",
    "                'once upon a  time there was a man',\n",
    "                'are you sure you will be alright',\n",
    "                'are you coming with me to London',\n",
    "                'do you know me']\n",
    "for i in input_sentence:\n",
    "    print('question-->',i)\n",
    "    print('BOT-->',greedy_search_predict([i]))"
   ]
  },
  {
   "cell_type": "code",
   "execution_count": 82,
   "metadata": {
    "colab": {
     "base_uri": "https://localhost:8080/"
    },
    "id": "g09y54vizh47",
    "outputId": "088fc27e-99aa-445d-a985-973b9d62e515"
   },
   "outputs": [
    {
     "name": "stdout",
     "output_type": "stream",
     "text": [
      "The average BLEU score of these sentences is 0.36770404745531654\n"
     ]
    }
   ],
   "source": [
    "from  nltk.translate.bleu_score import sentence_bleu\n",
    "val=train.sample(1000)\n",
    "predicted=[]\n",
    "references=[]\n",
    "bleu=[]\n",
    "for i in range(1000):\n",
    "     \n",
    "     candidate=greedy_search_predict([val['questions'].iloc[i]])\n",
    "     reference=[val['answers_out'].iloc[i].split()]\n",
    "     bleu.append(sentence_bleu(reference,candidate,weights=[0.25,0.25,0.25,0.25]))\n",
    "bleu_score=np.mean(bleu)\n",
    "print(\"The average BLEU score of these sentences is\", bleu_score)"
   ]
  },
  {
   "cell_type": "markdown",
   "metadata": {
    "id": "FWS3pxNZvyVj"
   },
   "source": [
    "<h2> MODEL2- no pretrained vector and using function 'general' for attention</h2>"
   ]
  },
  {
   "cell_type": "code",
   "execution_count": 83,
   "metadata": {
    "colab": {
     "base_uri": "https://localhost:8080/"
    },
    "id": "d6XjA0puvtWj",
    "outputId": "8821621c-fae2-4621-b052-676f00b62ede"
   },
   "outputs": [
    {
     "name": "stdout",
     "output_type": "stream",
     "text": [
      "using no pretrained vector for embedding\n",
      "Epoch 1/100\n",
      "483/483 [==============================] - 446s 607ms/step - loss: 2.2351 - acc: 0.0470 - val_loss: 2.1750 - val_acc: 0.0484\n",
      "Epoch 2/100\n",
      "483/483 [==============================] - 252s 521ms/step - loss: 2.1878 - acc: 0.0487 - val_loss: 2.1678 - val_acc: 0.0489\n",
      "Epoch 3/100\n",
      "483/483 [==============================] - 252s 522ms/step - loss: 2.1792 - acc: 0.0489 - val_loss: 2.1605 - val_acc: 0.0489\n",
      "Epoch 4/100\n",
      "483/483 [==============================] - 251s 521ms/step - loss: 2.1178 - acc: 0.0524 - val_loss: 2.0266 - val_acc: 0.0574\n",
      "Epoch 5/100\n",
      "483/483 [==============================] - 252s 521ms/step - loss: 1.9521 - acc: 0.0669 - val_loss: 1.8655 - val_acc: 0.0751\n",
      "Epoch 6/100\n",
      "483/483 [==============================] - 251s 521ms/step - loss: 1.8424 - acc: 0.0774 - val_loss: 1.8002 - val_acc: 0.0811\n",
      "Epoch 7/100\n",
      "483/483 [==============================] - 252s 521ms/step - loss: 1.7858 - acc: 0.0814 - val_loss: 1.7661 - val_acc: 0.0836\n",
      "Epoch 8/100\n",
      "483/483 [==============================] - 251s 521ms/step - loss: 1.7474 - acc: 0.0837 - val_loss: 1.7450 - val_acc: 0.0852\n",
      "Epoch 9/100\n",
      "483/483 [==============================] - 252s 521ms/step - loss: 1.7159 - acc: 0.0855 - val_loss: 1.7308 - val_acc: 0.0863\n",
      "Epoch 10/100\n",
      "483/483 [==============================] - 251s 521ms/step - loss: 1.6888 - acc: 0.0870 - val_loss: 1.7213 - val_acc: 0.0871\n",
      "Epoch 11/100\n",
      "483/483 [==============================] - 252s 521ms/step - loss: 1.6640 - acc: 0.0882 - val_loss: 1.7162 - val_acc: 0.0878\n",
      "Epoch 12/100\n",
      "483/483 [==============================] - 251s 520ms/step - loss: 1.6414 - acc: 0.0894 - val_loss: 1.7132 - val_acc: 0.0880\n",
      "Epoch 13/100\n",
      "483/483 [==============================] - 251s 520ms/step - loss: 1.6197 - acc: 0.0905 - val_loss: 1.7115 - val_acc: 0.0885\n",
      "Epoch 14/100\n",
      "483/483 [==============================] - 251s 520ms/step - loss: 1.5989 - acc: 0.0917 - val_loss: 1.7110 - val_acc: 0.0890\n",
      "\n",
      "Epoch 00014: ReduceLROnPlateau reducing learning rate to 0.00010000000474974513.\n",
      "Epoch 15/100\n",
      "483/483 [==============================] - 251s 520ms/step - loss: 1.5742 - acc: 0.0935 - val_loss: 1.7051 - val_acc: 0.0894\n",
      "Epoch 16/100\n",
      "483/483 [==============================] - 251s 521ms/step - loss: 1.5668 - acc: 0.0937 - val_loss: 1.7046 - val_acc: 0.0894\n",
      "\n",
      "Epoch 00016: ReduceLROnPlateau reducing learning rate to 0.0001.\n",
      "Epoch 17/100\n",
      "483/483 [==============================] - 252s 521ms/step - loss: 1.5622 - acc: 0.0941 - val_loss: 1.7045 - val_acc: 0.0894\n",
      "Epoch 18/100\n",
      "483/483 [==============================] - 252s 521ms/step - loss: 1.5585 - acc: 0.0943 - val_loss: 1.7045 - val_acc: 0.0894\n",
      "Epoch 19/100\n",
      "483/483 [==============================] - 252s 521ms/step - loss: 1.5557 - acc: 0.0945 - val_loss: 1.7047 - val_acc: 0.0894\n",
      "Epoch 20/100\n",
      "483/483 [==============================] - 251s 520ms/step - loss: 1.5522 - acc: 0.0948 - val_loss: 1.7049 - val_acc: 0.0895\n",
      "Model: \"encoder_decoder_6\"\n",
      "_________________________________________________________________\n",
      "Layer (type)                 Output Shape              Param #   \n",
      "=================================================================\n",
      "encoder_6 (Encoder)          multiple                  9845248   \n",
      "_________________________________________________________________\n",
      "decoder_6 (Decoder)          multiple                  19957009  \n",
      "=================================================================\n",
      "Total params: 29,802,257\n",
      "Trainable params: 29,802,257\n",
      "Non-trainable params: 0\n",
      "_________________________________________________________________\n"
     ]
    }
   ],
   "source": [
    "\n",
    "enc_vocab_size=VOCAB_SIZE\n",
    "dec_vocab_size=VOCAB_SIZE \n",
    "\n",
    "enc_lstm_size=256\n",
    "dec_lstm_size=512\n",
    "score_fun='general'\n",
    "att_units=512\n",
    "embedding_weights_available=False\n",
    "embedding_size=512\n",
    "enc_input_length=max_length\n",
    "dec_input_length=max_length\n",
    "reduce_lr=tf.keras.callbacks.ReduceLROnPlateau(monitor='val_loss', factor= 0.1, patience=1, verbose=1,mode='min', min_delta=0.001, cooldown=0, min_lr=0.0001)\n",
    "#reduce_lr=tf.keras.callbacks.ReduceLROnPlateau(monitor='val_loss', factor= 0.2, patience=2, verbose=1,mode='min', min_delta=0.001, cooldown=0, min_lr=0.0001)\n",
    "model  = encoder_decoder(enc_vocab_size=enc_vocab_size,dec_vocab_size=dec_vocab_size, embedding_size=embedding_size, enc_lstm_size=enc_lstm_size, dec_lstm_size=dec_lstm_size,  enc_input_length=enc_input_length, dec_input_length=dec_input_length, score_fun=score_fun, att_units=att_units, embedding_weights_available=embedding_weights_available)\n",
    "optimizer = tf.keras.optimizers.Adam( 0.001,decay=1e-5)\n",
    "model.compile(optimizer=optimizer, loss=custom_lossfunction, metrics=['acc'])\n",
    "#train_steps=train.shape[0]//batch_size\n",
    "#valid_steps=validation.shape[0]//batch_size\n",
    "\n",
    "history=model.fit(train_dataset,epochs=100,batch_size=256, validation_data=validation_dataset,callbacks=[reduce_lr,early_stop])\n",
    "#history=model.fit(train_dataloader,steps_per_epoch=train_steps,epochs=100, validation_data=test_dataloader, validation_steps=valid_steps,callbacks=[reduce_lr,early_stop])\n",
    "model.summary()"
   ]
  },
  {
   "cell_type": "code",
   "execution_count": 84,
   "metadata": {
    "colab": {
     "base_uri": "https://localhost:8080/",
     "height": 312
    },
    "id": "PekGB3TRvtS4",
    "outputId": "0c104e18-9192-424d-bdd2-7f79923a735d"
   },
   "outputs": [
    {
     "data": {
      "text/plain": [
       "[]"
      ]
     },
     "execution_count": 84,
     "metadata": {},
     "output_type": "execute_result"
    },
    {
     "data": {
      "image/png": "[encoded data removed]",
      "text/plain": [
       "<Figure size 432x288 with 1 Axes>"
      ]
     },
     "metadata": {
      "needs_background": "light"
     },
     "output_type": "display_data"
    }
   ],
   "source": [
    "#print history loss validation and training\n",
    "plt.plot(history.history['loss'])\n",
    "plt.plot(history.history['val_loss'])\n",
    "plt.ylabel('LOSS')\n",
    "plt.xlabel('epoch')\n",
    "plt.title('LOSS vs EPOCHS')\n",
    "plt.legend(['train', 'validation'], loc='upper left')\n",
    "plt.plot()"
   ]
  },
  {
   "cell_type": "code",
   "execution_count": 85,
   "metadata": {
    "colab": {
     "base_uri": "https://localhost:8080/",
     "height": 298
    },
    "id": "Qq9aVj7-vtGN",
    "outputId": "c0f536b1-424b-44a3-b76c-e2f9dc58bdb1"
   },
   "outputs": [
    {
     "data": {
      "text/plain": [
       "[]"
      ]
     },
     "execution_count": 85,
     "metadata": {},
     "output_type": "execute_result"
    },
    {
     "data": {
      "image/png": "[encoded data removed]",
      "text/plain": [
       "<Figure size 432x288 with 1 Axes>"
      ]
     },
     "metadata": {
      "needs_background": "light"
     },
     "output_type": "display_data"
    }
   ],
   "source": [
    "#print history accuracy validation and training\n",
    "plt.plot(history.history['acc'])\n",
    "plt.plot(history.history['val_acc'])\n",
    "plt.ylabel('ACCURACYepoch')\n",
    "plt.title('ACCURACY vs EPOCHS')\n",
    "plt.legend(['train', 'validation'], loc='upper left')\n",
    "plt.plot()"
   ]
  },
  {
   "cell_type": "code",
   "execution_count": 86,
   "metadata": {
    "colab": {
     "base_uri": "https://localhost:8080/"
    },
    "id": "8SqMWM9gDTs_",
    "outputId": "5116ce04-a1f1-432e-ee90-75e820d36a9f"
   },
   "outputs": [
    {
     "name": "stdout",
     "output_type": "stream",
     "text": [
      "question--> hello\n",
      "BOT--> ['you', 'are', 'going', 'to', 'be', 'a', 'little', '<end>']\n",
      "question--> how are you\n",
      "BOT--> ['would', 'not', 'be', 'a', 'good', 'man', '<end>']\n",
      "question--> once upon a  time there was a man\n",
      "BOT--> ['i', 'am', 'sorry', '<end>']\n",
      "question--> are you sure you will be alright\n",
      "BOT--> ['i', 'am', 'sorry', 'i', 'am', 'sorry', '<end>']\n",
      "question--> are you coming with me to London\n",
      "BOT--> ['i', 'am', 'sorry', '<end>']\n",
      "question--> do you know me\n",
      "BOT--> ['i', 'am', 'sorry', '<end>']\n"
     ]
    }
   ],
   "source": [
    "input_sentence=['hello',\n",
    "                'how are you',\n",
    "                'once upon a  time there was a man',\n",
    "                'are you sure you will be alright',\n",
    "                'are you coming with me to London',\n",
    "                'do you know me']\n",
    "for i in input_sentence:\n",
    "    print('question-->',i)\n",
    "    print('BOT-->',greedy_search_predict([i]))"
   ]
  },
  {
   "cell_type": "code",
   "execution_count": 87,
   "metadata": {
    "colab": {
     "base_uri": "https://localhost:8080/"
    },
    "id": "Hl_m3IoXDTbB",
    "outputId": "593c67e2-63fc-42f5-f16e-7b7ba706a6ce"
   },
   "outputs": [
    {
     "name": "stdout",
     "output_type": "stream",
     "text": [
      "The average BLEU score of these sentences is 0.38021249193544576\n"
     ]
    }
   ],
   "source": [
    "from  nltk.translate.bleu_score import sentence_bleu\n",
    "val=train.sample(1000)\n",
    "predicted=[]\n",
    "references=[]\n",
    "bleu=[]\n",
    "for i in range(1000):\n",
    "     \n",
    "     candidate=greedy_search_predict([val['questions'].iloc[i]])\n",
    "     reference=[val['answers_out'].iloc[i].split()]\n",
    "     bleu.append(sentence_bleu(reference,candidate,weights=[0.25,0.25,0.25,0.25]))\n",
    "bleu_score=np.mean(bleu)\n",
    "print(\"The average BLEU score of these sentences is\", bleu_score)"
   ]
  },
  {
   "cell_type": "markdown",
   "metadata": {
    "id": "7PoxiDkdD6Lk"
   },
   "source": [
    "<h2> MODEL3- no pretrained vector and using function 'concat' for attention</h2>"
   ]
  },
  {
   "cell_type": "code",
   "execution_count": 88,
   "metadata": {
    "colab": {
     "base_uri": "https://localhost:8080/"
    },
    "id": "TKh1OaWIDTX1",
    "outputId": "275842f4-f40e-4d5a-d539-f61845832b2d"
   },
   "outputs": [
    {
     "name": "stdout",
     "output_type": "stream",
     "text": [
      "using no pretrained vector for embedding\n",
      "Epoch 1/100\n",
      "483/483 [==============================] - 467s 623ms/step - loss: 2.2392 - acc: 0.0475 - val_loss: 2.1814 - val_acc: 0.0478\n",
      "Epoch 2/100\n",
      "483/483 [==============================] - 261s 540ms/step - loss: 2.1933 - acc: 0.0488 - val_loss: 2.1753 - val_acc: 0.0481\n",
      "Epoch 3/100\n",
      "483/483 [==============================] - 261s 540ms/step - loss: 2.1848 - acc: 0.0489 - val_loss: 2.1657 - val_acc: 0.0489\n",
      "Epoch 4/100\n",
      "483/483 [==============================] - 261s 540ms/step - loss: 2.1732 - acc: 0.0489 - val_loss: 2.1546 - val_acc: 0.0488\n",
      "Epoch 5/100\n",
      "483/483 [==============================] - 261s 541ms/step - loss: 2.1571 - acc: 0.0492 - val_loss: 2.0837 - val_acc: 0.0516\n",
      "Epoch 6/100\n",
      "483/483 [==============================] - 261s 540ms/step - loss: 1.9834 - acc: 0.0622 - val_loss: 1.9013 - val_acc: 0.0686\n",
      "Epoch 7/100\n",
      "483/483 [==============================] - 261s 540ms/step - loss: 1.8734 - acc: 0.0736 - val_loss: 1.8303 - val_acc: 0.0779\n",
      "Epoch 8/100\n",
      "483/483 [==============================] - 261s 540ms/step - loss: 1.8132 - acc: 0.0788 - val_loss: 1.7931 - val_acc: 0.0812\n",
      "Epoch 9/100\n",
      "483/483 [==============================] - 261s 540ms/step - loss: 1.7730 - acc: 0.0815 - val_loss: 1.7711 - val_acc: 0.0829\n",
      "Epoch 10/100\n",
      "483/483 [==============================] - 261s 540ms/step - loss: 1.7422 - acc: 0.0834 - val_loss: 1.7566 - val_acc: 0.0839\n",
      "Epoch 11/100\n",
      "483/483 [==============================] - 261s 540ms/step - loss: 1.7160 - acc: 0.0848 - val_loss: 1.7468 - val_acc: 0.0849\n",
      "Epoch 12/100\n",
      "483/483 [==============================] - 261s 540ms/step - loss: 1.6916 - acc: 0.0861 - val_loss: 1.7408 - val_acc: 0.0856\n",
      "Epoch 13/100\n",
      "483/483 [==============================] - 261s 540ms/step - loss: 1.6694 - acc: 0.0874 - val_loss: 1.7362 - val_acc: 0.0862\n",
      "Epoch 14/100\n",
      "483/483 [==============================] - 261s 540ms/step - loss: 1.6481 - acc: 0.0884 - val_loss: 1.7339 - val_acc: 0.0866\n",
      "Epoch 15/100\n",
      "483/483 [==============================] - 261s 540ms/step - loss: 1.6274 - acc: 0.0894 - val_loss: 1.7326 - val_acc: 0.0873\n",
      "Epoch 16/100\n",
      "483/483 [==============================] - 261s 540ms/step - loss: 1.6074 - acc: 0.0906 - val_loss: 1.7326 - val_acc: 0.0876\n",
      "\n",
      "Epoch 00016: ReduceLROnPlateau reducing learning rate to 0.00010000000474974513.\n",
      "Epoch 17/100\n",
      "483/483 [==============================] - 261s 540ms/step - loss: 1.5865 - acc: 0.0922 - val_loss: 1.7255 - val_acc: 0.0880\n",
      "Epoch 18/100\n",
      "483/483 [==============================] - 260s 539ms/step - loss: 1.5790 - acc: 0.0925 - val_loss: 1.7246 - val_acc: 0.0880\n",
      "\n",
      "Epoch 00018: ReduceLROnPlateau reducing learning rate to 0.0001.\n",
      "Epoch 19/100\n",
      "483/483 [==============================] - 260s 539ms/step - loss: 1.5753 - acc: 0.0927 - val_loss: 1.7243 - val_acc: 0.0881\n",
      "Epoch 20/100\n",
      "483/483 [==============================] - 261s 540ms/step - loss: 1.5718 - acc: 0.0930 - val_loss: 1.7242 - val_acc: 0.0881\n",
      "Epoch 21/100\n",
      "483/483 [==============================] - 260s 539ms/step - loss: 1.5683 - acc: 0.0933 - val_loss: 1.7242 - val_acc: 0.0882\n",
      "Epoch 22/100\n",
      "483/483 [==============================] - 260s 538ms/step - loss: 1.5653 - acc: 0.0935 - val_loss: 1.7245 - val_acc: 0.0883\n",
      "Model: \"encoder_decoder_7\"\n",
      "_________________________________________________________________\n",
      "Layer (type)                 Output Shape              Param #   \n",
      "=================================================================\n",
      "encoder_7 (Encoder)          multiple                  9845248   \n",
      "_________________________________________________________________\n",
      "decoder_7 (Decoder)          multiple                  19957522  \n",
      "=================================================================\n",
      "Total params: 29,802,770\n",
      "Trainable params: 29,802,770\n",
      "Non-trainable params: 0\n",
      "_________________________________________________________________\n"
     ]
    }
   ],
   "source": [
    "enc_vocab_size=VOCAB_SIZE\n",
    "dec_vocab_size=VOCAB_SIZE \n",
    "\n",
    "enc_lstm_size=256\n",
    "dec_lstm_size=512\n",
    "score_fun='concat'\n",
    "att_units=512\n",
    "embedding_weights_available=False\n",
    "embedding_size=512\n",
    "enc_input_length=max_length\n",
    "dec_input_length=max_length\n",
    "reduce_lr=tf.keras.callbacks.ReduceLROnPlateau(monitor='val_loss', factor= 0.1, patience=1, verbose=1,mode='min', min_delta=0.001, cooldown=0, min_lr=0.0001)\n",
    "#reduce_lr=tf.keras.callbacks.ReduceLROnPlateau(monitor='val_loss', factor= 0.2, patience=2, verbose=1,mode='min', min_delta=0.001, cooldown=0, min_lr=0.0001)\n",
    "model  = encoder_decoder(enc_vocab_size=enc_vocab_size,dec_vocab_size=dec_vocab_size, embedding_size=embedding_size, enc_lstm_size=enc_lstm_size, dec_lstm_size=dec_lstm_size,  enc_input_length=enc_input_length, dec_input_length=dec_input_length, score_fun=score_fun, att_units=att_units, embedding_weights_available=embedding_weights_available)\n",
    "optimizer = tf.keras.optimizers.Adam( 0.001,decay=1e-5)\n",
    "model.compile(optimizer=optimizer, loss=custom_lossfunction, metrics=['acc'])\n",
    "#train_steps=train.shape[0]//batch_size\n",
    "#valid_steps=validation.shape[0]//batch_size\n",
    "\n",
    "history=model.fit(train_dataset,epochs=100,batch_size=256, validation_data=validation_dataset,callbacks=[reduce_lr,early_stop])\n",
    "#history=model.fit(train_dataloader,steps_per_epoch=train_steps,epochs=100, validation_data=test_dataloader, validation_steps=valid_steps,callbacks=[reduce_lr,early_stop])\n",
    "model.summary()"
   ]
  },
  {
   "cell_type": "code",
   "execution_count": 89,
   "metadata": {
    "colab": {
     "base_uri": "https://localhost:8080/",
     "height": 312
    },
    "id": "JncskjMaDTU3",
    "outputId": "8441a2da-cd23-4b4a-e7f6-873819e3f576"
   },
   "outputs": [
    {
     "data": {
      "text/plain": [
       "[]"
      ]
     },
     "execution_count": 89,
     "metadata": {},
     "output_type": "execute_result"
    },
    {
     "data": {
      "image/png": "[encoded data removed]",
      "text/plain": [
       "<Figure size 432x288 with 1 Axes>"
      ]
     },
     "metadata": {
      "needs_background": "light"
     },
     "output_type": "display_data"
    }
   ],
   "source": [
    "#print history loss validation and training\n",
    "plt.plot(history.history['loss'])\n",
    "plt.plot(history.history['val_loss'])\n",
    "plt.ylabel('LOSS')\n",
    "plt.xlabel('epoch')\n",
    "plt.title('LOSS vs EPOCHS')\n",
    "plt.legend(['train', 'validation'], loc='upper left')\n",
    "plt.plot()"
   ]
  },
  {
   "cell_type": "code",
   "execution_count": 90,
   "metadata": {
    "colab": {
     "base_uri": "https://localhost:8080/",
     "height": 298
    },
    "id": "hE5qOlRpSAUV",
    "outputId": "5b9c7de9-50be-4711-ffe7-ea6e4e86e4cf"
   },
   "outputs": [
    {
     "data": {
      "text/plain": [
       "[]"
      ]
     },
     "execution_count": 90,
     "metadata": {},
     "output_type": "execute_result"
    },
    {
     "data": {
      "image/png": "[encoded data removed]",
      "text/plain": [
       "<Figure size 432x288 with 1 Axes>"
      ]
     },
     "metadata": {
      "needs_background": "light"
     },
     "output_type": "display_data"
    }
   ],
   "source": [
    "#print history accuracy validation and training\n",
    "plt.plot(history.history['acc'])\n",
    "plt.plot(history.history['val_acc'])\n",
    "plt.ylabel('ACCURACYepoch')\n",
    "plt.title('ACCURACY vs EPOCHS')\n",
    "plt.legend(['train', 'validation'], loc='upper left')\n",
    "plt.plot()"
   ]
  },
  {
   "cell_type": "code",
   "execution_count": 91,
   "metadata": {
    "colab": {
     "base_uri": "https://localhost:8080/"
    },
    "id": "vuEMvD6lSARH",
    "outputId": "bf56ccd4-86ab-4e14-a8b5-035670fbf18d"
   },
   "outputs": [
    {
     "name": "stdout",
     "output_type": "stream",
     "text": [
      "question--> hello\n",
      "BOT--> ['is', 'not', 'it', '<end>']\n",
      "question--> how are you\n",
      "BOT--> ['i', 'am', 'not', 'going', 'to', 'be', 'a', 'little', '<end>']\n",
      "question--> once upon a  time there was a man\n",
      "BOT--> ['is', 'not', 'a', 'good', 'time', '<end>']\n",
      "question--> are you sure you will be alright\n",
      "BOT--> ['is', 'not', 'a', 'good', 'time', '<end>']\n",
      "question--> are you coming with me to London\n",
      "BOT--> ['is', 'not', 'a', 'good', 'time', '<end>']\n",
      "question--> do you know me\n",
      "BOT--> ['is', 'not', 'it', '<end>']\n"
     ]
    }
   ],
   "source": [
    "input_sentence=['hello',\n",
    "                'how are you',\n",
    "                'once upon a  time there was a man',\n",
    "                'are you sure you will be alright',\n",
    "                'are you coming with me to London',\n",
    "                'do you know me']\n",
    "for i in input_sentence:\n",
    "    print('question-->',i)\n",
    "    print('BOT-->',greedy_search_predict([i]))"
   ]
  },
  {
   "cell_type": "code",
   "execution_count": 92,
   "metadata": {
    "colab": {
     "base_uri": "https://localhost:8080/"
    },
    "id": "l7MQvOcCSAOC",
    "outputId": "57b2dad0-d734-44f3-e82b-b2e383783c78"
   },
   "outputs": [
    {
     "name": "stdout",
     "output_type": "stream",
     "text": [
      "The average BLEU score of these sentences is 0.3864459398290385\n"
     ]
    }
   ],
   "source": [
    "from  nltk.translate.bleu_score import sentence_bleu\n",
    "val=train.sample(1000)\n",
    "predicted=[]\n",
    "references=[]\n",
    "bleu=[]\n",
    "for i in range(1000):\n",
    "     \n",
    "     candidate=greedy_search_predict([val['questions'].iloc[i]])\n",
    "     reference=[val['answers_out'].iloc[i].split()]\n",
    "     bleu.append(sentence_bleu(reference,candidate,weights=[0.25,0.25,0.25,0.25]))\n",
    "bleu_score=np.mean(bleu)\n",
    "print(\"The average BLEU score of these sentences is\", bleu_score)"
   ]
  },
  {
   "cell_type": "code",
   "execution_count": null,
   "metadata": {
    "id": "QPKOHHqQSALK"
   },
   "outputs": [],
   "source": []
  },
  {
   "cell_type": "markdown",
   "metadata": {
    "id": "TOq05lQHT9lm"
   },
   "source": [
    "<h2> MODEL4-  pretrained vector(GLOVE VECTOR) and using function 'dot' for attention</h2>"
   ]
  },
  {
   "cell_type": "code",
   "execution_count": 25,
   "metadata": {
    "colab": {
     "base_uri": "https://localhost:8080/"
    },
    "id": "sDUXHq9lzh1x",
    "outputId": "89fce99f-9c50-4081-e20e-d9b5d10bffed"
   },
   "outputs": [
    {
     "name": "stdout",
     "output_type": "stream",
     "text": [
      "--2021-10-21 04:43:08--  https://www.dropbox.com/s/ddkmtqz01jc024u/glove.6B.100d.txt\n",
      "Resolving www.dropbox.com (www.dropbox.com)... 162.125.1.18, 2620:100:6016:18::a27d:112\n",
      "Connecting to www.dropbox.com (www.dropbox.com)|162.125.1.18|:443... connected.\n",
      "HTTP request sent, awaiting response... 301 Moved Permanently\n",
      "Location: /s/raw/ddkmtqz01jc024u/glove.6B.100d.txt [following]\n",
      "--2021-10-21 04:43:08--  https://www.dropbox.com/s/raw/ddkmtqz01jc024u/glove.6B.100d.txt\n",
      "Reusing existing connection to www.dropbox.com:443.\n",
      "HTTP request sent, awaiting response... 302 Found\n",
      "Location: https://uc56ca05b58a26d4189f8e4d2b94.dl.dropboxusercontent.com/cd/0/inline/BYZ9dA-UuPE1YFhchnWX1CuYyTZdx7L4uBA82TrwlbNnUBcM4rd13TspyJC_WIULfY7qailUCQxYWQrWM11_hA6p2HCBvEqvSoaekxyzCXJEIB9590c82z_bM-sy49DEpms4tIfiAcW3UYVqO0KBn7sp/file# [following]\n",
      "--2021-10-21 04:43:08--  https://uc56ca05b58a26d4189f8e4d2b94.dl.dropboxusercontent.com/cd/0/inline/BYZ9dA-UuPE1YFhchnWX1CuYyTZdx7L4uBA82TrwlbNnUBcM4rd13TspyJC_WIULfY7qailUCQxYWQrWM11_hA6p2HCBvEqvSoaekxyzCXJEIB9590c82z_bM-sy49DEpms4tIfiAcW3UYVqO0KBn7sp/file\n",
      "Resolving uc56ca05b58a26d4189f8e4d2b94.dl.dropboxusercontent.com (uc56ca05b58a26d4189f8e4d2b94.dl.dropboxusercontent.com)... 162.125.1.15, 2620:100:6016:15::a27d:10f\n",
      "Connecting to uc56ca05b58a26d4189f8e4d2b94.dl.dropboxusercontent.com (uc56ca05b58a26d4189f8e4d2b94.dl.dropboxusercontent.com)|162.125.1.15|:443... connected.\n",
      "HTTP request sent, awaiting response... 200 OK\n",
      "Length: 347116733 (331M) [text/plain]\n",
      "Saving to: ‘glove.6B.100d.txt’\n",
      "\n",
      "glove.6B.100d.txt   100%[===================>] 331.04M  45.3MB/s    in 8.4s    \n",
      "\n",
      "2021-10-21 04:43:17 (39.6 MB/s) - ‘glove.6B.100d.txt’ saved [347116733/347116733]\n",
      "\n"
     ]
    }
   ],
   "source": [
    "!wget https://www.dropbox.com/s/ddkmtqz01jc024u/glove.6B.100d.txt"
   ]
  },
  {
   "cell_type": "code",
   "execution_count": 26,
   "metadata": {
    "id": "aKVI3NNFzhx8"
   },
   "outputs": [],
   "source": [
    "embeddings_index = dict()\n",
    "f = open('glove.6B.100d.txt')\n",
    "for line in f:\n",
    "    values = line.split()\n",
    "    word = values[0]\n",
    "    coefs = np.asarray(values[1:], dtype='float32')\n",
    "    embeddings_index[word] = coefs\n",
    "f.close()\n",
    "\n",
    "embedding_matrix_encoder = np.zeros((VOCAB_SIZE+1, 100))\n",
    "for word, i in encoder_token.word_index.items():\n",
    "   if i<VOCAB_SIZE:\n",
    "      embedding_vector = embeddings_index.get(word)\n",
    "      if embedding_vector is not None:\n",
    "          embedding_matrix_encoder[i] = embedding_vector\n",
    "\n",
    "embedding_matrix_decoder = np.zeros((VOCAB_SIZE+1, 100))\n",
    "\n",
    "for word, i in decoder_token.word_index.items():\n",
    "  if i<VOCAB_SIZE:\n",
    "      embedding_vector = embeddings_index.get(word)\n",
    "      if embedding_vector is not None:\n",
    "          embedding_matrix_decoder[i] = embedding_vector"
   ]
  },
  {
   "cell_type": "code",
   "execution_count": 101,
   "metadata": {
    "colab": {
     "base_uri": "https://localhost:8080/"
    },
    "id": "57AJVlKNUIYv",
    "outputId": "45fe52e7-c85e-43a2-c7f2-9ffb430907f3"
   },
   "outputs": [
    {
     "name": "stdout",
     "output_type": "stream",
     "text": [
      "using pretrained vector for embedding\n",
      "Epoch 1/100\n",
      "483/483 [==============================] - 378s 445ms/step - loss: 2.2268 - acc: 0.0476 - val_loss: 2.1796 - val_acc: 0.0481\n",
      "Epoch 2/100\n",
      "483/483 [==============================] - 180s 373ms/step - loss: 2.1811 - acc: 0.0497 - val_loss: 2.1349 - val_acc: 0.0506\n",
      "Epoch 3/100\n",
      "483/483 [==============================] - 180s 373ms/step - loss: 2.1017 - acc: 0.0551 - val_loss: 1.9571 - val_acc: 0.0650\n",
      "Epoch 4/100\n",
      "483/483 [==============================] - 180s 374ms/step - loss: 1.9560 - acc: 0.0655 - val_loss: 1.8614 - val_acc: 0.0732\n",
      "Epoch 5/100\n",
      "483/483 [==============================] - 180s 372ms/step - loss: 1.8920 - acc: 0.0703 - val_loss: 1.8188 - val_acc: 0.0764\n",
      "Epoch 6/100\n",
      "483/483 [==============================] - 180s 372ms/step - loss: 1.8521 - acc: 0.0729 - val_loss: 1.7916 - val_acc: 0.0786\n",
      "Epoch 7/100\n",
      "483/483 [==============================] - 180s 374ms/step - loss: 1.8216 - acc: 0.0748 - val_loss: 1.7726 - val_acc: 0.0800\n",
      "Epoch 8/100\n",
      "483/483 [==============================] - 181s 374ms/step - loss: 1.7959 - acc: 0.0763 - val_loss: 1.7579 - val_acc: 0.0815\n",
      "Epoch 9/100\n",
      "483/483 [==============================] - 180s 374ms/step - loss: 1.7735 - acc: 0.0775 - val_loss: 1.7470 - val_acc: 0.0823\n",
      "Epoch 10/100\n",
      "483/483 [==============================] - 180s 374ms/step - loss: 1.7529 - acc: 0.0785 - val_loss: 1.7391 - val_acc: 0.0830\n",
      "Epoch 11/100\n",
      "483/483 [==============================] - 180s 374ms/step - loss: 1.7335 - acc: 0.0793 - val_loss: 1.7327 - val_acc: 0.0840\n",
      "Epoch 12/100\n",
      "483/483 [==============================] - 180s 373ms/step - loss: 1.7157 - acc: 0.0802 - val_loss: 1.7299 - val_acc: 0.0844\n",
      "Epoch 13/100\n",
      "483/483 [==============================] - 181s 375ms/step - loss: 1.6984 - acc: 0.0810 - val_loss: 1.7272 - val_acc: 0.0848\n",
      "Epoch 14/100\n",
      "483/483 [==============================] - 181s 375ms/step - loss: 1.6823 - acc: 0.0815 - val_loss: 1.7253 - val_acc: 0.0855\n",
      "Epoch 15/100\n",
      "483/483 [==============================] - 181s 375ms/step - loss: 1.6664 - acc: 0.0823 - val_loss: 1.7253 - val_acc: 0.0858\n",
      "\n",
      "Epoch 00015: ReduceLROnPlateau reducing learning rate to 0.00010000000474974513.\n",
      "Epoch 16/100\n",
      "483/483 [==============================] - 181s 375ms/step - loss: 1.6452 - acc: 0.0834 - val_loss: 1.7183 - val_acc: 0.0863\n",
      "Epoch 17/100\n",
      "483/483 [==============================] - 181s 375ms/step - loss: 1.6396 - acc: 0.0835 - val_loss: 1.7173 - val_acc: 0.0864\n",
      "Epoch 18/100\n",
      "483/483 [==============================] - 181s 375ms/step - loss: 1.6366 - acc: 0.0837 - val_loss: 1.7166 - val_acc: 0.0865\n",
      "\n",
      "Epoch 00018: ReduceLROnPlateau reducing learning rate to 0.0001.\n",
      "Epoch 19/100\n",
      "483/483 [==============================] - 181s 375ms/step - loss: 1.6340 - acc: 0.0838 - val_loss: 1.7164 - val_acc: 0.0865\n",
      "Epoch 20/100\n",
      "483/483 [==============================] - 181s 375ms/step - loss: 1.6319 - acc: 0.0839 - val_loss: 1.7162 - val_acc: 0.0866\n",
      "Epoch 21/100\n",
      "483/483 [==============================] - 181s 376ms/step - loss: 1.6296 - acc: 0.0841 - val_loss: 1.7161 - val_acc: 0.0867\n",
      "Epoch 22/100\n",
      "483/483 [==============================] - 181s 375ms/step - loss: 1.6274 - acc: 0.0842 - val_loss: 1.7160 - val_acc: 0.0867\n",
      "Epoch 23/100\n",
      "483/483 [==============================] - 181s 375ms/step - loss: 1.6257 - acc: 0.0844 - val_loss: 1.7160 - val_acc: 0.0868\n",
      "Epoch 24/100\n",
      "483/483 [==============================] - 181s 375ms/step - loss: 1.6239 - acc: 0.0844 - val_loss: 1.7158 - val_acc: 0.0869\n",
      "Epoch 25/100\n",
      "483/483 [==============================] - 181s 375ms/step - loss: 1.6222 - acc: 0.0845 - val_loss: 1.7157 - val_acc: 0.0869\n",
      "Epoch 26/100\n",
      "483/483 [==============================] - 181s 375ms/step - loss: 1.6204 - acc: 0.0845 - val_loss: 1.7156 - val_acc: 0.0869\n",
      "Epoch 27/100\n",
      "483/483 [==============================] - 181s 375ms/step - loss: 1.6189 - acc: 0.0847 - val_loss: 1.7156 - val_acc: 0.0871\n",
      "Epoch 28/100\n",
      "483/483 [==============================] - 181s 375ms/step - loss: 1.6176 - acc: 0.0848 - val_loss: 1.7158 - val_acc: 0.0871\n",
      "Epoch 29/100\n",
      "483/483 [==============================] - 181s 375ms/step - loss: 1.6156 - acc: 0.0849 - val_loss: 1.7156 - val_acc: 0.0870\n",
      "Model: \"encoder_decoder_8\"\n",
      "_________________________________________________________________\n",
      "Layer (type)                 Output Shape              Param #   \n",
      "=================================================================\n",
      "encoder_8 (Encoder)          multiple                  4881060   \n",
      "_________________________________________________________________\n",
      "decoder_8 (Decoder)          multiple                  14730165  \n",
      "=================================================================\n",
      "Total params: 19,611,225\n",
      "Trainable params: 17,611,025\n",
      "Non-trainable params: 2,000,200\n",
      "_________________________________________________________________\n"
     ]
    }
   ],
   "source": [
    "enc_vocab_size=VOCAB_SIZE\n",
    "dec_vocab_size=VOCAB_SIZE \n",
    "\n",
    "enc_lstm_size=256\n",
    "dec_lstm_size=512\n",
    "score_fun='dot'\n",
    "att_units=512\n",
    "embedding_weights_available=True\n",
    "embedding_size=100\n",
    "enc_input_length=max_length\n",
    "dec_input_length=max_length\n",
    "reduce_lr=tf.keras.callbacks.ReduceLROnPlateau(monitor='val_loss', factor= 0.1, patience=1, verbose=1,mode='min', min_delta=0.001, cooldown=0, min_lr=0.0001)\n",
    "#reduce_lr=tf.keras.callbacks.ReduceLROnPlateau(monitor='val_loss', factor= 0.2, patience=2, verbose=1,mode='min', min_delta=0.001, cooldown=0, min_lr=0.0001)\n",
    "model  = encoder_decoder(enc_vocab_size=enc_vocab_size,dec_vocab_size=dec_vocab_size, embedding_size=embedding_size, enc_lstm_size=enc_lstm_size, dec_lstm_size=dec_lstm_size,  enc_input_length=enc_input_length, dec_input_length=dec_input_length, score_fun=score_fun, att_units=att_units, embedding_weights_available=embedding_weights_available)\n",
    "optimizer = tf.keras.optimizers.Adam( 0.001,decay=1e-5)\n",
    "model.compile(optimizer=optimizer, loss=custom_lossfunction, metrics=['acc'])\n",
    "#train_steps=train.shape[0]//batch_size\n",
    "#valid_steps=validation.shape[0]//batch_size\n",
    "\n",
    "history=model.fit(train_dataset,epochs=100,batch_size=256, validation_data=validation_dataset,callbacks=[reduce_lr,early_stop])\n",
    "#history=model.fit(train_dataloader,steps_per_epoch=train_steps,epochs=100, validation_data=test_dataloader, validation_steps=valid_steps,callbacks=[reduce_lr,early_stop])\n",
    "model.summary()"
   ]
  },
  {
   "cell_type": "code",
   "execution_count": 102,
   "metadata": {
    "colab": {
     "base_uri": "https://localhost:8080/",
     "height": 312
    },
    "id": "UsgRBuG8UIWO",
    "outputId": "54b320d3-b0f0-4c8d-d98f-84eef2c79f1e"
   },
   "outputs": [
    {
     "data": {
      "text/plain": [
       "[]"
      ]
     },
     "execution_count": 102,
     "metadata": {},
     "output_type": "execute_result"
    },
    {
     "data": {
      "image/png": "[encoded data removed]",
      "text/plain": [
       "<Figure size 432x288 with 1 Axes>"
      ]
     },
     "metadata": {
      "needs_background": "light"
     },
     "output_type": "display_data"
    }
   ],
   "source": [
    "#print history loss validation and training\n",
    "plt.plot(history.history['loss'])\n",
    "plt.plot(history.history['val_loss'])\n",
    "plt.ylabel('LOSS')\n",
    "plt.xlabel('epoch')\n",
    "plt.title('LOSS vs EPOCHS')\n",
    "plt.legend(['train', 'validation'], loc='upper left')\n",
    "plt.plot()"
   ]
  },
  {
   "cell_type": "code",
   "execution_count": 103,
   "metadata": {
    "colab": {
     "base_uri": "https://localhost:8080/",
     "height": 298
    },
    "id": "RMWbqj8NcckD",
    "outputId": "1c5956b8-0478-4349-c988-fa38d0e8d09e"
   },
   "outputs": [
    {
     "data": {
      "text/plain": [
       "[]"
      ]
     },
     "execution_count": 103,
     "metadata": {},
     "output_type": "execute_result"
    },
    {
     "data": {
      "image/png": "[encoded data removed]",
      "text/plain": [
       "<Figure size 432x288 with 1 Axes>"
      ]
     },
     "metadata": {
      "needs_background": "light"
     },
     "output_type": "display_data"
    }
   ],
   "source": [
    "#print history accuracy validation and training\n",
    "plt.plot(history.history['acc'])\n",
    "plt.plot(history.history['val_acc'])\n",
    "plt.ylabel('ACCURACYepoch')\n",
    "plt.title('ACCURACY vs EPOCHS')\n",
    "plt.legend(['train', 'validation'], loc='upper left')\n",
    "plt.plot()"
   ]
  },
  {
   "cell_type": "code",
   "execution_count": 104,
   "metadata": {
    "colab": {
     "base_uri": "https://localhost:8080/"
    },
    "id": "HHOpDvjecchI",
    "outputId": "d0f95d6c-86e5-44ae-8e5c-dfe9da6e6486"
   },
   "outputs": [
    {
     "name": "stdout",
     "output_type": "stream",
     "text": [
      "question--> hello\n",
      "BOT--> ['i', 'am', 'sorry', '<end>']\n",
      "question--> how are you\n",
      "BOT--> ['i', 'am', 'sorry', '<end>']\n",
      "question--> once upon a  time there was a man\n",
      "BOT--> ['i', 'am', 'sorry', '<end>']\n",
      "question--> are you sure you will be alright\n",
      "BOT--> ['i', 'am', 'sorry', '<end>']\n",
      "question--> are you coming with me to London\n",
      "BOT--> ['is', 'she', '<end>']\n",
      "question--> do you know me\n",
      "BOT--> ['<end>']\n"
     ]
    }
   ],
   "source": [
    "input_sentence=['hello',\n",
    "                'how are you',\n",
    "                'once upon a  time there was a man',\n",
    "                'are you sure you will be alright',\n",
    "                'are you coming with me to London',\n",
    "                'do you know me']\n",
    "for i in input_sentence:\n",
    "    print('question-->',i)\n",
    "    print('BOT-->',greedy_search_predict([i]))"
   ]
  },
  {
   "cell_type": "code",
   "execution_count": 105,
   "metadata": {
    "colab": {
     "base_uri": "https://localhost:8080/"
    },
    "id": "BpxuSqDzcceA",
    "outputId": "865a8dfd-f83c-43e1-edc8-b5ce14f4a00a"
   },
   "outputs": [
    {
     "name": "stdout",
     "output_type": "stream",
     "text": [
      "The average BLEU score of these sentences is 0.33210343809668563\n"
     ]
    }
   ],
   "source": [
    "from  nltk.translate.bleu_score import sentence_bleu\n",
    "val=train.sample(1000)\n",
    "predicted=[]\n",
    "references=[]\n",
    "bleu=[]\n",
    "for i in range(1000):\n",
    "     \n",
    "     candidate=greedy_search_predict([val['questions'].iloc[i]])\n",
    "     reference=[val['answers_out'].iloc[i].split()]\n",
    "     bleu.append(sentence_bleu(reference,candidate,weights=[0.25,0.25,0.25,0.25]))\n",
    "bleu_score=np.mean(bleu)\n",
    "print(\"The average BLEU score of these sentences is\", bleu_score)"
   ]
  },
  {
   "cell_type": "markdown",
   "metadata": {
    "id": "IH2YNnQXcoSs"
   },
   "source": [
    "<h2> MODEL5-  pretrained vector(GLOVE VECTOR) and using function 'general' for attention</h2>"
   ]
  },
  {
   "cell_type": "code",
   "execution_count": 106,
   "metadata": {
    "colab": {
     "base_uri": "https://localhost:8080/"
    },
    "id": "_p5SSu9gUIQP",
    "outputId": "e0b8f878-0fb7-4d2a-a86c-f2aeba29d259"
   },
   "outputs": [
    {
     "name": "stdout",
     "output_type": "stream",
     "text": [
      "using pretrained vector for embedding\n",
      "Epoch 1/100\n",
      "483/483 [==============================] - 443s 583ms/step - loss: 2.2269 - acc: 0.0476 - val_loss: 2.1826 - val_acc: 0.0479\n",
      "Epoch 2/100\n",
      "483/483 [==============================] - 245s 507ms/step - loss: 2.1954 - acc: 0.0489 - val_loss: 2.1672 - val_acc: 0.0504\n",
      "Epoch 3/100\n",
      "483/483 [==============================] - 245s 507ms/step - loss: 2.1447 - acc: 0.0518 - val_loss: 2.0070 - val_acc: 0.0606\n",
      "Epoch 4/100\n",
      "483/483 [==============================] - 244s 506ms/step - loss: 1.9831 - acc: 0.0632 - val_loss: 1.8768 - val_acc: 0.0721\n",
      "Epoch 5/100\n",
      "483/483 [==============================] - 244s 506ms/step - loss: 1.8994 - acc: 0.0695 - val_loss: 1.8231 - val_acc: 0.0759\n",
      "Epoch 6/100\n",
      "483/483 [==============================] - 244s 505ms/step - loss: 1.8532 - acc: 0.0726 - val_loss: 1.7941 - val_acc: 0.0782\n",
      "Epoch 7/100\n",
      "483/483 [==============================] - 244s 505ms/step - loss: 1.8196 - acc: 0.0748 - val_loss: 1.7731 - val_acc: 0.0799\n",
      "Epoch 8/100\n",
      "483/483 [==============================] - 243s 504ms/step - loss: 1.7926 - acc: 0.0763 - val_loss: 1.7587 - val_acc: 0.0812\n",
      "Epoch 9/100\n",
      "483/483 [==============================] - 243s 503ms/step - loss: 1.7681 - acc: 0.0775 - val_loss: 1.7474 - val_acc: 0.0824\n",
      "Epoch 10/100\n",
      "483/483 [==============================] - 243s 504ms/step - loss: 1.7466 - acc: 0.0786 - val_loss: 1.7400 - val_acc: 0.0831\n",
      "Epoch 11/100\n",
      "483/483 [==============================] - 243s 503ms/step - loss: 1.7267 - acc: 0.0794 - val_loss: 1.7350 - val_acc: 0.0838\n",
      "Epoch 12/100\n",
      "483/483 [==============================] - 243s 504ms/step - loss: 1.7075 - acc: 0.0805 - val_loss: 1.7310 - val_acc: 0.0844\n",
      "Epoch 13/100\n",
      "483/483 [==============================] - 243s 503ms/step - loss: 1.6897 - acc: 0.0813 - val_loss: 1.7292 - val_acc: 0.0848\n",
      "Epoch 14/100\n",
      "483/483 [==============================] - 242s 502ms/step - loss: 1.6727 - acc: 0.0819 - val_loss: 1.7286 - val_acc: 0.0853\n",
      "\n",
      "Epoch 00014: ReduceLROnPlateau reducing learning rate to 0.00010000000474974513.\n",
      "Epoch 15/100\n",
      "483/483 [==============================] - 242s 501ms/step - loss: 1.6495 - acc: 0.0829 - val_loss: 1.7207 - val_acc: 0.0859\n",
      "Epoch 16/100\n",
      "483/483 [==============================] - 243s 503ms/step - loss: 1.6434 - acc: 0.0834 - val_loss: 1.7199 - val_acc: 0.0860\n",
      "\n",
      "Epoch 00016: ReduceLROnPlateau reducing learning rate to 0.0001.\n",
      "Epoch 17/100\n",
      "483/483 [==============================] - 243s 502ms/step - loss: 1.6398 - acc: 0.0836 - val_loss: 1.7195 - val_acc: 0.0860\n",
      "Epoch 18/100\n",
      "483/483 [==============================] - 242s 502ms/step - loss: 1.6379 - acc: 0.0837 - val_loss: 1.7192 - val_acc: 0.0861\n",
      "Epoch 19/100\n",
      "483/483 [==============================] - 242s 501ms/step - loss: 1.6349 - acc: 0.0837 - val_loss: 1.7188 - val_acc: 0.0862\n",
      "Epoch 20/100\n",
      "483/483 [==============================] - 243s 502ms/step - loss: 1.6324 - acc: 0.0838 - val_loss: 1.7188 - val_acc: 0.0862\n",
      "Epoch 21/100\n",
      "483/483 [==============================] - 242s 501ms/step - loss: 1.6303 - acc: 0.0839 - val_loss: 1.7189 - val_acc: 0.0863\n",
      "Epoch 22/100\n",
      "483/483 [==============================] - 242s 501ms/step - loss: 1.6284 - acc: 0.0841 - val_loss: 1.7188 - val_acc: 0.0863\n",
      "Model: \"encoder_decoder_9\"\n",
      "_________________________________________________________________\n",
      "Layer (type)                 Output Shape              Param #   \n",
      "=================================================================\n",
      "encoder_9 (Encoder)          multiple                  4881060   \n",
      "_________________________________________________________________\n",
      "decoder_9 (Decoder)          multiple                  14992821  \n",
      "=================================================================\n",
      "Total params: 19,873,881\n",
      "Trainable params: 17,873,681\n",
      "Non-trainable params: 2,000,200\n",
      "_________________________________________________________________\n"
     ]
    }
   ],
   "source": [
    "enc_vocab_size=VOCAB_SIZE\n",
    "dec_vocab_size=VOCAB_SIZE \n",
    "\n",
    "enc_lstm_size=256\n",
    "dec_lstm_size=512\n",
    "score_fun='general'\n",
    "att_units=512\n",
    "embedding_weights_available=True\n",
    "embedding_size=100\n",
    "enc_input_length=max_length\n",
    "dec_input_length=max_length\n",
    "reduce_lr=tf.keras.callbacks.ReduceLROnPlateau(monitor='val_loss', factor= 0.1, patience=1, verbose=1,mode='min', min_delta=0.001, cooldown=0, min_lr=0.0001)\n",
    "#reduce_lr=tf.keras.callbacks.ReduceLROnPlateau(monitor='val_loss', factor= 0.2, patience=2, verbose=1,mode='min', min_delta=0.001, cooldown=0, min_lr=0.0001)\n",
    "model  = encoder_decoder(enc_vocab_size=enc_vocab_size,dec_vocab_size=dec_vocab_size, embedding_size=embedding_size, enc_lstm_size=enc_lstm_size, dec_lstm_size=dec_lstm_size,  enc_input_length=enc_input_length, dec_input_length=dec_input_length, score_fun=score_fun, att_units=att_units, embedding_weights_available=embedding_weights_available)\n",
    "optimizer = tf.keras.optimizers.Adam( 0.001,decay=1e-5)\n",
    "model.compile(optimizer=optimizer, loss=custom_lossfunction, metrics=['acc'])\n",
    "#train_steps=train.shape[0]//batch_size\n",
    "#valid_steps=validation.shape[0]//batch_size\n",
    "\n",
    "history=model.fit(train_dataset,epochs=100,batch_size=256, validation_data=validation_dataset,callbacks=[reduce_lr,early_stop])\n",
    "#history=model.fit(train_dataloader,steps_per_epoch=train_steps,epochs=100, validation_data=test_dataloader, validation_steps=valid_steps,callbacks=[reduce_lr,early_stop])\n",
    "model.summary()"
   ]
  },
  {
   "cell_type": "code",
   "execution_count": 107,
   "metadata": {
    "colab": {
     "base_uri": "https://localhost:8080/",
     "height": 312
    },
    "id": "Mp5eDTy0c13E",
    "outputId": "b07abd65-bc80-4caf-a698-85db22be865e"
   },
   "outputs": [
    {
     "data": {
      "text/plain": [
       "[]"
      ]
     },
     "execution_count": 107,
     "metadata": {},
     "output_type": "execute_result"
    },
    {
     "data": {
      "image/png": "[encoded data removed]",
      "text/plain": [
       "<Figure size 432x288 with 1 Axes>"
      ]
     },
     "metadata": {
      "needs_background": "light"
     },
     "output_type": "display_data"
    }
   ],
   "source": [
    "#print history loss validation and training\n",
    "plt.plot(history.history['loss'])\n",
    "plt.plot(history.history['val_loss'])\n",
    "plt.ylabel('LOSS')\n",
    "plt.xlabel('epoch')\n",
    "plt.title('LOSS vs EPOCHS')\n",
    "plt.legend(['train', 'validation'], loc='upper left')\n",
    "plt.plot()"
   ]
  },
  {
   "cell_type": "code",
   "execution_count": 108,
   "metadata": {
    "colab": {
     "base_uri": "https://localhost:8080/",
     "height": 298
    },
    "id": "1DWxrrYVc1yt",
    "outputId": "1ae1c915-3fc1-4974-db4f-c4a774e30f9f"
   },
   "outputs": [
    {
     "data": {
      "text/plain": [
       "[]"
      ]
     },
     "execution_count": 108,
     "metadata": {},
     "output_type": "execute_result"
    },
    {
     "data": {
      "image/png": "[encoded data removed]",
      "text/plain": [
       "<Figure size 432x288 with 1 Axes>"
      ]
     },
     "metadata": {
      "needs_background": "light"
     },
     "output_type": "display_data"
    }
   ],
   "source": [
    "#print history accuracy validation and training\n",
    "plt.plot(history.history['acc'])\n",
    "plt.plot(history.history['val_acc'])\n",
    "plt.ylabel('ACCURACYepoch')\n",
    "plt.title('ACCURACY vs EPOCHS')\n",
    "plt.legend(['train', 'validation'], loc='upper left')\n",
    "plt.plot()"
   ]
  },
  {
   "cell_type": "code",
   "execution_count": 109,
   "metadata": {
    "colab": {
     "base_uri": "https://localhost:8080/"
    },
    "id": "FfcltlXDc1vY",
    "outputId": "46a7e0a9-0ea6-439d-f8d0-21e3deb397ab"
   },
   "outputs": [
    {
     "name": "stdout",
     "output_type": "stream",
     "text": [
      "question--> hello\n",
      "BOT--> ['<end>']\n",
      "question--> how are you\n",
      "BOT--> ['i', 'am', 'not', 'sure', 'i', 'am', 'not', 'going', 'to', 'be', '<end>']\n",
      "question--> once upon a  time there was a man\n",
      "BOT--> ['i', 'am', 'not', 'sure', 'i', 'am', 'not', 'sure', '<end>']\n",
      "question--> are you sure you will be alright\n",
      "BOT--> ['i', 'do', 'not', 'know', '<end>']\n",
      "question--> are you coming with me to London\n",
      "BOT--> ['i', 'do', 'not', 'know', '<end>']\n",
      "question--> do you know me\n",
      "BOT--> ['i', 'do', 'not', 'know', '<end>']\n"
     ]
    }
   ],
   "source": [
    "input_sentence=['hello',\n",
    "                'how are you',\n",
    "                'once upon a  time there was a man',\n",
    "                'are you sure you will be alright',\n",
    "                'are you coming with me to London',\n",
    "                'do you know me']\n",
    "for i in input_sentence:\n",
    "    print('question-->',i)\n",
    "    print('BOT-->',greedy_search_predict([i]))"
   ]
  },
  {
   "cell_type": "code",
   "execution_count": 110,
   "metadata": {
    "colab": {
     "base_uri": "https://localhost:8080/"
    },
    "id": "bE_wL_L9c9YR",
    "outputId": "c967a5cd-c737-4d18-ed15-c1ed527bcd0c"
   },
   "outputs": [
    {
     "name": "stdout",
     "output_type": "stream",
     "text": [
      "The average BLEU score of these sentences is 0.3643019492345212\n"
     ]
    }
   ],
   "source": [
    "from  nltk.translate.bleu_score import sentence_bleu\n",
    "val=train.sample(1000)\n",
    "predicted=[]\n",
    "references=[]\n",
    "bleu=[]\n",
    "for i in range(1000):\n",
    "     \n",
    "     candidate=greedy_search_predict([val['questions'].iloc[i]])\n",
    "     reference=[val['answers_out'].iloc[i].split()]\n",
    "     bleu.append(sentence_bleu(reference,candidate,weights=[0.25,0.25,0.25,0.25]))\n",
    "bleu_score=np.mean(bleu)\n",
    "print(\"The average BLEU score of these sentences is\", bleu_score)"
   ]
  },
  {
   "cell_type": "markdown",
   "metadata": {
    "id": "JK1yPLjkc-DR"
   },
   "source": [
    "<h2> MODEL5-  pretrained vector(GLOVE VECTOR) and using function 'concat' for attention</h2>"
   ]
  },
  {
   "cell_type": "code",
   "execution_count": 27,
   "metadata": {
    "colab": {
     "base_uri": "https://localhost:8080/"
    },
    "id": "jCS_4e_odDIw",
    "outputId": "a4fc36fb-c5e5-4728-e83f-ce10f1624e7d"
   },
   "outputs": [
    {
     "name": "stdout",
     "output_type": "stream",
     "text": [
      "using pretrained vector for embedding\n",
      "Epoch 1/100\n",
      "483/483 [==============================] - 382s 553ms/step - loss: 2.2262 - acc: 0.0474 - val_loss: 2.1833 - val_acc: 0.0489\n",
      "Epoch 2/100\n",
      "483/483 [==============================] - 237s 491ms/step - loss: 2.1912 - acc: 0.0490 - val_loss: 2.1651 - val_acc: 0.0505\n",
      "Epoch 3/100\n",
      "483/483 [==============================] - 237s 490ms/step - loss: 2.1167 - acc: 0.0535 - val_loss: 1.9741 - val_acc: 0.0639\n",
      "Epoch 4/100\n",
      "483/483 [==============================] - 236s 490ms/step - loss: 1.9621 - acc: 0.0647 - val_loss: 1.8666 - val_acc: 0.0732\n",
      "Epoch 5/100\n",
      "483/483 [==============================] - 236s 490ms/step - loss: 1.8901 - acc: 0.0701 - val_loss: 1.8192 - val_acc: 0.0768\n",
      "Epoch 6/100\n",
      "483/483 [==============================] - 237s 490ms/step - loss: 1.8466 - acc: 0.0729 - val_loss: 1.7911 - val_acc: 0.0791\n",
      "Epoch 7/100\n",
      "483/483 [==============================] - 236s 490ms/step - loss: 1.8150 - acc: 0.0747 - val_loss: 1.7715 - val_acc: 0.0807\n",
      "Epoch 8/100\n",
      "483/483 [==============================] - 237s 490ms/step - loss: 1.7882 - acc: 0.0764 - val_loss: 1.7573 - val_acc: 0.0822\n",
      "Epoch 9/100\n",
      "483/483 [==============================] - 237s 490ms/step - loss: 1.7642 - acc: 0.0776 - val_loss: 1.7474 - val_acc: 0.0832\n",
      "Epoch 10/100\n",
      "483/483 [==============================] - 237s 491ms/step - loss: 1.7426 - acc: 0.0786 - val_loss: 1.7405 - val_acc: 0.0840\n",
      "Epoch 11/100\n",
      "483/483 [==============================] - 237s 491ms/step - loss: 1.7226 - acc: 0.0795 - val_loss: 1.7361 - val_acc: 0.0845\n",
      "Epoch 12/100\n",
      "483/483 [==============================] - 237s 490ms/step - loss: 1.7032 - acc: 0.0804 - val_loss: 1.7322 - val_acc: 0.0852\n",
      "Epoch 13/100\n",
      "483/483 [==============================] - 237s 490ms/step - loss: 1.6844 - acc: 0.0812 - val_loss: 1.7305 - val_acc: 0.0857\n",
      "Epoch 14/100\n",
      "483/483 [==============================] - 237s 491ms/step - loss: 1.6673 - acc: 0.0819 - val_loss: 1.7298 - val_acc: 0.0863\n",
      "\n",
      "Epoch 00014: ReduceLROnPlateau reducing learning rate to 0.00010000000474974513.\n",
      "Epoch 15/100\n",
      "483/483 [==============================] - 237s 490ms/step - loss: 1.6438 - acc: 0.0831 - val_loss: 1.7234 - val_acc: 0.0864\n",
      "Epoch 16/100\n",
      "483/483 [==============================] - 237s 490ms/step - loss: 1.6384 - acc: 0.0833 - val_loss: 1.7222 - val_acc: 0.0866\n",
      "Epoch 17/100\n",
      "483/483 [==============================] - 237s 491ms/step - loss: 1.6354 - acc: 0.0835 - val_loss: 1.7215 - val_acc: 0.0867\n",
      "\n",
      "Epoch 00017: ReduceLROnPlateau reducing learning rate to 0.0001.\n",
      "Epoch 18/100\n",
      "483/483 [==============================] - 237s 491ms/step - loss: 1.6325 - acc: 0.0836 - val_loss: 1.7212 - val_acc: 0.0867\n",
      "Epoch 19/100\n",
      "483/483 [==============================] - 237s 491ms/step - loss: 1.6303 - acc: 0.0837 - val_loss: 1.7208 - val_acc: 0.0868\n",
      "Epoch 20/100\n",
      "483/483 [==============================] - 237s 490ms/step - loss: 1.6277 - acc: 0.0839 - val_loss: 1.7207 - val_acc: 0.0868\n",
      "Epoch 21/100\n",
      "483/483 [==============================] - 237s 490ms/step - loss: 1.6256 - acc: 0.0840 - val_loss: 1.7206 - val_acc: 0.0869\n",
      "Epoch 22/100\n",
      "483/483 [==============================] - 237s 490ms/step - loss: 1.6233 - acc: 0.0841 - val_loss: 1.7205 - val_acc: 0.0869\n",
      "Epoch 23/100\n",
      "483/483 [==============================] - 237s 490ms/step - loss: 1.6213 - acc: 0.0841 - val_loss: 1.7204 - val_acc: 0.0870\n",
      "Epoch 24/100\n",
      "483/483 [==============================] - 237s 490ms/step - loss: 1.6195 - acc: 0.0843 - val_loss: 1.7205 - val_acc: 0.0870\n",
      "Epoch 25/100\n",
      "483/483 [==============================] - 237s 490ms/step - loss: 1.6171 - acc: 0.0845 - val_loss: 1.7204 - val_acc: 0.0871\n",
      "Epoch 26/100\n",
      "483/483 [==============================] - 237s 490ms/step - loss: 1.6149 - acc: 0.0846 - val_loss: 1.7205 - val_acc: 0.0871\n",
      "Model: \"encoder_decoder\"\n",
      "_________________________________________________________________\n",
      "Layer (type)                 Output Shape              Param #   \n",
      "=================================================================\n",
      "encoder (Encoder)            multiple                  4881060   \n",
      "_________________________________________________________________\n",
      "decoder (Decoder)            multiple                  14993334  \n",
      "=================================================================\n",
      "Total params: 19,874,394\n",
      "Trainable params: 17,874,194\n",
      "Non-trainable params: 2,000,200\n",
      "_________________________________________________________________\n"
     ]
    }
   ],
   "source": [
    "enc_vocab_size=VOCAB_SIZE\n",
    "dec_vocab_size=VOCAB_SIZE \n",
    "\n",
    "enc_lstm_size=256\n",
    "dec_lstm_size=512\n",
    "score_fun='concat'\n",
    "att_units=512\n",
    "embedding_weights_available=True\n",
    "embedding_size=100\n",
    "enc_input_length=max_length\n",
    "dec_input_length=max_length\n",
    "reduce_lr=tf.keras.callbacks.ReduceLROnPlateau(monitor='val_loss', factor= 0.1, patience=1, verbose=1,mode='min', min_delta=0.001, cooldown=0, min_lr=0.0001)\n",
    "#reduce_lr=tf.keras.callbacks.ReduceLROnPlateau(monitor='val_loss', factor= 0.2, patience=2, verbose=1,mode='min', min_delta=0.001, cooldown=0, min_lr=0.0001)\n",
    "model  = encoder_decoder(enc_vocab_size=enc_vocab_size,dec_vocab_size=dec_vocab_size, embedding_size=embedding_size, enc_lstm_size=enc_lstm_size, dec_lstm_size=dec_lstm_size,  enc_input_length=enc_input_length, dec_input_length=dec_input_length, score_fun=score_fun, att_units=att_units, embedding_weights_available=embedding_weights_available)\n",
    "optimizer = tf.keras.optimizers.Adam( 0.001,decay=1e-5)\n",
    "model.compile(optimizer=optimizer, loss=custom_lossfunction, metrics=['acc'])\n",
    "#train_steps=train.shape[0]//batch_size\n",
    "#valid_steps=validation.shape[0]//batch_size\n",
    "\n",
    "history=model.fit(train_dataset,epochs=100,batch_size=256, validation_data=validation_dataset,callbacks=[reduce_lr,early_stop])\n",
    "#history=model.fit(train_dataloader,steps_per_epoch=train_steps,epochs=100, validation_data=test_dataloader, validation_steps=valid_steps,callbacks=[reduce_lr,early_stop])\n",
    "model.summary()"
   ]
  },
  {
   "cell_type": "code",
   "execution_count": 28,
   "metadata": {
    "colab": {
     "base_uri": "https://localhost:8080/",
     "height": 312
    },
    "id": "kxTdOY0XdDbv",
    "outputId": "ad15cd7a-d109-46af-abf9-87839f8783a8"
   },
   "outputs": [
    {
     "data": {
      "text/plain": [
       "[]"
      ]
     },
     "execution_count": 28,
     "metadata": {},
     "output_type": "execute_result"
    },
    {
     "data": {
      "image/png": "[encoded data removed]",
      "text/plain": [
       "<Figure size 432x288 with 1 Axes>"
      ]
     },
     "metadata": {
      "needs_background": "light"
     },
     "output_type": "display_data"
    }
   ],
   "source": [
    "#print history loss validation and training\n",
    "plt.plot(history.history['loss'])\n",
    "plt.plot(history.history['val_loss'])\n",
    "plt.ylabel('LOSS')\n",
    "plt.xlabel('epoch')\n",
    "plt.title('LOSS vs EPOCHS')\n",
    "plt.legend(['train', 'validation'], loc='upper left')\n",
    "plt.plot()"
   ]
  },
  {
   "cell_type": "code",
   "execution_count": 29,
   "metadata": {
    "colab": {
     "base_uri": "https://localhost:8080/",
     "height": 298
    },
    "id": "e0lzTXFadDY1",
    "outputId": "6f43b6f1-b500-4502-dab1-ba8e643d8509"
   },
   "outputs": [
    {
     "data": {
      "text/plain": [
       "[]"
      ]
     },
     "execution_count": 29,
     "metadata": {},
     "output_type": "execute_result"
    },
    {
     "data": {
      "image/png": "[encoded data removed]",
      "text/plain": [
       "<Figure size 432x288 with 1 Axes>"
      ]
     },
     "metadata": {
      "needs_background": "light"
     },
     "output_type": "display_data"
    }
   ],
   "source": [
    "#print history accuracy validation and training\n",
    "plt.plot(history.history['acc'])\n",
    "plt.plot(history.history['val_acc'])\n",
    "plt.ylabel('ACCURACYepoch')\n",
    "plt.title('ACCURACY vs EPOCHS')\n",
    "plt.legend(['train', 'validation'], loc='upper left')\n",
    "plt.plot()"
   ]
  },
  {
   "cell_type": "code",
   "execution_count": 32,
   "metadata": {
    "colab": {
     "base_uri": "https://localhost:8080/"
    },
    "id": "jOA2a_btdDVi",
    "outputId": "207ea9de-dad6-412b-f479-db79bccfaea7"
   },
   "outputs": [
    {
     "name": "stdout",
     "output_type": "stream",
     "text": [
      "question--> hello\n",
      "BOT--> ['i', 'am', 'sorry', '<end>']\n",
      "question--> how are you\n",
      "BOT--> ['i', 'am', 'not', 'a', 'little', 'man', '<end>']\n",
      "question--> once upon a  time there was a man\n",
      "BOT--> ['i', 'am', 'not', 'going', 'to', 'be', 'here', '<end>']\n",
      "question--> are you sure you will be alright\n",
      "BOT--> ['i', 'am', 'not', 'sure', 'i', 'am', 'not', '<end>']\n",
      "question--> are you coming with me to London\n",
      "BOT--> ['i', 'am', 'not', 'sure', 'i', 'am', 'not', 'going', 'to', 'be', 'a', 'little', 'bit', '<end>']\n",
      "question--> do you know me\n",
      "BOT--> ['i', 'am', 'not', 'going', 'to', 'be', 'a', 'little', 'bit', '<end>']\n"
     ]
    }
   ],
   "source": [
    "input_sentence=['hello',\n",
    "                'how are you',\n",
    "                'once upon a  time there was a man',\n",
    "                'are you sure you will be alright',\n",
    "                'are you coming with me to London',\n",
    "                'do you know me']\n",
    "for i in input_sentence:\n",
    "    print('question-->',i)\n",
    "    print('BOT-->',greedy_search_predict([i]))"
   ]
  },
  {
   "cell_type": "code",
   "execution_count": 33,
   "metadata": {
    "colab": {
     "base_uri": "https://localhost:8080/"
    },
    "id": "7aRp6VXIdDSa",
    "outputId": "2f4bc39b-7e65-4a98-db12-2f9c87f141ed"
   },
   "outputs": [
    {
     "name": "stderr",
     "output_type": "stream",
     "text": [
      "/usr/local/lib/python3.7/dist-packages/nltk/translate/bleu_score.py:490: UserWarning: \n",
      "Corpus/Sentence contains 0 counts of 2-gram overlaps.\n",
      "BLEU scores might be undesirable; use SmoothingFunction().\n",
      "  warnings.warn(_msg)\n",
      "/usr/local/lib/python3.7/dist-packages/nltk/translate/bleu_score.py:490: UserWarning: \n",
      "Corpus/Sentence contains 0 counts of 3-gram overlaps.\n",
      "BLEU scores might be undesirable; use SmoothingFunction().\n",
      "  warnings.warn(_msg)\n",
      "/usr/local/lib/python3.7/dist-packages/nltk/translate/bleu_score.py:490: UserWarning: \n",
      "Corpus/Sentence contains 0 counts of 4-gram overlaps.\n",
      "BLEU scores might be undesirable; use SmoothingFunction().\n",
      "  warnings.warn(_msg)\n"
     ]
    },
    {
     "name": "stdout",
     "output_type": "stream",
     "text": [
      "The average BLEU score of these sentences is 0.34044292578752594\n"
     ]
    }
   ],
   "source": [
    "from  nltk.translate.bleu_score import sentence_bleu\n",
    "val=train.sample(1000)\n",
    "predicted=[]\n",
    "references=[]\n",
    "bleu=[]\n",
    "for i in range(1000):\n",
    "     \n",
    "     candidate=greedy_search_predict([val['questions'].iloc[i]])\n",
    "     reference=[val['answers_out'].iloc[i].split()]\n",
    "     bleu.append(sentence_bleu(reference,candidate,weights=[0.25,0.25,0.25,0.25]))\n",
    "bleu_score=np.mean(bleu)\n",
    "print(\"The average BLEU score of these sentences is\", bleu_score)"
   ]
  },
  {
   "cell_type": "markdown",
   "metadata": {
    "id": "1js02dUedUqx"
   },
   "source": [
    "<h2> MODEL7-  pretrained vector(FASTTEXT VECTOR) and using function 'dot' for attention</h2>"
   ]
  },
  {
   "cell_type": "code",
   "execution_count": 34,
   "metadata": {
    "colab": {
     "base_uri": "https://localhost:8080/"
    },
    "id": "tSpgir22dDPc",
    "outputId": "1b55683c-20df-4264-d911-25aab4947768"
   },
   "outputs": [
    {
     "name": "stdout",
     "output_type": "stream",
     "text": [
      "--2021-10-21 06:59:12--  https://dl.fbaipublicfiles.com/fasttext/vectors-english/wiki-news-300d-1M.vec.zip\n",
      "Resolving dl.fbaipublicfiles.com (dl.fbaipublicfiles.com)... 172.67.9.4, 104.22.75.142, 104.22.74.142, ...\n",
      "Connecting to dl.fbaipublicfiles.com (dl.fbaipublicfiles.com)|172.67.9.4|:443... connected.\n",
      "HTTP request sent, awaiting response... 200 OK\n",
      "Length: 681808098 (650M) [application/zip]\n",
      "Saving to: ‘wiki-news-300d-1M.vec.zip’\n",
      "\n",
      "wiki-news-300d-1M.v 100%[===================>] 650.22M  38.8MB/s    in 17s     \n",
      "\n",
      "2021-10-21 06:59:30 (37.6 MB/s) - ‘wiki-news-300d-1M.vec.zip’ saved [681808098/681808098]\n",
      "\n"
     ]
    }
   ],
   "source": [
    "!wget --header=\"Host: dl.fbaipublicfiles.com\" --header=\"User-Agent: Mozilla/5.0 (Windows NT 10.0; Win64; x64) AppleWebKit/537.36 (KHTML, like Gecko) Chrome/93.0.4577.63 Safari/537.36\" --header=\"Accept: text/html,application/xhtml+xml,application/xml;q=0.9,image/avif,image/webp,image/apng,*/*;q=0.8,application/signed-exchange;v=b3;q=0.9\" --header=\"Accept-Language: en-US,en;q=0.9,mt;q=0.8,hi;q=0.7\" --header=\"Referer: https://colab.research.google.com/\" \"https://dl.fbaipublicfiles.com/fasttext/vectors-english/wiki-news-300d-1M.vec.zip\" -c -O 'wiki-news-300d-1M.vec.zip'"
   ]
  },
  {
   "cell_type": "code",
   "execution_count": 35,
   "metadata": {
    "colab": {
     "base_uri": "https://localhost:8080/"
    },
    "id": "ch-1wPbTdewj",
    "outputId": "703c58bf-3289-4234-efd3-4a957df3bfd2"
   },
   "outputs": [
    {
     "name": "stdout",
     "output_type": "stream",
     "text": [
      "Archive:  wiki-news-300d-1M.vec.zip\n",
      "  inflating: wiki-news-300d-1M.vec   \n"
     ]
    }
   ],
   "source": [
    "!unzip wiki-news-300d-1M.vec.zip \n"
   ]
  },
  {
   "cell_type": "code",
   "execution_count": 36,
   "metadata": {
    "id": "rq4Y_1kDdetz"
   },
   "outputs": [],
   "source": [
    "import io\n",
    "fname='wiki-news-300d-1M.vec'\n",
    "fin = io.open(fname, 'r', encoding='utf-8', newline='\\n', errors='ignore')\n",
    "n, d = map(int, fin.readline().split())"
   ]
  },
  {
   "cell_type": "code",
   "execution_count": 37,
   "metadata": {
    "colab": {
     "base_uri": "https://localhost:8080/"
    },
    "id": "9W65K-HuderD",
    "outputId": "16a653ee-5435-4c00-9064-89f7b5d127f6"
   },
   "outputs": [
    {
     "data": {
      "text/plain": [
       "999994"
      ]
     },
     "execution_count": 37,
     "metadata": {},
     "output_type": "execute_result"
    }
   ],
   "source": [
    "lines=fin.readlines()\n",
    "len(lines)"
   ]
  },
  {
   "cell_type": "code",
   "execution_count": 38,
   "metadata": {
    "id": "CqZkRMCsdeod"
   },
   "outputs": [],
   "source": [
    "words_fasttext=[]\n",
    "for i in lines[1:]:\n",
    "    words_fasttext.append(i.split()[0])"
   ]
  },
  {
   "cell_type": "code",
   "execution_count": 39,
   "metadata": {
    "id": "uhYg_LcYdekt"
   },
   "outputs": [],
   "source": [
    "#EXTRACTION of Pretrained FASTTEXT vectors of 300 dimensions trained on Wikipedia\n",
    "\n",
    "\n",
    "embedding_matrix_encoder = np.zeros((VOCAB_SIZE+1, 300))\n",
    "\n",
    "for word, i in encoder_token.word_index.items():\n",
    "  if i <VOCAB_SIZE:\n",
    "      if word in words_fasttext:\n",
    "        embedding_vector = lines[words_fasttext.index(word)+1].split()[1:]\n",
    "        if embedding_vector is not None:\n",
    "              embedding_matrix_encoder[i] = embedding_vector\n",
    "\n",
    "embedding_matrix_decoder = np.zeros((VOCAB_SIZE+1, 300))\n",
    "for word, i in decoder_token.word_index.items():\n",
    "  if i<VOCAB_SIZE:\n",
    "      if word in words_fasttext:\n",
    "        embedding_vector = lines[words_fasttext.index(word)+1].split()[1:]\n",
    "        if embedding_vector is not None:\n",
    "              embedding_matrix_decoder[i] = embedding_vector"
   ]
  },
  {
   "cell_type": "code",
   "execution_count": 40,
   "metadata": {
    "id": "Q67oVMhwdehn"
   },
   "outputs": [],
   "source": [
    "from tensorflow.keras import backend\n",
    "backend.clear_session()"
   ]
  },
  {
   "cell_type": "code",
   "execution_count": 41,
   "metadata": {
    "colab": {
     "base_uri": "https://localhost:8080/"
    },
    "id": "LM1DACLHdu4t",
    "outputId": "1b08ba39-2773-43fd-b75d-3504911e851a"
   },
   "outputs": [
    {
     "name": "stdout",
     "output_type": "stream",
     "text": [
      "using pretrained vector for embedding\n",
      "Epoch 1/100\n",
      "483/483 [==============================] - 307s 414ms/step - loss: 2.2284 - acc: 0.0473 - val_loss: 2.1844 - val_acc: 0.0489\n",
      "Epoch 2/100\n",
      "483/483 [==============================] - 171s 355ms/step - loss: 2.1947 - acc: 0.0487 - val_loss: 2.1804 - val_acc: 0.0489\n",
      "Epoch 3/100\n",
      "483/483 [==============================] - 171s 355ms/step - loss: 2.1659 - acc: 0.0505 - val_loss: 2.1150 - val_acc: 0.0529\n",
      "Epoch 4/100\n",
      "483/483 [==============================] - 171s 354ms/step - loss: 2.0344 - acc: 0.0606 - val_loss: 1.9084 - val_acc: 0.0710\n",
      "Epoch 5/100\n",
      "483/483 [==============================] - 171s 354ms/step - loss: 1.9109 - acc: 0.0701 - val_loss: 1.8364 - val_acc: 0.0764\n",
      "Epoch 6/100\n",
      "483/483 [==============================] - 171s 354ms/step - loss: 1.8539 - acc: 0.0739 - val_loss: 1.8003 - val_acc: 0.0791\n",
      "Epoch 7/100\n",
      "483/483 [==============================] - 171s 354ms/step - loss: 1.8155 - acc: 0.0763 - val_loss: 1.7771 - val_acc: 0.0811\n",
      "Epoch 8/100\n",
      "483/483 [==============================] - 171s 354ms/step - loss: 1.7848 - acc: 0.0782 - val_loss: 1.7590 - val_acc: 0.0825\n",
      "Epoch 9/100\n",
      "483/483 [==============================] - 171s 354ms/step - loss: 1.7590 - acc: 0.0795 - val_loss: 1.7474 - val_acc: 0.0836\n",
      "Epoch 10/100\n",
      "483/483 [==============================] - 171s 353ms/step - loss: 1.7360 - acc: 0.0808 - val_loss: 1.7364 - val_acc: 0.0849\n",
      "Epoch 11/100\n",
      "483/483 [==============================] - 171s 353ms/step - loss: 1.7149 - acc: 0.0819 - val_loss: 1.7298 - val_acc: 0.0859\n",
      "Epoch 12/100\n",
      "483/483 [==============================] - 171s 354ms/step - loss: 1.6949 - acc: 0.0828 - val_loss: 1.7247 - val_acc: 0.0864\n",
      "Epoch 13/100\n",
      "483/483 [==============================] - 171s 353ms/step - loss: 1.6761 - acc: 0.0838 - val_loss: 1.7216 - val_acc: 0.0871\n",
      "Epoch 14/100\n",
      "483/483 [==============================] - 171s 353ms/step - loss: 1.6582 - acc: 0.0845 - val_loss: 1.7196 - val_acc: 0.0874\n",
      "Epoch 15/100\n",
      "483/483 [==============================] - 171s 353ms/step - loss: 1.6409 - acc: 0.0854 - val_loss: 1.7192 - val_acc: 0.0878\n",
      "\n",
      "Epoch 00015: ReduceLROnPlateau reducing learning rate to 0.00010000000474974513.\n",
      "Epoch 16/100\n",
      "483/483 [==============================] - 171s 354ms/step - loss: 1.6184 - acc: 0.0865 - val_loss: 1.7096 - val_acc: 0.0886\n",
      "Epoch 17/100\n",
      "483/483 [==============================] - 171s 354ms/step - loss: 1.6125 - acc: 0.0869 - val_loss: 1.7086 - val_acc: 0.0887\n",
      "\n",
      "Epoch 00017: ReduceLROnPlateau reducing learning rate to 0.0001.\n",
      "Epoch 18/100\n",
      "483/483 [==============================] - 171s 355ms/step - loss: 1.6094 - acc: 0.0870 - val_loss: 1.7080 - val_acc: 0.0888\n",
      "Epoch 19/100\n",
      "483/483 [==============================] - 171s 355ms/step - loss: 1.6070 - acc: 0.0872 - val_loss: 1.7078 - val_acc: 0.0887\n",
      "Epoch 20/100\n",
      "483/483 [==============================] - 171s 355ms/step - loss: 1.6047 - acc: 0.0872 - val_loss: 1.7074 - val_acc: 0.0888\n",
      "Epoch 21/100\n",
      "483/483 [==============================] - 171s 355ms/step - loss: 1.6026 - acc: 0.0875 - val_loss: 1.7072 - val_acc: 0.0889\n",
      "Epoch 22/100\n",
      "483/483 [==============================] - 171s 354ms/step - loss: 1.6011 - acc: 0.0875 - val_loss: 1.7071 - val_acc: 0.0890\n",
      "Epoch 23/100\n",
      "483/483 [==============================] - 171s 354ms/step - loss: 1.5988 - acc: 0.0876 - val_loss: 1.7070 - val_acc: 0.0890\n",
      "Epoch 24/100\n",
      "483/483 [==============================] - 171s 354ms/step - loss: 1.5968 - acc: 0.0877 - val_loss: 1.7068 - val_acc: 0.0890\n",
      "Epoch 25/100\n",
      "483/483 [==============================] - 171s 353ms/step - loss: 1.5946 - acc: 0.0879 - val_loss: 1.7068 - val_acc: 0.0890\n",
      "Epoch 26/100\n",
      "483/483 [==============================] - 171s 354ms/step - loss: 1.5922 - acc: 0.0879 - val_loss: 1.7069 - val_acc: 0.0891\n",
      "Epoch 27/100\n",
      "483/483 [==============================] - 171s 353ms/step - loss: 1.5905 - acc: 0.0880 - val_loss: 1.7068 - val_acc: 0.0891\n",
      "Model: \"encoder_decoder\"\n",
      "_________________________________________________________________\n",
      "Layer (type)                 Output Shape              Param #   \n",
      "=================================================================\n",
      "encoder (Encoder)            multiple                  7290860   \n",
      "_________________________________________________________________\n",
      "decoder (Decoder)            multiple                  17139965  \n",
      "=================================================================\n",
      "Total params: 24,430,825\n",
      "Trainable params: 18,430,225\n",
      "Non-trainable params: 6,000,600\n",
      "_________________________________________________________________\n"
     ]
    }
   ],
   "source": [
    "enc_vocab_size=VOCAB_SIZE\n",
    "dec_vocab_size=VOCAB_SIZE \n",
    "\n",
    "enc_lstm_size=256\n",
    "dec_lstm_size=512\n",
    "score_fun='dot'\n",
    "att_units=512\n",
    "embedding_weights_available=True\n",
    "embedding_size=300\n",
    "enc_input_length=max_length\n",
    "dec_input_length=max_length\n",
    "reduce_lr=tf.keras.callbacks.ReduceLROnPlateau(monitor='val_loss', factor= 0.1, patience=1, verbose=1,mode='min', min_delta=0.001, cooldown=0, min_lr=0.0001)\n",
    "#reduce_lr=tf.keras.callbacks.ReduceLROnPlateau(monitor='val_loss', factor= 0.2, patience=2, verbose=1,mode='min', min_delta=0.001, cooldown=0, min_lr=0.0001)\n",
    "model  = encoder_decoder(enc_vocab_size=enc_vocab_size,dec_vocab_size=dec_vocab_size, embedding_size=embedding_size, enc_lstm_size=enc_lstm_size, dec_lstm_size=dec_lstm_size,  enc_input_length=enc_input_length, dec_input_length=dec_input_length, score_fun=score_fun, att_units=att_units, embedding_weights_available=embedding_weights_available)\n",
    "optimizer = tf.keras.optimizers.Adam( 0.001,decay=1e-5)\n",
    "model.compile(optimizer=optimizer, loss=custom_lossfunction, metrics=['acc'])\n",
    "#train_steps=train.shape[0]//batch_size\n",
    "#valid_steps=validation.shape[0]//batch_size\n",
    "\n",
    "history=model.fit(train_dataset,epochs=100,batch_size=256, validation_data=validation_dataset,callbacks=[reduce_lr,early_stop])\n",
    "#history=model.fit(train_dataloader,steps_per_epoch=train_steps,epochs=100, validation_data=test_dataloader, validation_steps=valid_steps,callbacks=[reduce_lr,early_stop])\n",
    "model.summary()"
   ]
  },
  {
   "cell_type": "code",
   "execution_count": 42,
   "metadata": {
    "colab": {
     "base_uri": "https://localhost:8080/",
     "height": 312
    },
    "id": "vsTdoflZdu1n",
    "outputId": "73fa70d3-154e-49e3-8189-bb4294d4e677"
   },
   "outputs": [
    {
     "data": {
      "text/plain": [
       "[]"
      ]
     },
     "execution_count": 42,
     "metadata": {},
     "output_type": "execute_result"
    },
    {
     "data": {
      "image/png": "[encoded data removed]",
      "text/plain": [
       "<Figure size 432x288 with 1 Axes>"
      ]
     },
     "metadata": {
      "needs_background": "light"
     },
     "output_type": "display_data"
    }
   ],
   "source": [
    "#print history loss validation and training\n",
    "plt.plot(history.history['loss'])\n",
    "plt.plot(history.history['val_loss'])\n",
    "plt.ylabel('LOSS')\n",
    "plt.xlabel('epoch')\n",
    "plt.title('LOSS vs EPOCHS')\n",
    "plt.legend(['train', 'validation'], loc='upper left')\n",
    "plt.plot()"
   ]
  },
  {
   "cell_type": "code",
   "execution_count": 43,
   "metadata": {
    "colab": {
     "base_uri": "https://localhost:8080/",
     "height": 298
    },
    "id": "1Bg4qfw_duve",
    "outputId": "0f1c3f42-cca8-4e3a-8729-462050c125ed"
   },
   "outputs": [
    {
     "data": {
      "text/plain": [
       "[]"
      ]
     },
     "execution_count": 43,
     "metadata": {},
     "output_type": "execute_result"
    },
    {
     "data": {
      "image/png": "[encoded data removed]",
      "text/plain": [
       "<Figure size 432x288 with 1 Axes>"
      ]
     },
     "metadata": {
      "needs_background": "light"
     },
     "output_type": "display_data"
    }
   ],
   "source": [
    "#print history accuracy validation and training\n",
    "plt.plot(history.history['acc'])\n",
    "plt.plot(history.history['val_acc'])\n",
    "plt.ylabel('ACCURACYepoch')\n",
    "plt.title('ACCURACY vs EPOCHS')\n",
    "plt.legend(['train', 'validation'], loc='upper left')\n",
    "plt.plot()"
   ]
  },
  {
   "cell_type": "code",
   "execution_count": 44,
   "metadata": {
    "colab": {
     "base_uri": "https://localhost:8080/"
    },
    "id": "ijasi0CDdurU",
    "outputId": "0fea9e02-266c-4be2-9971-d1c4e2953200"
   },
   "outputs": [
    {
     "name": "stdout",
     "output_type": "stream",
     "text": [
      "question--> hello\n",
      "BOT--> ['i', 'am', 'sorry', '<end>']\n",
      "question--> how are you\n",
      "BOT--> ['<end>']\n",
      "question--> once upon a  time there was a man\n",
      "BOT--> ['i', 'am', 'not', 'going', 'to', 'be', 'a', 'little', '<end>']\n",
      "question--> are you sure you will be alright\n",
      "BOT--> ['i', 'am', 'not', 'going', 'to', 'be', 'a', 'little', '<end>']\n",
      "question--> are you coming with me to London\n",
      "BOT--> ['you', 'are', 'not', 'going', 'to', 'do', 'it', '<end>']\n",
      "question--> do you know me\n",
      "BOT--> ['i', 'am', 'not', 'going', 'to', 'be', 'a', 'little', '<end>']\n"
     ]
    }
   ],
   "source": [
    "input_sentence=['hello',\n",
    "                'how are you',\n",
    "                'once upon a  time there was a man',\n",
    "                'are you sure you will be alright',\n",
    "                'are you coming with me to London',\n",
    "                'do you know me']\n",
    "for i in input_sentence:\n",
    "    print('question-->',i)\n",
    "    print('BOT-->',greedy_search_predict([i]))"
   ]
  },
  {
   "cell_type": "code",
   "execution_count": 45,
   "metadata": {
    "colab": {
     "base_uri": "https://localhost:8080/"
    },
    "id": "PzjhDl4_duoM",
    "outputId": "be6371b9-db18-45a4-ca78-97e3cf2167c6"
   },
   "outputs": [
    {
     "name": "stderr",
     "output_type": "stream",
     "text": [
      "/usr/local/lib/python3.7/dist-packages/nltk/translate/bleu_score.py:490: UserWarning: \n",
      "Corpus/Sentence contains 0 counts of 2-gram overlaps.\n",
      "BLEU scores might be undesirable; use SmoothingFunction().\n",
      "  warnings.warn(_msg)\n",
      "/usr/local/lib/python3.7/dist-packages/nltk/translate/bleu_score.py:490: UserWarning: \n",
      "Corpus/Sentence contains 0 counts of 3-gram overlaps.\n",
      "BLEU scores might be undesirable; use SmoothingFunction().\n",
      "  warnings.warn(_msg)\n",
      "/usr/local/lib/python3.7/dist-packages/nltk/translate/bleu_score.py:490: UserWarning: \n",
      "Corpus/Sentence contains 0 counts of 4-gram overlaps.\n",
      "BLEU scores might be undesirable; use SmoothingFunction().\n",
      "  warnings.warn(_msg)\n"
     ]
    },
    {
     "name": "stdout",
     "output_type": "stream",
     "text": [
      "The average BLEU score of these sentences is 0.42598427633387304\n"
     ]
    }
   ],
   "source": [
    "from  nltk.translate.bleu_score import sentence_bleu\n",
    "val=train.sample(1000)\n",
    "predicted=[]\n",
    "references=[]\n",
    "bleu=[]\n",
    "for i in range(1000):\n",
    "     \n",
    "     candidate=greedy_search_predict([val['questions'].iloc[i]])\n",
    "     reference=[val['answers_out'].iloc[i].split()]\n",
    "     bleu.append(sentence_bleu(reference,candidate,weights=[0.25,0.25,0.25,0.25]))\n",
    "bleu_score=np.mean(bleu)\n",
    "print(\"The average BLEU score of these sentences is\", bleu_score)"
   ]
  },
  {
   "cell_type": "markdown",
   "metadata": {
    "id": "OWNQpwufd-u4"
   },
   "source": [
    "<h2> MODEL8-  pretrained vector(FASTTEXT VECTOR) and using function 'general' for attention</h2>"
   ]
  },
  {
   "cell_type": "code",
   "execution_count": 46,
   "metadata": {
    "colab": {
     "base_uri": "https://localhost:8080/"
    },
    "id": "EhunGNITduk7",
    "outputId": "2e063add-32f8-4473-de44-571cdbfc8919"
   },
   "outputs": [
    {
     "name": "stdout",
     "output_type": "stream",
     "text": [
      "using pretrained vector for embedding\n",
      "Epoch 1/100\n",
      "483/483 [==============================] - 379s 544ms/step - loss: 2.2304 - acc: 0.0473 - val_loss: 2.1850 - val_acc: 0.0488\n",
      "Epoch 2/100\n",
      "483/483 [==============================] - 232s 481ms/step - loss: 2.1954 - acc: 0.0487 - val_loss: 2.1803 - val_acc: 0.0489\n",
      "Epoch 3/100\n",
      "483/483 [==============================] - 232s 481ms/step - loss: 2.1609 - acc: 0.0512 - val_loss: 2.1200 - val_acc: 0.0530\n",
      "Epoch 4/100\n",
      "483/483 [==============================] - 234s 485ms/step - loss: 2.0712 - acc: 0.0589 - val_loss: 1.9366 - val_acc: 0.0692\n",
      "Epoch 5/100\n",
      "483/483 [==============================] - 234s 484ms/step - loss: 1.9280 - acc: 0.0692 - val_loss: 1.8469 - val_acc: 0.0757\n",
      "Epoch 6/100\n",
      "483/483 [==============================] - 234s 484ms/step - loss: 1.8645 - acc: 0.0735 - val_loss: 1.8089 - val_acc: 0.0786\n",
      "Epoch 7/100\n",
      "483/483 [==============================] - 233s 483ms/step - loss: 1.8248 - acc: 0.0762 - val_loss: 1.7823 - val_acc: 0.0809\n",
      "Epoch 8/100\n",
      "483/483 [==============================] - 231s 479ms/step - loss: 1.7924 - acc: 0.0780 - val_loss: 1.7633 - val_acc: 0.0825\n",
      "Epoch 9/100\n",
      "483/483 [==============================] - 231s 479ms/step - loss: 1.7654 - acc: 0.0794 - val_loss: 1.7485 - val_acc: 0.0838\n",
      "Epoch 10/100\n",
      "483/483 [==============================] - 231s 479ms/step - loss: 1.7418 - acc: 0.0807 - val_loss: 1.7373 - val_acc: 0.0848\n",
      "Epoch 11/100\n",
      "483/483 [==============================] - 231s 479ms/step - loss: 1.7195 - acc: 0.0819 - val_loss: 1.7289 - val_acc: 0.0856\n",
      "Epoch 12/100\n",
      "483/483 [==============================] - 231s 479ms/step - loss: 1.6997 - acc: 0.0828 - val_loss: 1.7236 - val_acc: 0.0863\n",
      "Epoch 13/100\n",
      "483/483 [==============================] - 231s 479ms/step - loss: 1.6811 - acc: 0.0836 - val_loss: 1.7201 - val_acc: 0.0868\n",
      "Epoch 14/100\n",
      "483/483 [==============================] - 232s 480ms/step - loss: 1.6634 - acc: 0.0844 - val_loss: 1.7175 - val_acc: 0.0873\n",
      "Epoch 15/100\n",
      "483/483 [==============================] - 231s 479ms/step - loss: 1.6463 - acc: 0.0853 - val_loss: 1.7165 - val_acc: 0.0878\n",
      "\n",
      "Epoch 00015: ReduceLROnPlateau reducing learning rate to 0.00010000000474974513.\n",
      "Epoch 16/100\n",
      "483/483 [==============================] - 231s 479ms/step - loss: 1.6228 - acc: 0.0864 - val_loss: 1.7082 - val_acc: 0.0883\n",
      "Epoch 17/100\n",
      "483/483 [==============================] - 231s 479ms/step - loss: 1.6176 - acc: 0.0866 - val_loss: 1.7068 - val_acc: 0.0885\n",
      "Epoch 18/100\n",
      "483/483 [==============================] - 231s 479ms/step - loss: 1.6144 - acc: 0.0870 - val_loss: 1.7062 - val_acc: 0.0886\n",
      "\n",
      "Epoch 00018: ReduceLROnPlateau reducing learning rate to 0.0001.\n",
      "Epoch 19/100\n",
      "483/483 [==============================] - 231s 479ms/step - loss: 1.6114 - acc: 0.0870 - val_loss: 1.7060 - val_acc: 0.0885\n",
      "Epoch 20/100\n",
      "483/483 [==============================] - 232s 480ms/step - loss: 1.6091 - acc: 0.0872 - val_loss: 1.7056 - val_acc: 0.0886\n",
      "Epoch 21/100\n",
      "483/483 [==============================] - 231s 479ms/step - loss: 1.6069 - acc: 0.0873 - val_loss: 1.7055 - val_acc: 0.0886\n",
      "Epoch 22/100\n",
      "483/483 [==============================] - 231s 479ms/step - loss: 1.6049 - acc: 0.0874 - val_loss: 1.7054 - val_acc: 0.0887\n",
      "Epoch 23/100\n",
      "483/483 [==============================] - 231s 479ms/step - loss: 1.6027 - acc: 0.0875 - val_loss: 1.7054 - val_acc: 0.0887\n",
      "Epoch 24/100\n",
      "483/483 [==============================] - 231s 479ms/step - loss: 1.6005 - acc: 0.0876 - val_loss: 1.7052 - val_acc: 0.0888\n",
      "Epoch 25/100\n",
      "483/483 [==============================] - 231s 479ms/step - loss: 1.5982 - acc: 0.0876 - val_loss: 1.7054 - val_acc: 0.0888\n",
      "Epoch 26/100\n",
      "483/483 [==============================] - 231s 479ms/step - loss: 1.5966 - acc: 0.0878 - val_loss: 1.7054 - val_acc: 0.0889\n",
      "Epoch 27/100\n",
      "483/483 [==============================] - 231s 479ms/step - loss: 1.5943 - acc: 0.0880 - val_loss: 1.7055 - val_acc: 0.0889\n",
      "Model: \"encoder_decoder\"\n",
      "_________________________________________________________________\n",
      "Layer (type)                 Output Shape              Param #   \n",
      "=================================================================\n",
      "encoder (Encoder)            multiple                  7290860   \n",
      "_________________________________________________________________\n",
      "decoder (Decoder)            multiple                  17402621  \n",
      "=================================================================\n",
      "Total params: 24,693,481\n",
      "Trainable params: 18,692,881\n",
      "Non-trainable params: 6,000,600\n",
      "_________________________________________________________________\n"
     ]
    }
   ],
   "source": [
    "backend.clear_session()\n",
    "enc_vocab_size=VOCAB_SIZE\n",
    "dec_vocab_size=VOCAB_SIZE \n",
    "\n",
    "enc_lstm_size=256\n",
    "dec_lstm_size=512\n",
    "score_fun='general'\n",
    "att_units=512\n",
    "embedding_weights_available=True\n",
    "embedding_size=300\n",
    "enc_input_length=max_length\n",
    "dec_input_length=max_length\n",
    "reduce_lr=tf.keras.callbacks.ReduceLROnPlateau(monitor='val_loss', factor= 0.1, patience=1, verbose=1,mode='min', min_delta=0.001, cooldown=0, min_lr=0.0001)\n",
    "#reduce_lr=tf.keras.callbacks.ReduceLROnPlateau(monitor='val_loss', factor= 0.2, patience=2, verbose=1,mode='min', min_delta=0.001, cooldown=0, min_lr=0.0001)\n",
    "model  = encoder_decoder(enc_vocab_size=enc_vocab_size,dec_vocab_size=dec_vocab_size, embedding_size=embedding_size, enc_lstm_size=enc_lstm_size, dec_lstm_size=dec_lstm_size,  enc_input_length=enc_input_length, dec_input_length=dec_input_length, score_fun=score_fun, att_units=att_units, embedding_weights_available=embedding_weights_available)\n",
    "optimizer = tf.keras.optimizers.Adam( 0.001,decay=1e-5)\n",
    "model.compile(optimizer=optimizer, loss=custom_lossfunction, metrics=['acc'])\n",
    "#train_steps=train.shape[0]//batch_size\n",
    "#valid_steps=validation.shape[0]//batch_size\n",
    "\n",
    "history=model.fit(train_dataset,epochs=100,batch_size=256, validation_data=validation_dataset,callbacks=[reduce_lr,early_stop])\n",
    "#history=model.fit(train_dataloader,steps_per_epoch=train_steps,epochs=100, validation_data=test_dataloader, validation_steps=valid_steps,callbacks=[reduce_lr,early_stop])\n",
    "model.summary()"
   ]
  },
  {
   "cell_type": "code",
   "execution_count": 47,
   "metadata": {
    "colab": {
     "base_uri": "https://localhost:8080/",
     "height": 312
    },
    "id": "YKe3_Fc5duh7",
    "outputId": "082d70ac-6dbc-48d1-dc36-4fb01c80a2c6"
   },
   "outputs": [
    {
     "data": {
      "text/plain": [
       "[]"
      ]
     },
     "execution_count": 47,
     "metadata": {},
     "output_type": "execute_result"
    },
    {
     "data": {
      "image/png": "[encoded data removed]",
      "text/plain": [
       "<Figure size 432x288 with 1 Axes>"
      ]
     },
     "metadata": {
      "needs_background": "light"
     },
     "output_type": "display_data"
    }
   ],
   "source": [
    "#print history loss validation and training\n",
    "plt.plot(history.history['loss'])\n",
    "plt.plot(history.history['val_loss'])\n",
    "plt.ylabel('LOSS')\n",
    "plt.xlabel('epoch')\n",
    "plt.title('LOSS vs EPOCHS')\n",
    "plt.legend(['train', 'validation'], loc='upper left')\n",
    "plt.plot()"
   ]
  },
  {
   "cell_type": "code",
   "execution_count": 48,
   "metadata": {
    "colab": {
     "base_uri": "https://localhost:8080/",
     "height": 298
    },
    "id": "cER9_l9Ndeer",
    "outputId": "2b8b8a1a-d12e-4a0a-d10e-5ca4692c5913"
   },
   "outputs": [
    {
     "data": {
      "text/plain": [
       "[]"
      ]
     },
     "execution_count": 48,
     "metadata": {},
     "output_type": "execute_result"
    },
    {
     "data": {
      "image/png": "[encoded data removed]",
      "text/plain": [
       "<Figure size 432x288 with 1 Axes>"
      ]
     },
     "metadata": {
      "needs_background": "light"
     },
     "output_type": "display_data"
    }
   ],
   "source": [
    "#print history accuracy validation and training\n",
    "plt.plot(history.history['acc'])\n",
    "plt.plot(history.history['val_acc'])\n",
    "plt.ylabel('ACCURACYepoch')\n",
    "plt.title('ACCURACY vs EPOCHS')\n",
    "plt.legend(['train', 'validation'], loc='upper left')\n",
    "plt.plot()"
   ]
  },
  {
   "cell_type": "code",
   "execution_count": 49,
   "metadata": {
    "colab": {
     "base_uri": "https://localhost:8080/"
    },
    "id": "g7da7AKheMq5",
    "outputId": "12e81c4a-40a5-4cbe-c958-0b1927a09446"
   },
   "outputs": [
    {
     "name": "stdout",
     "output_type": "stream",
     "text": [
      "question--> hello\n",
      "BOT--> ['<end>']\n",
      "question--> how are you\n",
      "BOT--> ['i', 'am', 'not', 'going', 'to', 'be', 'a', 'little', 'one', '<end>']\n",
      "question--> once upon a  time there was a man\n",
      "BOT--> ['i', 'am', 'sorry', '<end>']\n",
      "question--> are you sure you will be alright\n",
      "BOT--> ['i', 'do', 'not', 'know', '<end>']\n",
      "question--> are you coming with me to London\n",
      "BOT--> ['i', 'do', 'not', 'know', '<end>']\n",
      "question--> do you know me\n",
      "BOT--> ['i', 'do', 'not', 'know', '<end>']\n"
     ]
    }
   ],
   "source": [
    "input_sentence=['hello',\n",
    "                'how are you',\n",
    "                'once upon a  time there was a man',\n",
    "                'are you sure you will be alright',\n",
    "                'are you coming with me to London',\n",
    "                'do you know me']\n",
    "for i in input_sentence:\n",
    "    print('question-->',i)\n",
    "    print('BOT-->',greedy_search_predict([i]))"
   ]
  },
  {
   "cell_type": "code",
   "execution_count": 50,
   "metadata": {
    "colab": {
     "base_uri": "https://localhost:8080/"
    },
    "id": "_8gwrenFeMnf",
    "outputId": "c819b277-8b3e-42d8-e772-3ae6a1c4ade1"
   },
   "outputs": [
    {
     "name": "stderr",
     "output_type": "stream",
     "text": [
      "/usr/local/lib/python3.7/dist-packages/nltk/translate/bleu_score.py:490: UserWarning: \n",
      "Corpus/Sentence contains 0 counts of 2-gram overlaps.\n",
      "BLEU scores might be undesirable; use SmoothingFunction().\n",
      "  warnings.warn(_msg)\n",
      "/usr/local/lib/python3.7/dist-packages/nltk/translate/bleu_score.py:490: UserWarning: \n",
      "Corpus/Sentence contains 0 counts of 3-gram overlaps.\n",
      "BLEU scores might be undesirable; use SmoothingFunction().\n",
      "  warnings.warn(_msg)\n",
      "/usr/local/lib/python3.7/dist-packages/nltk/translate/bleu_score.py:490: UserWarning: \n",
      "Corpus/Sentence contains 0 counts of 4-gram overlaps.\n",
      "BLEU scores might be undesirable; use SmoothingFunction().\n",
      "  warnings.warn(_msg)\n"
     ]
    },
    {
     "name": "stdout",
     "output_type": "stream",
     "text": [
      "The average BLEU score of these sentences is 0.34342730279126676\n"
     ]
    }
   ],
   "source": [
    "from  nltk.translate.bleu_score import sentence_bleu\n",
    "val=train.sample(1000)\n",
    "predicted=[]\n",
    "references=[]\n",
    "bleu=[]\n",
    "for i in range(1000):\n",
    "     \n",
    "     candidate=greedy_search_predict([val['questions'].iloc[i]])\n",
    "     reference=[val['answers_out'].iloc[i].split()]\n",
    "     bleu.append(sentence_bleu(reference,candidate,weights=[0.25,0.25,0.25,0.25]))\n",
    "bleu_score=np.mean(bleu)\n",
    "print(\"The average BLEU score of these sentences is\", bleu_score)"
   ]
  },
  {
   "cell_type": "markdown",
   "metadata": {
    "id": "LzT_MXcbeSKu"
   },
   "source": [
    "<h2> MODEL9-  pretrained vector(FASTTEXT VECTOR) and using function 'concat' for attention</h2>"
   ]
  },
  {
   "cell_type": "code",
   "execution_count": 51,
   "metadata": {
    "colab": {
     "base_uri": "https://localhost:8080/"
    },
    "id": "_1dDKlTZeMlD",
    "outputId": "2d1dddb2-d098-41f8-ab48-74e484cad376"
   },
   "outputs": [
    {
     "name": "stdout",
     "output_type": "stream",
     "text": [
      "using pretrained vector for embedding\n",
      "Epoch 1/100\n",
      "483/483 [==============================] - 386s 555ms/step - loss: 2.2295 - acc: 0.0471 - val_loss: 2.1847 - val_acc: 0.0483\n",
      "Epoch 2/100\n",
      "483/483 [==============================] - 240s 496ms/step - loss: 2.1946 - acc: 0.0486 - val_loss: 2.1806 - val_acc: 0.0489\n",
      "Epoch 3/100\n",
      "483/483 [==============================] - 239s 496ms/step - loss: 2.1888 - acc: 0.0488 - val_loss: 2.1751 - val_acc: 0.0489\n",
      "Epoch 4/100\n",
      "483/483 [==============================] - 240s 497ms/step - loss: 2.1824 - acc: 0.0488 - val_loss: 2.1707 - val_acc: 0.0487\n",
      "Epoch 5/100\n",
      "483/483 [==============================] - 240s 497ms/step - loss: 2.1765 - acc: 0.0489 - val_loss: 2.1631 - val_acc: 0.0490\n",
      "Epoch 6/100\n",
      "483/483 [==============================] - 240s 497ms/step - loss: 2.1667 - acc: 0.0491 - val_loss: 2.1520 - val_acc: 0.0491\n",
      "Epoch 7/100\n",
      "483/483 [==============================] - 240s 497ms/step - loss: 2.0426 - acc: 0.0581 - val_loss: 1.8969 - val_acc: 0.0708\n",
      "Epoch 8/100\n",
      "483/483 [==============================] - 240s 496ms/step - loss: 1.8903 - acc: 0.0706 - val_loss: 1.8245 - val_acc: 0.0768\n",
      "Epoch 9/100\n",
      "483/483 [==============================] - 240s 497ms/step - loss: 1.8306 - acc: 0.0749 - val_loss: 1.7886 - val_acc: 0.0801\n",
      "Epoch 10/100\n",
      "483/483 [==============================] - 240s 497ms/step - loss: 1.7904 - acc: 0.0774 - val_loss: 1.7665 - val_acc: 0.0822\n",
      "Epoch 11/100\n",
      "483/483 [==============================] - 240s 496ms/step - loss: 1.7580 - acc: 0.0794 - val_loss: 1.7508 - val_acc: 0.0836\n",
      "Epoch 12/100\n",
      "483/483 [==============================] - 239s 495ms/step - loss: 1.7306 - acc: 0.0807 - val_loss: 1.7396 - val_acc: 0.0847\n",
      "Epoch 13/100\n",
      "483/483 [==============================] - 239s 496ms/step - loss: 1.7059 - acc: 0.0820 - val_loss: 1.7327 - val_acc: 0.0857\n",
      "Epoch 14/100\n",
      "483/483 [==============================] - 239s 495ms/step - loss: 1.6836 - acc: 0.0832 - val_loss: 1.7275 - val_acc: 0.0864\n",
      "Epoch 15/100\n",
      "483/483 [==============================] - 239s 495ms/step - loss: 1.6623 - acc: 0.0841 - val_loss: 1.7243 - val_acc: 0.0870\n",
      "Epoch 16/100\n",
      "483/483 [==============================] - 239s 495ms/step - loss: 1.6422 - acc: 0.0849 - val_loss: 1.7231 - val_acc: 0.0874\n",
      "Epoch 17/100\n",
      "483/483 [==============================] - 239s 495ms/step - loss: 1.6233 - acc: 0.0859 - val_loss: 1.7234 - val_acc: 0.0877\n",
      "\n",
      "Epoch 00017: ReduceLROnPlateau reducing learning rate to 0.00010000000474974513.\n",
      "Epoch 18/100\n",
      "483/483 [==============================] - 239s 495ms/step - loss: 1.6019 - acc: 0.0870 - val_loss: 1.7131 - val_acc: 0.0886\n",
      "Epoch 19/100\n",
      "483/483 [==============================] - 239s 495ms/step - loss: 1.5957 - acc: 0.0874 - val_loss: 1.7122 - val_acc: 0.0887\n",
      "\n",
      "Epoch 00019: ReduceLROnPlateau reducing learning rate to 0.0001.\n",
      "Epoch 20/100\n",
      "483/483 [==============================] - 239s 495ms/step - loss: 1.5918 - acc: 0.0876 - val_loss: 1.7118 - val_acc: 0.0887\n",
      "Epoch 21/100\n",
      "483/483 [==============================] - 239s 496ms/step - loss: 1.5893 - acc: 0.0876 - val_loss: 1.7116 - val_acc: 0.0887\n",
      "Epoch 22/100\n",
      "483/483 [==============================] - 239s 495ms/step - loss: 1.5865 - acc: 0.0880 - val_loss: 1.7113 - val_acc: 0.0888\n",
      "Epoch 23/100\n",
      "483/483 [==============================] - 239s 496ms/step - loss: 1.5839 - acc: 0.0880 - val_loss: 1.7111 - val_acc: 0.0889\n",
      "Epoch 24/100\n",
      "483/483 [==============================] - 239s 495ms/step - loss: 1.5820 - acc: 0.0880 - val_loss: 1.7111 - val_acc: 0.0890\n",
      "Epoch 25/100\n",
      "483/483 [==============================] - 239s 495ms/step - loss: 1.5788 - acc: 0.0883 - val_loss: 1.7112 - val_acc: 0.0890\n",
      "Epoch 26/100\n",
      "483/483 [==============================] - 239s 496ms/step - loss: 1.5769 - acc: 0.0883 - val_loss: 1.7112 - val_acc: 0.0890\n",
      "Model: \"encoder_decoder_1\"\n",
      "_________________________________________________________________\n",
      "Layer (type)                 Output Shape              Param #   \n",
      "=================================================================\n",
      "encoder_1 (Encoder)          multiple                  7290860   \n",
      "_________________________________________________________________\n",
      "decoder_1 (Decoder)          multiple                  17403134  \n",
      "=================================================================\n",
      "Total params: 24,693,994\n",
      "Trainable params: 18,693,394\n",
      "Non-trainable params: 6,000,600\n",
      "_________________________________________________________________\n"
     ]
    }
   ],
   "source": [
    "enc_vocab_size=VOCAB_SIZE\n",
    "dec_vocab_size=VOCAB_SIZE \n",
    "\n",
    "enc_lstm_size=256\n",
    "dec_lstm_size=512\n",
    "score_fun='concat'\n",
    "att_units=512\n",
    "embedding_weights_available=True\n",
    "embedding_size=300\n",
    "enc_input_length=max_length\n",
    "dec_input_length=max_length\n",
    "reduce_lr=tf.keras.callbacks.ReduceLROnPlateau(monitor='val_loss', factor= 0.1, patience=1, verbose=1,mode='min', min_delta=0.001, cooldown=0, min_lr=0.0001)\n",
    "#reduce_lr=tf.keras.callbacks.ReduceLROnPlateau(monitor='val_loss', factor= 0.2, patience=2, verbose=1,mode='min', min_delta=0.001, cooldown=0, min_lr=0.0001)\n",
    "model  = encoder_decoder(enc_vocab_size=enc_vocab_size,dec_vocab_size=dec_vocab_size, embedding_size=embedding_size, enc_lstm_size=enc_lstm_size, dec_lstm_size=dec_lstm_size,  enc_input_length=enc_input_length, dec_input_length=dec_input_length, score_fun=score_fun, att_units=att_units, embedding_weights_available=embedding_weights_available)\n",
    "optimizer = tf.keras.optimizers.Adam( 0.001,decay=1e-5)\n",
    "model.compile(optimizer=optimizer, loss=custom_lossfunction, metrics=['acc'])\n",
    "#train_steps=train.shape[0]//batch_size\n",
    "#valid_steps=validation.shape[0]//batch_size\n",
    "\n",
    "history=model.fit(train_dataset,epochs=100,batch_size=256, validation_data=validation_dataset,callbacks=[reduce_lr,early_stop])\n",
    "#history=model.fit(train_dataloader,steps_per_epoch=train_steps,epochs=100, validation_data=test_dataloader, validation_steps=valid_steps,callbacks=[reduce_lr,early_stop])\n",
    "model.summary()"
   ]
  },
  {
   "cell_type": "code",
   "execution_count": 52,
   "metadata": {
    "colab": {
     "base_uri": "https://localhost:8080/",
     "height": 312
    },
    "id": "31kcVG24eMiH",
    "outputId": "f9345cac-296a-4cbc-a50d-b539e02e7423"
   },
   "outputs": [
    {
     "data": {
      "text/plain": [
       "[]"
      ]
     },
     "execution_count": 52,
     "metadata": {},
     "output_type": "execute_result"
    },
    {
     "data": {
      "image/png": "[encoded data removed]",
      "text/plain": [
       "<Figure size 432x288 with 1 Axes>"
      ]
     },
     "metadata": {
      "needs_background": "light"
     },
     "output_type": "display_data"
    }
   ],
   "source": [
    "#print history loss validation and training\n",
    "plt.plot(history.history['loss'])\n",
    "plt.plot(history.history['val_loss'])\n",
    "plt.ylabel('LOSS')\n",
    "plt.xlabel('epoch')\n",
    "plt.title('LOSS vs EPOCHS')\n",
    "plt.legend(['train', 'validation'], loc='upper left')\n",
    "plt.plot()"
   ]
  },
  {
   "cell_type": "code",
   "execution_count": 53,
   "metadata": {
    "colab": {
     "base_uri": "https://localhost:8080/",
     "height": 298
    },
    "id": "kDU2PwKZeMfJ",
    "outputId": "02dfa031-193a-4cf9-9948-5bb928bec688"
   },
   "outputs": [
    {
     "data": {
      "text/plain": [
       "[]"
      ]
     },
     "execution_count": 53,
     "metadata": {},
     "output_type": "execute_result"
    },
    {
     "data": {
      "image/png": "[encoded data removed]",
      "text/plain": [
       "<Figure size 432x288 with 1 Axes>"
      ]
     },
     "metadata": {
      "needs_background": "light"
     },
     "output_type": "display_data"
    }
   ],
   "source": [
    "#print history accuracy validation and training\n",
    "plt.plot(history.history['acc'])\n",
    "plt.plot(history.history['val_acc'])\n",
    "plt.ylabel('ACCURACYepoch')\n",
    "plt.title('ACCURACY vs EPOCHS')\n",
    "plt.legend(['train', 'validation'], loc='upper left')\n",
    "plt.plot()"
   ]
  },
  {
   "cell_type": "code",
   "execution_count": 54,
   "metadata": {
    "colab": {
     "base_uri": "https://localhost:8080/"
    },
    "id": "yX3sCchVeMbb",
    "outputId": "fba8731a-7b3d-44e5-eae8-c707f577c2d9"
   },
   "outputs": [
    {
     "name": "stdout",
     "output_type": "stream",
     "text": [
      "question--> hello\n",
      "BOT--> ['i', 'am', 'sorry', '<end>']\n",
      "question--> how are you\n",
      "BOT--> ['i', 'am', 'not', 'going', 'to', 'be', 'a', 'little', '<end>']\n",
      "question--> once upon a  time there was a man\n",
      "BOT--> ['i', 'am', 'not', 'going', 'to', 'be', 'a', 'little', 'man', '<end>']\n",
      "question--> are you sure you will be alright\n",
      "BOT--> ['i', 'am', 'not', 'going', 'to', 'be', 'a', 'cop', '<end>']\n",
      "question--> are you coming with me to London\n",
      "BOT--> ['i', 'am', 'not', 'going', 'to', 'be', 'a', 'little', '<end>']\n",
      "question--> do you know me\n",
      "BOT--> ['i', 'am', 'not', 'going', 'to', 'be', 'a', 'little', '<end>']\n"
     ]
    }
   ],
   "source": [
    "input_sentence=['hello',\n",
    "                'how are you',\n",
    "                'once upon a  time there was a man',\n",
    "                'are you sure you will be alright',\n",
    "                'are you coming with me to London',\n",
    "                'do you know me']\n",
    "for i in input_sentence:\n",
    "    print('question-->',i)\n",
    "    print('BOT-->',greedy_search_predict([i]))"
   ]
  },
  {
   "cell_type": "code",
   "execution_count": 55,
   "metadata": {
    "colab": {
     "base_uri": "https://localhost:8080/"
    },
    "id": "u1In3kQNeMYB",
    "outputId": "0fbd5b5d-0232-4b84-d2dc-389f728471a5"
   },
   "outputs": [
    {
     "name": "stderr",
     "output_type": "stream",
     "text": [
      "/usr/local/lib/python3.7/dist-packages/nltk/translate/bleu_score.py:490: UserWarning: \n",
      "Corpus/Sentence contains 0 counts of 2-gram overlaps.\n",
      "BLEU scores might be undesirable; use SmoothingFunction().\n",
      "  warnings.warn(_msg)\n",
      "/usr/local/lib/python3.7/dist-packages/nltk/translate/bleu_score.py:490: UserWarning: \n",
      "Corpus/Sentence contains 0 counts of 3-gram overlaps.\n",
      "BLEU scores might be undesirable; use SmoothingFunction().\n",
      "  warnings.warn(_msg)\n",
      "/usr/local/lib/python3.7/dist-packages/nltk/translate/bleu_score.py:490: UserWarning: \n",
      "Corpus/Sentence contains 0 counts of 4-gram overlaps.\n",
      "BLEU scores might be undesirable; use SmoothingFunction().\n",
      "  warnings.warn(_msg)\n"
     ]
    },
    {
     "name": "stdout",
     "output_type": "stream",
     "text": [
      "The average BLEU score of these sentences is 0.4711586280315582\n"
     ]
    }
   ],
   "source": [
    "from  nltk.translate.bleu_score import sentence_bleu\n",
    "val=train.sample(1000)\n",
    "predicted=[]\n",
    "references=[]\n",
    "bleu=[]\n",
    "for i in range(1000):\n",
    "     \n",
    "     candidate=greedy_search_predict([val['questions'].iloc[i]])\n",
    "     reference=[val['answers_out'].iloc[i].split()]\n",
    "     bleu.append(sentence_bleu(reference,candidate,weights=[0.25,0.25,0.25,0.25]))\n",
    "bleu_score=np.mean(bleu)\n",
    "print(\"The average BLEU score of these sentences is\", bleu_score)"
   ]
  },
  {
   "cell_type": "markdown",
   "metadata": {
    "id": "UK-WSbv7eMVH"
   },
   "source": [
    "<h2> OBSERVATION </h2>\n",
    "\n",
    "We can see that all the models are roughly performing the same, but embedding layer pretrained on fasttext vector and using concat function for attention layer performs the best\n"
   ]
  },
  {
   "cell_type": "code",
   "execution_count": null,
   "metadata": {},
   "outputs": [],
   "source": []
  }
 ],
 "metadata": {
  "accelerator": "GPU",
  "colab": {
   "collapsed_sections": [],
   "machine_shape": "hm",
   "name": "STACKED_ENC_DECODER _WITH_ATTENTION.ipynb",
   "provenance": []
  },
  "kernelspec": {
   "display_name": "Python 3",
   "language": "python",
   "name": "python3"
  },
  "language_info": {
   "codemirror_mode": {
    "name": "ipython",
    "version": 3
   },
   "file_extension": ".py",
   "mimetype": "text/x-python",
   "name": "python",
   "nbconvert_exporter": "python",
   "pygments_lexer": "ipython3",
   "version": "3.8.3"
  }
 },
 "nbformat": 4,
 "nbformat_minor": 4
}
