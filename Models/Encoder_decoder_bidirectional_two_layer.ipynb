{
 "cells": [
  {
   "cell_type": "code",
   "execution_count": null,
   "metadata": {
    "colab": {
     "base_uri": "https://localhost:8080/"
    },
    "id": "PvRNdu20GSJy",
    "outputId": "4122ccdb-3f78-491f-d43e-0256f098e2bd"
   },
   "outputs": [
    {
     "name": "stdout",
     "output_type": "stream",
     "text": [
      "--2021-10-08 17:54:36--  https://doc-0s-5k-docs.googleusercontent.com/docs/securesc/6kbudo4ee5hqmlq3ia8ppia9sbcvjuvj/o7sld0eqhc4sthcdv80s11mlgigggcei/1633715625000/12878554966299595518/12878554966299595518/1jqMhtzlops8iBUTwYDiIAA2s1JucXd1t?e=download&authuser=0\n",
      "Resolving doc-0s-5k-docs.googleusercontent.com (doc-0s-5k-docs.googleusercontent.com)... 74.125.204.132, 2404:6800:4008:c04::84\n",
      "Connecting to doc-0s-5k-docs.googleusercontent.com (doc-0s-5k-docs.googleusercontent.com)|74.125.204.132|:443... connected.\n",
      "HTTP request sent, awaiting response... 200 OK\n",
      "Length: 33697872 (32M) [text/csv]\n",
      "Saving to: ‘df_data.csv’\n",
      "\n",
      "df_data.csv         100%[===================>]  32.14M  83.7MB/s    in 0.4s    \n",
      "\n",
      "2021-10-08 17:54:37 (83.7 MB/s) - ‘df_data.csv’ saved [33697872/33697872]\n",
      "\n"
     ]
    }
   ],
   "source": [
    "!wget --header=\"Host: doc-0s-5k-docs.googleusercontent.com\" --header=\"User-Agent: Mozilla/5.0 (Windows NT 10.0; Win64; x64) AppleWebKit/537.36 (KHTML, like Gecko) Chrome/93.0.4577.82 Safari/537.36\" --header=\"Accept: text/html,application/xhtml+xml,application/xml;q=0.9,image/avif,image/webp,image/apng,*/*;q=0.8,application/signed-exchange;v=b3;q=0.9\" --header=\"Accept-Language: en-US,en;q=0.9,mt;q=0.8,hi;q=0.7\" --header=\"Cookie: AUTH_2u1gmt4j08s836ujksdlj51vps0jhs16=12878554966299595518|1633715625000|kcsd6dainfv0ndf044lkdc0mdi7435it\" --header=\"Connection: keep-alive\" \"https://doc-0s-5k-docs.googleusercontent.com/docs/securesc/6kbudo4ee5hqmlq3ia8ppia9sbcvjuvj/o7sld0eqhc4sthcdv80s11mlgigggcei/1633715625000/12878554966299595518/12878554966299595518/1jqMhtzlops8iBUTwYDiIAA2s1JucXd1t?e=download&authuser=0\" -c -O 'df_data.csv'"
   ]
  },
  {
   "cell_type": "code",
   "execution_count": null,
   "metadata": {
    "id": "Iw6qy005DGuS"
   },
   "outputs": [],
   "source": [
    "#importing libraries\n",
    "import re\n",
    "\n",
    "import numpy as np\n",
    "import pandas as pd\n",
    "import matplotlib.pyplot as plt\n",
    "%matplotlib inline\n",
    "# import seaborn as sns\n",
    "import pandas as pd\n",
    "import re\n",
    "import tensorflow as tf\n",
    "from tensorflow.keras.layers import Embedding, LSTM, Dense\n",
    "from tensorflow.keras.models import Model\n",
    "from tensorflow.keras.preprocessing.text import Tokenizer\n",
    "from tensorflow.keras.preprocessing.sequence import pad_sequences\n",
    "import numpy as np\n",
    "import seaborn as sns"
   ]
  },
  {
   "cell_type": "code",
   "execution_count": null,
   "metadata": {
    "colab": {
     "base_uri": "https://localhost:8080/",
     "height": 202
    },
    "id": "Lk7K1iDWDPh8",
    "outputId": "54af5a08-7afb-4f3e-9a03-8c9a8f9a73ba"
   },
   "outputs": [
    {
     "data": {
      "text/html": [
       "<div>\n",
       "<style scoped>\n",
       "    .dataframe tbody tr th:only-of-type {\n",
       "        vertical-align: middle;\n",
       "    }\n",
       "\n",
       "    .dataframe tbody tr th {\n",
       "        vertical-align: top;\n",
       "    }\n",
       "\n",
       "    .dataframe thead th {\n",
       "        text-align: right;\n",
       "    }\n",
       "</style>\n",
       "<table border=\"1\" class=\"dataframe\">\n",
       "  <thead>\n",
       "    <tr style=\"text-align: right;\">\n",
       "      <th></th>\n",
       "      <th>questions</th>\n",
       "      <th>answers_inp</th>\n",
       "      <th>answers_out</th>\n",
       "    </tr>\n",
       "  </thead>\n",
       "  <tbody>\n",
       "    <tr>\n",
       "      <th>0</th>\n",
       "      <td>can we make this quick roxanne korrine and and...</td>\n",
       "      <td>&lt;start&gt; well i thought we would start with pro...</td>\n",
       "      <td>well i thought we would start with pronunciati...</td>\n",
       "    </tr>\n",
       "    <tr>\n",
       "      <th>1</th>\n",
       "      <td>well i thought we would start with pronunciati...</td>\n",
       "      <td>&lt;start&gt; not the hacking and gagging and spitti...</td>\n",
       "      <td>not the hacking and gagging and spitting part ...</td>\n",
       "    </tr>\n",
       "    <tr>\n",
       "      <th>2</th>\n",
       "      <td>not the hacking and gagging and spitting part ...</td>\n",
       "      <td>&lt;start&gt; okay then how bout we try out some fre...</td>\n",
       "      <td>okay then how bout we try out some french cuis...</td>\n",
       "    </tr>\n",
       "    <tr>\n",
       "      <th>3</th>\n",
       "      <td>you are asking me out that is so cute what is ...</td>\n",
       "      <td>&lt;start&gt; forget it</td>\n",
       "      <td>forget it &lt;end&gt;</td>\n",
       "    </tr>\n",
       "    <tr>\n",
       "      <th>4</th>\n",
       "      <td>the thing is cameron i am at the mercy of a pa...</td>\n",
       "      <td>&lt;start&gt; seems like she could get a date easy e...</td>\n",
       "      <td>seems like she could get a date easy enough &lt;end&gt;</td>\n",
       "    </tr>\n",
       "  </tbody>\n",
       "</table>\n",
       "</div>"
      ],
      "text/plain": [
       "                                           questions  ...                                        answers_out\n",
       "0  can we make this quick roxanne korrine and and...  ...  well i thought we would start with pronunciati...\n",
       "1  well i thought we would start with pronunciati...  ...  not the hacking and gagging and spitting part ...\n",
       "2  not the hacking and gagging and spitting part ...  ...  okay then how bout we try out some french cuis...\n",
       "3  you are asking me out that is so cute what is ...  ...                                    forget it <end>\n",
       "4  the thing is cameron i am at the mercy of a pa...  ...  seems like she could get a date easy enough <end>\n",
       "\n",
       "[5 rows x 3 columns]"
      ]
     },
     "execution_count": 5,
     "metadata": {},
     "output_type": "execute_result"
    }
   ],
   "source": [
    "df_data=pd.read_csv('df_data.csv')\n",
    "df_data.head()"
   ]
  },
  {
   "cell_type": "code",
   "execution_count": null,
   "metadata": {
    "id": "vBsUv-9SM3Pf"
   },
   "outputs": [],
   "source": [
    "labels_to_remove=[]\n",
    "for index, value in enumerate(df_data['questions'].values):\n",
    "     if len(value.split())>20:\n",
    "         labels_to_remove.append(index)\n",
    "for index, value in enumerate(df_data['answers_inp'].values):\n",
    "     if len(value.split())>20:\n",
    "         labels_to_remove.append(index)\n",
    "labels_to_remove=list(set(labels_to_remove))"
   ]
  },
  {
   "cell_type": "code",
   "execution_count": null,
   "metadata": {
    "id": "AD15WRRQM3Mj"
   },
   "outputs": [],
   "source": [
    "df_new=df_data.drop(labels=labels_to_remove).reset_index(drop=True)"
   ]
  },
  {
   "cell_type": "code",
   "execution_count": null,
   "metadata": {
    "id": "bkcEoDw6M3Ip"
   },
   "outputs": [],
   "source": []
  },
  {
   "cell_type": "code",
   "execution_count": null,
   "metadata": {
    "id": "4elwOpDMDPkv"
   },
   "outputs": [],
   "source": [
    "#train test split\n",
    "from sklearn.model_selection import train_test_split\n",
    "train, validation = train_test_split(df_new, test_size=0.2)"
   ]
  },
  {
   "cell_type": "code",
   "execution_count": null,
   "metadata": {
    "colab": {
     "base_uri": "https://localhost:8080/"
    },
    "id": "DEAdB0YEDPnU",
    "outputId": "6215582e-3893-44ce-c073-9f3a5c394fa1"
   },
   "outputs": [
    {
     "name": "stderr",
     "output_type": "stream",
     "text": [
      "/usr/local/lib/python3.7/dist-packages/ipykernel_launcher.py:2: SettingWithCopyWarning: \n",
      "A value is trying to be set on a copy of a slice from a DataFrame.\n",
      "Try using .loc[row_indexer,col_indexer] = value instead\n",
      "\n",
      "See the caveats in the documentation: https://pandas.pydata.org/pandas-docs/stable/user_guide/indexing.html#returning-a-view-versus-a-copy\n",
      "  \n"
     ]
    }
   ],
   "source": [
    "#adding token <end> to the first datapoint in answers_inp column, so that it can be detected\n",
    "train['complete_answer']=train['answers_inp'] + ' <end>'"
   ]
  },
  {
   "cell_type": "code",
   "execution_count": null,
   "metadata": {
    "colab": {
     "base_uri": "https://localhost:8080/"
    },
    "id": "4MEbWWMjNQi-",
    "outputId": "4b62dad7-754e-43af-b9d4-bedfd6cbb28c"
   },
   "outputs": [
    {
     "data": {
      "text/plain": [
       "24565              <start> we should get ourselves a lawyer\n",
       "131025    <start> you did not write that figure and how ...\n",
       "61783     <start> shutup walter do not fucking say peep ...\n",
       "7036      <start> i do not like people snooping around m...\n",
       "130867                   <start> you know damn well deadman\n",
       "                                ...                        \n",
       "71206     <start> please palmer if you care for me at al...\n",
       "73205                        <start> do not call the police\n",
       "1721      <start> that may be but dad stays where uheu i...\n",
       "134809                                 <start> hello adrian\n",
       "17059     <start> alone all alone oh you strange strange...\n",
       "Name: answers_inp, Length: 108370, dtype: object"
      ]
     },
     "execution_count": 19,
     "metadata": {},
     "output_type": "execute_result"
    }
   ],
   "source": [
    "train['answers_inp']"
   ]
  },
  {
   "cell_type": "code",
   "execution_count": null,
   "metadata": {
    "id": "gsQW28U3CNBR"
   },
   "outputs": [],
   "source": [
    "VOCAB_SIZE=5000"
   ]
  },
  {
   "cell_type": "code",
   "execution_count": null,
   "metadata": {
    "colab": {
     "base_uri": "https://localhost:8080/"
    },
    "id": "hCB_3gjODPqF",
    "outputId": "9b572926-50de-4f3e-a765-ef4749461617"
   },
   "outputs": [
    {
     "data": {
      "text/plain": [
       "30344"
      ]
     },
     "execution_count": 11,
     "metadata": {},
     "output_type": "execute_result"
    }
   ],
   "source": [
    "encoder_token=Tokenizer(num_words=VOCAB_SIZE)\n",
    "encoder_token.fit_on_texts(train['questions'].values.astype(str))\n",
    "enc_vocab_size=len(encoder_token.word_index.keys())\n",
    "enc_vocab_size"
   ]
  },
  {
   "cell_type": "code",
   "execution_count": null,
   "metadata": {
    "colab": {
     "base_uri": "https://localhost:8080/"
    },
    "id": "YO2kUmJVDPs3",
    "outputId": "d7dc8204-5830-40af-e96e-36a590ddd1dd"
   },
   "outputs": [
    {
     "data": {
      "text/plain": [
       "29762"
      ]
     },
     "execution_count": 12,
     "metadata": {},
     "output_type": "execute_result"
    }
   ],
   "source": [
    "decoder_token=Tokenizer(num_words=VOCAB_SIZE,filters='!\"#$%&()*+,-./:;=?@[\\\\]^_`{|}~\\t\\n')\n",
    "decoder_token.fit_on_texts(train['complete_answer'].values.astype(str))\n",
    "dec_vocab_size=len(decoder_token.word_index.keys())\n",
    "dec_vocab_size"
   ]
  },
  {
   "cell_type": "code",
   "execution_count": null,
   "metadata": {
    "colab": {
     "base_uri": "https://localhost:8080/"
    },
    "id": "8nf5AENJF8Ui",
    "outputId": "cb908e9c-19ff-4d23-a2a0-b14db4c7601c"
   },
   "outputs": [
    {
     "data": {
      "text/plain": [
       "(2, 315)"
      ]
     },
     "execution_count": 13,
     "metadata": {},
     "output_type": "execute_result"
    }
   ],
   "source": [
    "\n",
    "decoder_token.word_index['<end>'],decoder_token.word_index['start']"
   ]
  },
  {
   "cell_type": "code",
   "execution_count": null,
   "metadata": {
    "id": "pgwBkywjvZhL"
   },
   "outputs": [],
   "source": []
  },
  {
   "cell_type": "code",
   "execution_count": null,
   "metadata": {
    "id": "JyB-KQGRvOpb"
   },
   "outputs": [],
   "source": [
    "#encoder_token.word_index=prune_vocab(encoder_token.word_index)\n"
   ]
  },
  {
   "cell_type": "code",
   "execution_count": null,
   "metadata": {
    "id": "oDYK42WwFjYo"
   },
   "outputs": [],
   "source": [
    "#decoder_token.word_index=prune_vocab(decoder_token.word_index)\n"
   ]
  },
  {
   "cell_type": "code",
   "execution_count": null,
   "metadata": {
    "id": "Fo1a2JamvO1w"
   },
   "outputs": [],
   "source": [
    "#enc_vocab_size=len(freq_enc_words)\n",
    "#dec_vocab_size=len(freq_dec_words)"
   ]
  },
  {
   "cell_type": "code",
   "execution_count": null,
   "metadata": {
    "id": "E6SLHHDzwJYA"
   },
   "outputs": [],
   "source": []
  },
  {
   "cell_type": "code",
   "execution_count": null,
   "metadata": {
    "id": "T6vrxgzMvO55"
   },
   "outputs": [],
   "source": []
  },
  {
   "cell_type": "code",
   "execution_count": null,
   "metadata": {
    "id": "klqBdnOLDPvm"
   },
   "outputs": [],
   "source": [
    "from tensorflow.keras.layers import Embedding,LSTM,Bidirectional,Concatenate, Dropout\n",
    "class Encoder(tf.keras.layers.Layer):\n",
    "   '''\n",
    "   Creation of an encoder class for an encoder-decoder model\n",
    "\n",
    "   Args:\n",
    "   enc_vocab_size- inputs the vocabulary size of the sequence to be fed in the encoder\n",
    "   embedding_size- output dimesion of the embedding layer\n",
    "   encoder_input_length- length of the sequence\n",
    "\n",
    "   Returns:\n",
    "   Returns outputs of all the timesteps, final timestep hidden state, final timestep cell state of the lstm layer\n",
    "\n",
    "   '''\n",
    "\n",
    "   def __init__(self,enc_vocab_size, embedding_size,enc_lstm_size1,enc_lstm_size2,encoder_input_length,embedding_weights_available=False):\n",
    "       super().__init__()\n",
    "       self.enc_vocab_size=enc_vocab_size\n",
    "       self.embedding_size=embedding_size\n",
    "       self.enc_lstm_size1=enc_lstm_size1\n",
    "       self.enc_lstm_size2=enc_lstm_size2\n",
    "       self.encoder_input_length=encoder_input_length\n",
    "       if embedding_weights_available:\n",
    "            print('using pretrained vector for embedding')\n",
    "            self.embedding_layer=Embedding(input_dim=self.enc_vocab_size,output_dim=self.embedding_size,weights=[embedding_matrix_encoder],trainable=False,input_length=self.encoder_input_length,mask_zero=True,name='embedding_layer_encoder')\n",
    "       else:\n",
    "            print('using no pretrained vector for embedding')\n",
    "            self.embedding_layer=Embedding(input_dim=self.enc_vocab_size,output_dim=self.embedding_size,input_length=self.encoder_input_length,mask_zero=True,name='embedding_layer_encoder')\n",
    "\n",
    "            \n",
    "       self.lstm_layer1=Bidirectional(LSTM(self.enc_lstm_size1,return_sequences=True, return_state=True),merge_mode='concat')\n",
    "       self.lstm_layer2=Bidirectional(LSTM(self.enc_lstm_size2,return_sequences=True, return_state=True),merge_mode='concat')\n",
    "       self.dropout=Dropout(0.3)\n",
    "   def call(self, input_sequences,training=True):\n",
    "      enc_embedd=self.embedding_layer(input_sequences)\n",
    "      enc_whole_seq_output1,forward_h1,forward_c1,backward_h1,backward_c1= self.lstm_layer1(enc_embedd)\n",
    "      enc_whole_seq_output1=self.dropout(enc_whole_seq_output1)\n",
    "      enc_whole_seq_output2,forward_h2,forward_c2,backward_h2,backward_c2= self.lstm_layer2(enc_whole_seq_output1)\n",
    "      enc_hidden_state1=Concatenate()([forward_h1,backward_h1])\n",
    "      enc_cell_state1=Concatenate()([backward_h1,backward_c1])\n",
    "\n",
    "      enc_hidden_state2=Concatenate()([forward_h2,backward_h2])\n",
    "      enc_cell_state2=Concatenate()([backward_h2,backward_c2])\n",
    "\n",
    "      return enc_whole_seq_output1, enc_whole_seq_output2, enc_hidden_state1,enc_cell_state1,enc_hidden_state2,enc_cell_state2\n",
    "\n",
    "\n",
    "   \n",
    "\n",
    "  "
   ]
  },
  {
   "cell_type": "code",
   "execution_count": null,
   "metadata": {
    "id": "XpVaJtfVQ5EW"
   },
   "outputs": [],
   "source": [
    "class onestepDecoder(tf.keras.layers.Layer):\n",
    "      def __init__(self,dec_vocab_size, embedding_size, dec_lstm_size1,dec_lstm_size2, decoder_input_length,embedding_weights_available=False):\n",
    "          super().__init__()\n",
    "          self.dec_vocab_size=dec_vocab_size\n",
    "          self.embedding_size=embedding_size\n",
    "          self.dec_lstm_size1=dec_lstm_size1\n",
    "          self.dec_lstm_size2=dec_lstm_size2\n",
    "          self.decoder_input_length=decoder_input_length\n",
    "          if embedding_weights_available:\n",
    "               self.embedding_layer=Embedding(input_dim=self.dec_vocab_size,output_dim=self.embedding_size,weights=[embedding_matrix_decoder],trainable=False,input_length=self.decoder_input_length,mask_zero=True,name='embedding_layer_decoder')\n",
    "          else:\n",
    "               self.embedding_layer=Embedding(input_dim=self.dec_vocab_size,output_dim=self.embedding_size,input_length=self.decoder_input_length,mask_zero=True,name='embedding_layer_decoder')\n",
    "              \n",
    "          self.lstm_layer1=LSTM(self.dec_lstm_size1,return_sequences=True, return_state=True)\n",
    "          self.dropout=Dropout(0.3)\n",
    "          self.lstm_layer2=LSTM(self.dec_lstm_size2,return_sequences=True, return_state=True)\n",
    "          self.dense=Dense(self.dec_vocab_size)\n",
    "      def call(self, input_to_decoder,states1,states2):\n",
    "          \n",
    "              \n",
    "              dec_embedd=self.embedding_layer(input_to_decoder)\n",
    "         \n",
    "              dec_single_decoder_output, dec_final_hidden_state1, dec_final_cell_state1 = self.lstm_layer1(dec_embedd,initial_state=states1)\n",
    "           \n",
    "             \n",
    "              dec_single_decoder_output=self.dropout(dec_single_decoder_output)\n",
    "            \n",
    "              dec_single_decoder_output, dec_final_hidden_state2, dec_final_cell_state2 = self.lstm_layer2(dec_single_decoder_output,initial_state=states2)\n",
    "              output=self.dense(dec_single_decoder_output)\n",
    "              output=tf.reshape(output,shape=(-1,output.shape[2]))\n",
    "              states1=[dec_final_hidden_state1,dec_final_cell_state1]\n",
    "              states2=[dec_final_hidden_state2,dec_final_cell_state2]\n",
    "              return output,states1,states2\n"
   ]
  },
  {
   "cell_type": "code",
   "execution_count": null,
   "metadata": {
    "id": "XA2rNplqDPyi"
   },
   "outputs": [],
   "source": [
    "class Decoder(tf.keras.layers.Layer):\n",
    "      '''\n",
    "      Creation of a decoder class for an encoder-decoder model\n",
    "\n",
    "      Args:\n",
    "      dec_vocab_size- inputs the vocabulary size of the sequence to be fed in the decoder\n",
    "      embedding_size- output dimesion of the embedding layer\n",
    "      input_length- length of the sequence\n",
    "\n",
    "      Returns:\n",
    "      Returns outputs of all the timesteps, final timestep hidden state, final timestep cell state of the lstm layer\n",
    "\n",
    "      '''\n",
    "      def __init__(self,dec_vocab_size, embedding_size, dec_lstm_size1,dec_lstm_size2, decoder_input_length,embedding_weights_available=False):\n",
    "          super().__init__()\n",
    "          self.dec_vocab_size=dec_vocab_size\n",
    "          self.embedding_size=embedding_size\n",
    "          self.dec_lstm_size1=dec_lstm_size1\n",
    "          self.dec_lstm_size2=dec_lstm_size2\n",
    "          self.decoder_input_length=decoder_input_length\n",
    "          self.onestepDecoder=onestepDecoder(self.dec_vocab_size, self.embedding_size, self.dec_lstm_size1, self.dec_lstm_size2, self.decoder_input_length, embedding_weights_available=False)\n",
    "\n",
    "      def call(self, input_sequence,states1,states2):\n",
    "           \n",
    "                all_outputs=tf.TensorArray(tf.float32,size=self.decoder_input_length)\n",
    "                #all_outputs=tf.zeros((input_sequence.shape[0],self.decoder_input_lenght))\n",
    "                for timestep in range(self.decoder_input_length):\n",
    "                    decoder_output,states1,states2=self.onestepDecoder(input_sequence[:,timestep:timestep+1],states1,states2)\n",
    "                    all_outputs=all_outputs.write(timestep,decoder_output)\n",
    "                    \n",
    "                all_outputs=tf.transpose(all_outputs.stack(),[1,0,2])\n",
    "                return all_outputs\n",
    "\n",
    "      \n",
    "         \n",
    "     \n",
    "      "
   ]
  },
  {
   "cell_type": "code",
   "execution_count": null,
   "metadata": {
    "id": "iwkJWrORAhzR"
   },
   "outputs": [],
   "source": []
  },
  {
   "cell_type": "code",
   "execution_count": null,
   "metadata": {
    "id": "UDMBWqzgDP1Q"
   },
   "outputs": [],
   "source": [
    "\n",
    "class Encoder_Decoder_Model(tf.keras.Model):\n",
    "\n",
    "      '''\n",
    "\n",
    "      Definition of simple encoder decoder model without attention\n",
    "\n",
    "      Args:\n",
    "      enc_vocab_size-vocabulary size of the encoder sequence\n",
    "      dec_voacab_size-vocabulary size of the decoder sequence\n",
    "      embedding_size-output of the embedding layer\n",
    "      enc_lstm_size- number of lstm units in encoders each timestep\n",
    "      dec_lstm_size-number of lstm units in decoder each timestep\n",
    "      encoder_input_length- length of the input sequence to be fed to the encoder\n",
    "      decoder_input_length- length of the input sequence to be fed to the decoder\n",
    "\n",
    "      Returns:\n",
    "      Return the vector of size decoder vocabulary size, which basically means probability of occurence of the word in the vocabulary at a partiular timestep \n",
    "\n",
    "      '''\n",
    "      def __init__(self,enc_vocab_size,dec_vocab_size,embedding_size,enc_lstm_size1,enc_lstm_size2,dec_lstm_size1,dec_lstm_size2,max_length,embedding_weights_available):\n",
    "          super().__init__()\n",
    "          self.enc_vocab_size=enc_vocab_size\n",
    "          self.dec_vocab_size=dec_vocab_size\n",
    "          self.embedding_size=embedding_size\n",
    "          self.enc_lstm_size1=enc_lstm_size1\n",
    "          self.dec_lstm_size1=dec_lstm_size1\n",
    "          self.enc_lstm_size2=enc_lstm_size2\n",
    "          self.dec_lstm_size2=dec_lstm_size2\n",
    "          self.encoder_input_length=max_length\n",
    "          self.decoder_input_length=max_length\n",
    "          self.encoder=Encoder(self.enc_vocab_size+1,self.embedding_size,self.enc_lstm_size1,self.enc_lstm_size2,self.encoder_input_length,embedding_weights_available)\n",
    "        \n",
    "          self.decoder=Decoder(self.dec_vocab_size+1,self.embedding_size,self.dec_lstm_size1,self.dec_lstm_size2,self.decoder_input_length,embedding_weights_available)\n",
    "          #self.dense=Dense(self.dec_vocab_size,activation='softmax')\n",
    "          #self.adap_soft=AdaptiveSoftmax(cut_offs)\n",
    "         \n",
    "\n",
    "      def call(self,data):\n",
    "          inp,out=data[0],data[1]\n",
    "       \n",
    "          enc_whole_seq_output1, enc_whole_seq_output2, enc_hidden_state1,enc_cell_state1,enc_hidden_state2,enc_cell_state2=self.encoder(inp)\n",
    "          states1=[enc_hidden_state1,enc_cell_state1]\n",
    "          states2=[enc_hidden_state2,enc_cell_state2]\n",
    "          decoder_output=self.decoder(out,states1,states2)\n",
    "          \n",
    "          #output=self.dense(decoder_output)\n",
    "          #output=self.adap_soft(decoder_output)\n",
    "         \n",
    "          return decoder_output"
   ]
  },
  {
   "cell_type": "code",
   "execution_count": null,
   "metadata": {
    "id": "vLliGqB_DP4a"
   },
   "outputs": [],
   "source": [
    "class Dataset:\n",
    "    def __init__(self, data, encoder_token, decoder_token, max_len):\n",
    "        self.encoder_inps = data['questions'].astype(str).values\n",
    "        self.decoder_inps = data['answers_inp'].astype(str).values\n",
    "        self.decoder_outs = data['answers_out'].astype(str).values\n",
    "        self.encoder_token= encoder_token\n",
    "        self.decoder_token = decoder_token\n",
    "        self.max_len=max_len\n",
    "        #self.max_len_encoder = max_len_encoder\n",
    "        #self.max_len_decoder = max_len_decoder\n",
    "\n",
    "    def __getitem__(self, i):\n",
    "\n",
    "        self.encoder_seq = self.encoder_token.texts_to_sequences([self.encoder_inps[i]]) # need to pass list of values\n",
    "        self.decoder_inp_seq = self.decoder_token.texts_to_sequences([self.decoder_inps[i]])\n",
    "        self.decoder_out_seq = self.decoder_token.texts_to_sequences([self.decoder_outs[i]])\n",
    "        \n",
    "        self.encoder_seq = pad_sequences(self.encoder_seq, maxlen=self.max_len, dtype='int32', padding='post')\n",
    "        self.decoder_inp_seq = pad_sequences(self.decoder_inp_seq, maxlen=self.max_len, dtype='int32', padding='post')\n",
    "        self.decoder_out_seq = pad_sequences(self.decoder_out_seq, maxlen=self.max_len, dtype='int32', padding='post')\n",
    "        return self.encoder_seq, self.decoder_inp_seq, self.decoder_out_seq\n",
    "\n",
    "    def __len__(self): # your model.fit_gen requires this function\n",
    "        return len(self.encoder_inps)\n",
    "\n",
    "    \n",
    "class Dataloder(tf.keras.utils.Sequence):    \n",
    "    def __init__(self, dataset, batch_size=1):\n",
    "        self.dataset = dataset\n",
    "        self.batch_size = batch_size\n",
    "        self.indexes = np.arange(len(self.dataset.encoder_inps))\n",
    "\n",
    "\n",
    "    def __getitem__(self, i):\n",
    "     \n",
    "        start = i * self.batch_size\n",
    "   \n",
    "        stop = (i + 1) * self.batch_size\n",
    "       \n",
    "        data = []\n",
    "        for j in range(start, stop):\n",
    "            data.append(self.dataset[j])\n",
    "       \n",
    "        batch = [np.squeeze(np.stack(samples, axis=1), axis=0) for samples in zip(*data)]\n",
    "        # we are creating data like ([italian, english_inp], english_out) these are already converted into seq\n",
    "       # print(\"bat\",batch[0].shape)\n",
    "      \n",
    "        return tuple([[batch[0],batch[1]],batch[2]])\n",
    "\n",
    "    def __len__(self):  # your model.fit_gen requires this function\n",
    "        return len(self.indexes) // self.batch_size\n",
    "\n",
    "    def on_epoch_end(self):\n",
    "\n",
    "        self.indexes = np.random.permutation(self.indexes)"
   ]
  },
  {
   "cell_type": "code",
   "execution_count": null,
   "metadata": {
    "id": "-OqZG9zmDP7i"
   },
   "outputs": [],
   "source": [
    "max_length=12\n",
    "batch_size=256\n",
    "\n",
    "train_dataset = Dataset(train, encoder_token, decoder_token,max_length)\n",
    "test_dataset  = Dataset(validation, encoder_token, decoder_token, max_length)\n",
    "\n",
    "train_dataloader = Dataloder(train_dataset, batch_size=batch_size)\n",
    "test_dataloader = Dataloder(test_dataset, batch_size=batch_size)"
   ]
  },
  {
   "cell_type": "code",
   "execution_count": null,
   "metadata": {
    "id": "fEMf2sru60Hi"
   },
   "outputs": [],
   "source": [
    "def scheduler(epoch, lr):\n",
    "  if epoch>3 and epoch%2==0:\n",
    "    return lr*0.1\n",
    "  else:\n",
    "    return lr\n"
   ]
  },
  {
   "cell_type": "code",
   "execution_count": null,
   "metadata": {
    "id": "pJZtA6wFDP-V"
   },
   "outputs": [],
   "source": [
    "early_stop=tf.keras.callbacks.EarlyStopping(\n",
    "    monitor='val_loss', min_delta=0, patience=2, verbose=0,\n",
    "    mode='auto', baseline=None, restore_best_weights=True\n",
    ")\n",
    "lr_schedule = tf.keras.callbacks.LearningRateScheduler(scheduler)"
   ]
  },
  {
   "cell_type": "code",
   "execution_count": null,
   "metadata": {
    "id": "vAzPAHTvDQBC"
   },
   "outputs": [],
   "source": []
  },
  {
   "cell_type": "code",
   "execution_count": null,
   "metadata": {
    "id": "R6RVyeZNGEoE"
   },
   "outputs": [],
   "source": [
    "encoder_input_length=max_length\n",
    "decoder_input_length=max_length"
   ]
  },
  {
   "cell_type": "code",
   "execution_count": null,
   "metadata": {
    "id": "9IqfhNNckmwp"
   },
   "outputs": [],
   "source": [
    "loss_object = tf.keras.losses.SparseCategoricalCrossentropy(\n",
    "    from_logits=True, reduction='none')"
   ]
  },
  {
   "cell_type": "code",
   "execution_count": null,
   "metadata": {
    "id": "Q4kmipS4FToJ"
   },
   "outputs": [],
   "source": [
    "def custom_lossfunction(targets,logits):\n",
    "  mask = tf.math.logical_not(tf.math.equal(targets, 0))\n",
    "  loss_ = loss_object(targets,logits)\n",
    "\n",
    "  mask = tf.cast(mask, dtype=loss_.dtype)\n",
    "  loss_ *= mask\n",
    "\n",
    "  return tf.reduce_mean(loss_)"
   ]
  },
  {
   "cell_type": "code",
   "execution_count": null,
   "metadata": {
    "id": "99EBtQeXPPrB"
   },
   "outputs": [],
   "source": []
  },
  {
   "cell_type": "code",
   "execution_count": null,
   "metadata": {
    "id": "fprp9HLWgfCR"
   },
   "outputs": [],
   "source": []
  },
  {
   "cell_type": "code",
   "execution_count": null,
   "metadata": {
    "colab": {
     "base_uri": "https://localhost:8080/"
    },
    "id": "0W4HoT4BGEld",
    "outputId": "67e09c44-15cc-43cb-b8a3-8186fe48cda9"
   },
   "outputs": [
    {
     "name": "stdout",
     "output_type": "stream",
     "text": [
      "using no pretrained vector for embedding\n",
      "Epoch 1/30\n",
      "423/423 [==============================] - 219s 307ms/step - loss: 3.3753 - acc: 0.1084 - val_loss: 3.0190 - val_acc: 0.1364\n",
      "Epoch 2/30\n",
      "423/423 [==============================] - 101s 238ms/step - loss: 2.9453 - acc: 0.1478 - val_loss: 2.8412 - val_acc: 0.1548\n",
      "Epoch 3/30\n",
      "423/423 [==============================] - 101s 239ms/step - loss: 2.8202 - acc: 0.1573 - val_loss: 2.7716 - val_acc: 0.1603\n",
      "Epoch 4/30\n",
      "423/423 [==============================] - 100s 237ms/step - loss: 2.7443 - acc: 0.1627 - val_loss: 2.7277 - val_acc: 0.1643\n",
      "Epoch 5/30\n",
      "423/423 [==============================] - 101s 238ms/step - loss: 2.6919 - acc: 0.1660 - val_loss: 2.7009 - val_acc: 0.1670\n",
      "Epoch 6/30\n",
      "423/423 [==============================] - 102s 240ms/step - loss: 2.6483 - acc: 0.1687 - val_loss: 2.6834 - val_acc: 0.1689\n",
      "Epoch 7/30\n",
      "423/423 [==============================] - 100s 237ms/step - loss: 2.6117 - acc: 0.1711 - val_loss: 2.6691 - val_acc: 0.1704\n",
      "Epoch 8/30\n",
      "423/423 [==============================] - 101s 238ms/step - loss: 2.5785 - acc: 0.1729 - val_loss: 2.6608 - val_acc: 0.1712\n",
      "Epoch 9/30\n",
      "423/423 [==============================] - 100s 237ms/step - loss: 2.5486 - acc: 0.1746 - val_loss: 2.6547 - val_acc: 0.1724\n",
      "Epoch 10/30\n",
      "423/423 [==============================] - 101s 239ms/step - loss: 2.5220 - acc: 0.1760 - val_loss: 2.6507 - val_acc: 0.1732\n",
      "Epoch 11/30\n",
      "423/423 [==============================] - 101s 238ms/step - loss: 2.4933 - acc: 0.1778 - val_loss: 2.6492 - val_acc: 0.1742\n",
      "Epoch 12/30\n",
      "423/423 [==============================] - 100s 236ms/step - loss: 2.4676 - acc: 0.1793 - val_loss: 2.6485 - val_acc: 0.1747\n",
      "\n",
      "Epoch 00012: ReduceLROnPlateau reducing learning rate to 0.0003868626990115422.\n",
      "Epoch 13/30\n",
      "423/423 [==============================] - 101s 239ms/step - loss: 2.4189 - acc: 0.1822 - val_loss: 2.6413 - val_acc: 0.1757\n",
      "Epoch 14/30\n",
      "423/423 [==============================] - 100s 237ms/step - loss: 2.4050 - acc: 0.1829 - val_loss: 2.6419 - val_acc: 0.1757\n",
      "Epoch 15/30\n",
      "423/423 [==============================] - 99s 234ms/step - loss: 2.3937 - acc: 0.1838 - val_loss: 2.6441 - val_acc: 0.1760\n",
      "\n",
      "Epoch 00015: ReduceLROnPlateau reducing learning rate to 0.00014966273940005437.\n",
      "Model: \"encoder__decoder__model_10\"\n",
      "_________________________________________________________________\n",
      "Layer (type)                 Output Shape              Param #   \n",
      "=================================================================\n",
      "encoder_10 (Encoder)         multiple                  6236544   \n",
      "_________________________________________________________________\n",
      "decoder_10 (Decoder)         multiple                  9786632   \n",
      "=================================================================\n",
      "Total params: 16,023,176\n",
      "Trainable params: 16,023,176\n",
      "Non-trainable params: 0\n",
      "_________________________________________________________________\n"
     ]
    }
   ],
   "source": [
    "embedding_size=128\n",
    "enc_lstm_size1=256\n",
    "enc_lstm_size2=256\n",
    "dec_lstm_size1=512\n",
    "dec_lstm_size2=512\n",
    "\n",
    "model  = Encoder_Decoder_Model(enc_vocab_size,dec_vocab_size,embedding_size,enc_lstm_size1,enc_lstm_size2,dec_lstm_size1,dec_lstm_size2,max_length,embedding_weights_available=False)\n",
    "reduce_lr=tf.keras.callbacks.ReduceLROnPlateau(monitor='val_loss', factor= 0.3868626806365509, patience=2, verbose=1,mode='min', min_delta=0.006267752196755831, cooldown=0, min_lr=0.0001)\n",
    "optimizer = tf.keras.optimizers.Adam(0.001)\n",
    "model.compile(optimizer=optimizer,loss=custom_lossfunction,metrics=['acc'])\n",
    "train_steps=train.shape[0]//batch_size\n",
    "valid_steps=validation.shape[0]//batch_size\n",
    "history=model.fit(train_dataloader,steps_per_epoch=train_steps,epochs=30, validation_data=test_dataloader, validation_steps=valid_steps,callbacks=[reduce_lr,early_stop])\n",
    "model.summary()"
   ]
  },
  {
   "cell_type": "code",
   "execution_count": null,
   "metadata": {
    "colab": {
     "base_uri": "https://localhost:8080/",
     "height": 312
    },
    "id": "e2EjKCqySRrV",
    "outputId": "fe5d83d6-a875-4ce6-97f6-8ae3d3802603"
   },
   "outputs": [
    {
     "data": {
      "text/plain": [
       "[]"
      ]
     },
     "execution_count": 125,
     "metadata": {},
     "output_type": "execute_result"
    },
    {
     "data": {
      "image/png": "[encoded data removed]",
      "text/plain": [
       "<Figure size 432x288 with 1 Axes>"
      ]
     },
     "metadata": {},
     "output_type": "display_data"
    }
   ],
   "source": [
    "#print history loss validation and training\n",
    "plt.plot(history.history['loss'])\n",
    "plt.plot(history.history['val_loss'])\n",
    "plt.ylabel('LOSS')\n",
    "plt.xlabel('epoch')\n",
    "plt.title('LOSS vs EPOCHS')\n",
    "plt.legend(['train', 'validation'], loc='upper left')\n",
    "plt.plot()"
   ]
  },
  {
   "cell_type": "code",
   "execution_count": null,
   "metadata": {
    "colab": {
     "base_uri": "https://localhost:8080/",
     "height": 298
    },
    "id": "ONDOKorESRd5",
    "outputId": "1a560dd3-7776-485f-92e2-6c921f6cc0c3"
   },
   "outputs": [
    {
     "data": {
      "text/plain": [
       "[]"
      ]
     },
     "execution_count": 126,
     "metadata": {},
     "output_type": "execute_result"
    },
    {
     "data": {
      "image/png": "[encoded data removed]",
      "text/plain": [
       "<Figure size 432x288 with 1 Axes>"
      ]
     },
     "metadata": {},
     "output_type": "display_data"
    }
   ],
   "source": [
    "#print history accuracy validation and training\n",
    "plt.plot(history.history['acc'])\n",
    "plt.plot(history.history['val_acc'])\n",
    "plt.ylabel('ACCURACYepoch')\n",
    "plt.title('ACCURACY vs EPOCHS')\n",
    "plt.legend(['train', 'validation'], loc='upper left')\n",
    "plt.plot()"
   ]
  },
  {
   "cell_type": "markdown",
   "metadata": {
    "id": "JJsrs70CV6n6"
   },
   "source": [
    "**GREEDY SEARCH**"
   ]
  },
  {
   "cell_type": "code",
   "execution_count": 37,
   "metadata": {
    "id": "oLlVhMnmGEis"
   },
   "outputs": [],
   "source": [
    "def predict_greedy(input_sentence):\n",
    "\n",
    "    '''\n",
    "    Predict the output based on the model it is trained on\n",
    "    Args:\n",
    "    input_sentence: the sentence for which you want the bot to answer\n",
    "\n",
    "    Return:\n",
    "    the predicted sentence\n",
    "    '''\n",
    "    enc_sent=encoder_token.texts_to_sequences(input_sentence)\n",
    "\n",
    "    padded_enc_sent=pad_sequences(enc_sent,max_length_decoder,dtype='int32', padding='post')\n",
    "    \n",
    "  \n",
    "    \n",
    "    encoder_embed= model.layers[0].embedding_layer(padded_enc_sent)\n",
    "    encoder_output, forward_h1,forward_c1,backward_h1,backward_c1=model.layers[0].lstm_layer1(encoder_embed)\n",
    "    encoder_output, forward_h2,forward_c2,backward_h2,backward_c2=model.layers[0].lstm_layer2(encoder_output)\n",
    "\n",
    "    enc_hidden_state1=Concatenate()([forward_h1,backward_h1])\n",
    "    enc_cell_state1=Concatenate()([backward_h1,backward_c1])\n",
    "\n",
    "    enc_hidden_state2=Concatenate()([forward_h2,backward_h2])\n",
    "    enc_cell_state2=Concatenate()([backward_h2,backward_c2])\n",
    "    states1=[enc_hidden_state1,enc_cell_state1]\n",
    "    states2=[enc_hidden_state2,enc_cell_state2]\n",
    "\n",
    "    word_count=0\n",
    "    pred = []\n",
    "    \n",
    "    dec_input= np.ones((1, 1))\n",
    "    #predicted_word=tknizer_eng.texts_to_sequences('<start>')\n",
    "  # dec_input=tknizer_eng.texts_to_sequences('<start>')\n",
    "    \n",
    "    while (dec_input!=decoder_token.word_index['<end>']):\n",
    "        \n",
    "        output,states1,states2=model.layers[1].onestepDecoder(dec_input,states1,states2)\n",
    "        dec_input=np.reshape(np.argmax(output), (1, 1))\n",
    "        \n",
    "        for key,value in decoder_token.word_index.items():\n",
    "              if value==dec_input[0]:\n",
    "                  word=key\n",
    "        \n",
    "        \n",
    "\n",
    "        pred.append(word)\n",
    "        word_count=word_count+1\n",
    "    return pred\n"
   ]
  },
  {
   "cell_type": "code",
   "execution_count": null,
   "metadata": {
    "id": "Ybb2z9s1GEfw"
   },
   "outputs": [],
   "source": [
    "max_length_encoder=max_length\n",
    "max_length_decoder=max_length"
   ]
  },
  {
   "cell_type": "code",
   "execution_count": null,
   "metadata": {
    "colab": {
     "base_uri": "https://localhost:8080/"
    },
    "id": "6VTSJPjbjLry",
    "outputId": "d941407e-7864-4b42-86f4-99c2230d2a34"
   },
   "outputs": [
    {
     "name": "stdout",
     "output_type": "stream",
     "text": [
      "question--> hello\n",
      "BOT--> ['hello', '<end>']\n",
      "question--> how are you\n",
      "BOT--> ['i', 'am', 'not', '<end>']\n",
      "question--> who is your master\n",
      "BOT--> ['i', 'am', 'not', '<end>']\n",
      "question--> are you sure you will be alright\n",
      "BOT--> ['i', 'am', 'not', 'sure', '<end>']\n",
      "question--> are you coming with me to London\n",
      "BOT--> ['i', 'am', 'not', '<end>']\n",
      "question--> do you know me\n",
      "BOT--> ['i', 'am', 'not', '<end>']\n"
     ]
    }
   ],
   "source": [
    "input_sentence=['hello',\n",
    "                'how are you',\n",
    "                'who is your master',\n",
    "                'are you sure you will be alright',\n",
    "                'are you coming with me to London',\n",
    "                'do you know me']\n",
    "for i in input_sentence:\n",
    "    print('question-->',i)\n",
    "    print('BOT-->',predict_greedy([i]))"
   ]
  },
  {
   "cell_type": "code",
   "execution_count": null,
   "metadata": {
    "id": "rOWpLxE6jLkR"
   },
   "outputs": [],
   "source": []
  },
  {
   "cell_type": "code",
   "execution_count": null,
   "metadata": {
    "colab": {
     "base_uri": "https://localhost:8080/"
    },
    "id": "L1ZZPcXKGEdA",
    "outputId": "0e320245-f5d9-42e0-f25d-53a650a07a4d"
   },
   "outputs": [
    {
     "name": "stderr",
     "output_type": "stream",
     "text": [
      "/usr/local/lib/python3.7/dist-packages/nltk/translate/bleu_score.py:490: UserWarning: \n",
      "Corpus/Sentence contains 0 counts of 2-gram overlaps.\n",
      "BLEU scores might be undesirable; use SmoothingFunction().\n",
      "  warnings.warn(_msg)\n",
      "/usr/local/lib/python3.7/dist-packages/nltk/translate/bleu_score.py:490: UserWarning: \n",
      "Corpus/Sentence contains 0 counts of 3-gram overlaps.\n",
      "BLEU scores might be undesirable; use SmoothingFunction().\n",
      "  warnings.warn(_msg)\n",
      "/usr/local/lib/python3.7/dist-packages/nltk/translate/bleu_score.py:490: UserWarning: \n",
      "Corpus/Sentence contains 0 counts of 4-gram overlaps.\n",
      "BLEU scores might be undesirable; use SmoothingFunction().\n",
      "  warnings.warn(_msg)\n"
     ]
    },
    {
     "name": "stdout",
     "output_type": "stream",
     "text": [
      "The average BLEU score of these sentences is 0.41004935734124676\n"
     ]
    }
   ],
   "source": [
    "from  nltk.translate.bleu_score import sentence_bleu\n",
    "val=validation.sample(1000)\n",
    "predicted=[]\n",
    "references=[]\n",
    "bleu=[]\n",
    "for i in range(1000):\n",
    "  \n",
    "     candidate=predict_greedy([val['questions'].astype(str).iloc[i]])\n",
    "     reference=[val['answers_out'].astype(str).iloc[i].split()]\n",
    "     bleu.append(sentence_bleu(reference,candidate,weights=[0.25,0.25,0.25,0.25]))\n",
    "bleu_score=np.mean(bleu)\n",
    "print(\"The average BLEU score of these sentences is\", bleu_score)"
   ]
  },
  {
   "cell_type": "markdown",
   "metadata": {
    "id": "p20hFLvn9tNj"
   },
   "source": [
    "MODEL-2- Embedding weights Pretrained on GLOVE VECTORS\n"
   ]
  },
  {
   "cell_type": "code",
   "execution_count": null,
   "metadata": {
    "colab": {
     "base_uri": "https://localhost:8080/"
    },
    "id": "FAryhtoTGEXC",
    "outputId": "c02583f8-49df-4cc0-f705-1f760750106e"
   },
   "outputs": [
    {
     "name": "stdout",
     "output_type": "stream",
     "text": [
      "--2021-10-08 16:45:21--  https://www.dropbox.com/s/ddkmtqz01jc024u/glove.6B.100d.txt\n",
      "Resolving www.dropbox.com (www.dropbox.com)... 162.125.65.18, 2620:100:6021:18::a27d:4112\n",
      "Connecting to www.dropbox.com (www.dropbox.com)|162.125.65.18|:443... connected.\n",
      "HTTP request sent, awaiting response... 301 Moved Permanently\n",
      "Location: /s/raw/ddkmtqz01jc024u/glove.6B.100d.txt [following]\n",
      "--2021-10-08 16:45:21--  https://www.dropbox.com/s/raw/ddkmtqz01jc024u/glove.6B.100d.txt\n",
      "Reusing existing connection to www.dropbox.com:443.\n",
      "HTTP request sent, awaiting response... 302 Found\n",
      "Location: https://ucf632704d3dda62931a3bcbec47.dl.dropboxusercontent.com/cd/0/inline/BXqlLOKWYD_6hLt0-GVBF3O3n1N9y94fVqWxQJa6tM0B0Y-NLAxe5jKRETGMej66L4SQVjwh5Y1F216nr-_kE2y4wjJKLBo36WSI3287bdMRgy1WrnDXgkSaedqYN0XQlLOvcQe36lsPRYVTxbnEwYd5/file# [following]\n",
      "--2021-10-08 16:45:21--  https://ucf632704d3dda62931a3bcbec47.dl.dropboxusercontent.com/cd/0/inline/BXqlLOKWYD_6hLt0-GVBF3O3n1N9y94fVqWxQJa6tM0B0Y-NLAxe5jKRETGMej66L4SQVjwh5Y1F216nr-_kE2y4wjJKLBo36WSI3287bdMRgy1WrnDXgkSaedqYN0XQlLOvcQe36lsPRYVTxbnEwYd5/file\n",
      "Resolving ucf632704d3dda62931a3bcbec47.dl.dropboxusercontent.com (ucf632704d3dda62931a3bcbec47.dl.dropboxusercontent.com)... 162.125.65.15, 2620:100:6021:15::a27d:410f\n",
      "Connecting to ucf632704d3dda62931a3bcbec47.dl.dropboxusercontent.com (ucf632704d3dda62931a3bcbec47.dl.dropboxusercontent.com)|162.125.65.15|:443... connected.\n",
      "HTTP request sent, awaiting response... 200 OK\n",
      "Length: 347116733 (331M) [text/plain]\n",
      "Saving to: ‘glove.6B.100d.txt’\n",
      "\n",
      "glove.6B.100d.txt   100%[===================>] 331.04M  20.6MB/s    in 20s     \n",
      "\n",
      "2021-10-08 16:45:41 (16.8 MB/s) - ‘glove.6B.100d.txt’ saved [347116733/347116733]\n",
      "\n"
     ]
    }
   ],
   "source": [
    "!wget https://www.dropbox.com/s/ddkmtqz01jc024u/glove.6B.100d.txt"
   ]
  },
  {
   "cell_type": "code",
   "execution_count": null,
   "metadata": {
    "id": "Eu20j3k8yTb5"
   },
   "outputs": [],
   "source": [
    "embeddings_index = dict()\n",
    "f = open('glove.6B.100d.txt')\n",
    "for line in f:\n",
    "    values = line.split()\n",
    "    word = values[0]\n",
    "    coefs = np.asarray(values[1:], dtype='float32')\n",
    "    embeddings_index[word] = coefs\n",
    "f.close()\n",
    "\n",
    "embedding_matrix_encoder = np.zeros((VOCAB_SIZE+1, 100))\n",
    "for word, i in encoder_token.word_index.items():\n",
    "   if i<5001:\n",
    "      embedding_vector = embeddings_index.get(word)\n",
    "      if embedding_vector is not None:\n",
    "          embedding_matrix_encoder[i] = embedding_vector\n",
    "\n",
    "embedding_matrix_decoder = np.zeros((VOCAB_SIZE+1, 100))\n",
    "\n",
    "for word, i in decoder_token.word_index.items():\n",
    "  if i<5001:\n",
    "      embedding_vector = embeddings_index.get(word)\n",
    "      if embedding_vector is not None:\n",
    "          embedding_matrix_decoder[i] = embedding_vector"
   ]
  },
  {
   "cell_type": "code",
   "execution_count": null,
   "metadata": {
    "colab": {
     "base_uri": "https://localhost:8080/"
    },
    "id": "HtiSoYoTyTaB",
    "outputId": "6b6871e6-fbfa-432e-e865-c9c6b50675d5"
   },
   "outputs": [
    {
     "name": "stdout",
     "output_type": "stream",
     "text": [
      "using pretrained vector for embedding\n",
      "Epoch 1/30\n",
      "423/423 [==============================] - 219s 304ms/step - loss: 3.4874 - acc: 0.1011 - val_loss: 3.1988 - val_acc: 0.1189\n",
      "Epoch 2/30\n",
      "423/423 [==============================] - 101s 238ms/step - loss: 3.0193 - acc: 0.1416 - val_loss: 2.8635 - val_acc: 0.1528\n",
      "Epoch 3/30\n",
      "423/423 [==============================] - 101s 238ms/step - loss: 2.8397 - acc: 0.1567 - val_loss: 2.7801 - val_acc: 0.1596\n",
      "Epoch 4/30\n",
      "423/423 [==============================] - 101s 238ms/step - loss: 2.7604 - acc: 0.1616 - val_loss: 2.7381 - val_acc: 0.1629\n",
      "Epoch 5/30\n",
      "423/423 [==============================] - 101s 239ms/step - loss: 2.7057 - acc: 0.1655 - val_loss: 2.7053 - val_acc: 0.1663\n",
      "Epoch 6/30\n",
      "423/423 [==============================] - 108s 255ms/step - loss: 2.6636 - acc: 0.1680 - val_loss: 2.6835 - val_acc: 0.1685\n",
      "Epoch 7/30\n",
      "423/423 [==============================] - 101s 238ms/step - loss: 2.6235 - acc: 0.1704 - val_loss: 2.6676 - val_acc: 0.1705\n",
      "Epoch 8/30\n",
      "423/423 [==============================] - 101s 239ms/step - loss: 2.5884 - acc: 0.1726 - val_loss: 2.6574 - val_acc: 0.1715\n",
      "Epoch 9/30\n",
      "423/423 [==============================] - 101s 239ms/step - loss: 2.5571 - acc: 0.1744 - val_loss: 2.6465 - val_acc: 0.1728\n",
      "Epoch 10/30\n",
      "423/423 [==============================] - 100s 237ms/step - loss: 2.5265 - acc: 0.1759 - val_loss: 2.6407 - val_acc: 0.1736\n",
      "Epoch 11/30\n",
      "423/423 [==============================] - 101s 240ms/step - loss: 2.4982 - acc: 0.1777 - val_loss: 2.6382 - val_acc: 0.1744\n",
      "Epoch 12/30\n",
      "423/423 [==============================] - 101s 238ms/step - loss: 2.4714 - acc: 0.1791 - val_loss: 2.6363 - val_acc: 0.1747\n",
      "Epoch 13/30\n",
      "423/423 [==============================] - 101s 239ms/step - loss: 2.4447 - acc: 0.1806 - val_loss: 2.6354 - val_acc: 0.1754\n",
      "\n",
      "Epoch 00013: ReduceLROnPlateau reducing learning rate to 0.0003868626990115422.\n",
      "Epoch 14/30\n",
      "423/423 [==============================] - 101s 239ms/step - loss: 2.3935 - acc: 0.1837 - val_loss: 2.6257 - val_acc: 0.1765\n",
      "Epoch 15/30\n",
      "423/423 [==============================] - 101s 238ms/step - loss: 2.3791 - acc: 0.1848 - val_loss: 2.6254 - val_acc: 0.1771\n",
      "Epoch 16/30\n",
      "423/423 [==============================] - 100s 237ms/step - loss: 2.3674 - acc: 0.1855 - val_loss: 2.6276 - val_acc: 0.1768\n",
      "\n",
      "Epoch 00016: ReduceLROnPlateau reducing learning rate to 0.00014966273940005437.\n",
      "Epoch 17/30\n",
      "423/423 [==============================] - 101s 239ms/step - loss: 2.3448 - acc: 0.1868 - val_loss: 2.6253 - val_acc: 0.1773\n",
      "Epoch 18/30\n",
      "423/423 [==============================] - 99s 235ms/step - loss: 2.3387 - acc: 0.1874 - val_loss: 2.6265 - val_acc: 0.1775\n",
      "\n",
      "Epoch 00018: ReduceLROnPlateau reducing learning rate to 0.0001.\n",
      "Epoch 19/30\n",
      "423/423 [==============================] - 100s 237ms/step - loss: 2.3311 - acc: 0.1879 - val_loss: 2.6258 - val_acc: 0.1777\n",
      "Model: \"encoder__decoder__model_12\"\n",
      "_________________________________________________________________\n",
      "Layer (type)                 Output Shape              Param #   \n",
      "=================================================================\n",
      "encoder_12 (Encoder)         multiple                  2806148   \n",
      "_________________________________________________________________\n",
      "decoder_12 (Decoder)         multiple                  6419724   \n",
      "=================================================================\n",
      "Total params: 9,225,872\n",
      "Trainable params: 8,725,772\n",
      "Non-trainable params: 500,100\n",
      "_________________________________________________________________\n"
     ]
    }
   ],
   "source": [
    "embedding_size=100\n",
    "enc_lstm_size1=256\n",
    "enc_lstm_size2=256\n",
    "dec_lstm_size1=512\n",
    "dec_lstm_size2=512\n",
    "\n",
    "enc_vocab_size=VOCAB_SIZE\n",
    "dec_vocab_size=VOCAB_SIZE\n",
    "\n",
    "model  = Encoder_Decoder_Model(enc_vocab_size,dec_vocab_size,embedding_size,enc_lstm_size1,enc_lstm_size2,dec_lstm_size1,dec_lstm_size2,max_length,embedding_weights_available=True)\n",
    "reduce_lr=tf.keras.callbacks.ReduceLROnPlateau(monitor='val_loss', factor= 0.3868626806365509, patience=2, verbose=1,mode='min', min_delta=0.006267752196755831, cooldown=0, min_lr=0.0001)\n",
    "optimizer = tf.keras.optimizers.Adam(0.001)\n",
    "model.compile(optimizer=optimizer,loss=custom_lossfunction,metrics=['acc'])\n",
    "train_steps=train.shape[0]//batch_size\n",
    "valid_steps=validation.shape[0]//batch_size\n",
    "history2=model.fit(train_dataloader,steps_per_epoch=train_steps,epochs=30, validation_data=test_dataloader, validation_steps=valid_steps,callbacks=[reduce_lr,early_stop])\n",
    "model.summary()"
   ]
  },
  {
   "cell_type": "code",
   "execution_count": null,
   "metadata": {
    "colab": {
     "base_uri": "https://localhost:8080/",
     "height": 312
    },
    "id": "ZsRTlB0X9cmH",
    "outputId": "c737d690-3d06-4a2d-fbc9-59aa5ad1e2c9"
   },
   "outputs": [
    {
     "data": {
      "text/plain": [
       "[]"
      ]
     },
     "execution_count": 136,
     "metadata": {},
     "output_type": "execute_result"
    },
    {
     "data": {
      "image/png": "[encoded data removed]",
      "text/plain": [
       "<Figure size 432x288 with 1 Axes>"
      ]
     },
     "metadata": {},
     "output_type": "display_data"
    }
   ],
   "source": [
    "#print history loss validation and training\n",
    "plt.plot(history2.history['loss'])\n",
    "plt.plot(history2.history['val_loss'])\n",
    "plt.ylabel('LOSS')\n",
    "plt.xlabel('epoch')\n",
    "plt.title('LOSS vs EPOCHS')\n",
    "plt.legend(['train', 'validation'], loc='upper left')\n",
    "plt.plot()"
   ]
  },
  {
   "cell_type": "code",
   "execution_count": null,
   "metadata": {
    "colab": {
     "base_uri": "https://localhost:8080/",
     "height": 298
    },
    "id": "0M8EEzb_9brY",
    "outputId": "c11f18c2-27cb-491a-e076-79aeeb664b8f"
   },
   "outputs": [
    {
     "data": {
      "text/plain": [
       "[]"
      ]
     },
     "execution_count": 137,
     "metadata": {},
     "output_type": "execute_result"
    },
    {
     "data": {
      "image/png": "[encoded data removed]",
      "text/plain": [
       "<Figure size 432x288 with 1 Axes>"
      ]
     },
     "metadata": {},
     "output_type": "display_data"
    }
   ],
   "source": [
    "#print history accuracy validation and training\n",
    "plt.plot(history2.history['acc'])\n",
    "plt.plot(history2.history['val_acc'])\n",
    "plt.ylabel('ACCURACYepoch')\n",
    "plt.title('ACCURACY vs EPOCHS')\n",
    "plt.legend(['train', 'validation'], loc='upper left')\n",
    "plt.plot()"
   ]
  },
  {
   "cell_type": "code",
   "execution_count": null,
   "metadata": {
    "colab": {
     "base_uri": "https://localhost:8080/"
    },
    "id": "2i7o0-yqyTXH",
    "outputId": "5ba560f0-1060-4e21-a37b-67588c1a74a5"
   },
   "outputs": [
    {
     "name": "stdout",
     "output_type": "stream",
     "text": [
      "question--> hello\n",
      "BOT--> ['hello', '<end>']\n",
      "question--> how are you\n",
      "BOT--> ['i', 'am', 'not', 'going', 'to', 'be', '<end>']\n",
      "question--> who is your master\n",
      "BOT--> ['i', 'am', 'not', 'sure', '<end>']\n",
      "question--> are you sure you will be alright\n",
      "BOT--> ['i', 'am', 'not', '<end>']\n",
      "question--> are you coming with me to London\n",
      "BOT--> ['i', 'am', 'not', '<end>']\n",
      "question--> do you know me\n",
      "BOT--> ['i', 'am', 'not', '<end>']\n"
     ]
    }
   ],
   "source": [
    "input_sentence=['hello',\n",
    "                'how are you',\n",
    "                'who is your master',\n",
    "                'are you sure you will be alright',\n",
    "                'are you coming with me to London',\n",
    "                'do you know me']\n",
    "for i in input_sentence:\n",
    "    print('question-->',i)\n",
    "    print('BOT-->',predict_greedy([i]))"
   ]
  },
  {
   "cell_type": "code",
   "execution_count": null,
   "metadata": {
    "colab": {
     "base_uri": "https://localhost:8080/"
    },
    "id": "Ip5Uh3PqyTUX",
    "outputId": "e22b09e1-68d6-479c-e915-70550331b551"
   },
   "outputs": [
    {
     "name": "stderr",
     "output_type": "stream",
     "text": [
      "/usr/local/lib/python3.7/dist-packages/nltk/translate/bleu_score.py:490: UserWarning: \n",
      "Corpus/Sentence contains 0 counts of 2-gram overlaps.\n",
      "BLEU scores might be undesirable; use SmoothingFunction().\n",
      "  warnings.warn(_msg)\n",
      "/usr/local/lib/python3.7/dist-packages/nltk/translate/bleu_score.py:490: UserWarning: \n",
      "Corpus/Sentence contains 0 counts of 3-gram overlaps.\n",
      "BLEU scores might be undesirable; use SmoothingFunction().\n",
      "  warnings.warn(_msg)\n",
      "/usr/local/lib/python3.7/dist-packages/nltk/translate/bleu_score.py:490: UserWarning: \n",
      "Corpus/Sentence contains 0 counts of 4-gram overlaps.\n",
      "BLEU scores might be undesirable; use SmoothingFunction().\n",
      "  warnings.warn(_msg)\n"
     ]
    },
    {
     "name": "stdout",
     "output_type": "stream",
     "text": [
      "The average BLEU score of these sentences is 0.4040587137204993\n"
     ]
    }
   ],
   "source": [
    "from  nltk.translate.bleu_score import sentence_bleu\n",
    "val=validation.sample(1000)\n",
    "predicted=[]\n",
    "references=[]\n",
    "bleu=[]\n",
    "for i in range(1000):\n",
    "  \n",
    "     candidate=predict_greedy([val['questions'].astype(str).iloc[i]])\n",
    "     reference=[val['answers_out'].astype(str).iloc[i].split()]\n",
    "     bleu.append(sentence_bleu(reference,candidate,weights=[0.25,0.25,0.25,0.25]))\n",
    "bleu_score=np.mean(bleu)\n",
    "print(\"The average BLEU score of these sentences is\", bleu_score)"
   ]
  },
  {
   "cell_type": "markdown",
   "metadata": {
    "id": "muQt_kQ192A-"
   },
   "source": [
    "MODEL3- Embedding weights Pretrained on Fasttext VECTORS\n"
   ]
  },
  {
   "cell_type": "code",
   "execution_count": null,
   "metadata": {
    "colab": {
     "base_uri": "https://localhost:8080/"
    },
    "id": "KnLt4P6k91sH",
    "outputId": "979046c2-6a5f-47c9-f0b6-6824ad2e8f32"
   },
   "outputs": [
    {
     "name": "stdout",
     "output_type": "stream",
     "text": [
      "--2021-10-08 17:56:24--  https://dl.fbaipublicfiles.com/fasttext/vectors-english/wiki-news-300d-1M.vec.zip\n",
      "Resolving dl.fbaipublicfiles.com (dl.fbaipublicfiles.com)... 104.22.74.142, 172.67.9.4, 104.22.75.142, ...\n",
      "Connecting to dl.fbaipublicfiles.com (dl.fbaipublicfiles.com)|104.22.74.142|:443... connected.\n",
      "HTTP request sent, awaiting response... 200 OK\n",
      "Length: 681808098 (650M) [application/zip]\n",
      "Saving to: ‘wiki-news-300d-1M.vec.zip’\n",
      "\n",
      "wiki-news-300d-1M.v 100%[===================>] 650.22M  10.7MB/s    in 64s     \n",
      "\n",
      "2021-10-08 17:57:29 (10.2 MB/s) - ‘wiki-news-300d-1M.vec.zip’ saved [681808098/681808098]\n",
      "\n"
     ]
    }
   ],
   "source": [
    "!wget --header=\"Host: dl.fbaipublicfiles.com\" --header=\"User-Agent: Mozilla/5.0 (Windows NT 10.0; Win64; x64) AppleWebKit/537.36 (KHTML, like Gecko) Chrome/93.0.4577.63 Safari/537.36\" --header=\"Accept: text/html,application/xhtml+xml,application/xml;q=0.9,image/avif,image/webp,image/apng,*/*;q=0.8,application/signed-exchange;v=b3;q=0.9\" --header=\"Accept-Language: en-US,en;q=0.9,mt;q=0.8,hi;q=0.7\" --header=\"Referer: https://colab.research.google.com/\" \"https://dl.fbaipublicfiles.com/fasttext/vectors-english/wiki-news-300d-1M.vec.zip\" -c -O 'wiki-news-300d-1M.vec.zip'"
   ]
  },
  {
   "cell_type": "code",
   "execution_count": null,
   "metadata": {
    "colab": {
     "base_uri": "https://localhost:8080/"
    },
    "id": "R2gB9uYsANYb",
    "outputId": "c02dc1af-774e-4068-9333-c3312953b2a7"
   },
   "outputs": [
    {
     "name": "stdout",
     "output_type": "stream",
     "text": [
      "Archive:  wiki-news-300d-1M.vec.zip\n",
      "  inflating: wiki-news-300d-1M.vec   \n"
     ]
    }
   ],
   "source": [
    "!unzip wiki-news-300d-1M.vec.zip "
   ]
  },
  {
   "cell_type": "code",
   "execution_count": null,
   "metadata": {
    "id": "J08LXcJRANWF"
   },
   "outputs": [],
   "source": [
    "\n",
    "import io\n",
    "fname='wiki-news-300d-1M.vec'\n",
    "fin = io.open(fname, 'r', encoding='utf-8', newline='\\n', errors='ignore')\n",
    "n, d = map(int, fin.readline().split())"
   ]
  },
  {
   "cell_type": "code",
   "execution_count": null,
   "metadata": {
    "colab": {
     "base_uri": "https://localhost:8080/"
    },
    "id": "sgC33YOSANS2",
    "outputId": "1d56bb7e-7f69-4311-aff7-f34e99ef7ba4"
   },
   "outputs": [
    {
     "data": {
      "text/plain": [
       "999994"
      ]
     },
     "execution_count": 29,
     "metadata": {},
     "output_type": "execute_result"
    }
   ],
   "source": [
    "lines=fin.readlines()\n",
    "len(lines)"
   ]
  },
  {
   "cell_type": "code",
   "execution_count": null,
   "metadata": {
    "id": "ghNI8F5_ANQH"
   },
   "outputs": [],
   "source": [
    "words_fasttext=[]\n",
    "for i in lines[1:]:\n",
    "    words_fasttext.append(i.split()[0])"
   ]
  },
  {
   "cell_type": "code",
   "execution_count": null,
   "metadata": {
    "id": "EgwEP0x8AUcT"
   },
   "outputs": [],
   "source": [
    "#EXTRACTION of Pretrained FASTTEXT vectors of 300 dimensions trained on Wikipedia\n",
    "\n",
    "\n",
    "embedding_matrix_encoder = np.zeros((VOCAB_SIZE+1, 300))\n",
    "\n",
    "for word, i in encoder_token.word_index.items():\n",
    "  if i <5001:\n",
    "      if word in words_fasttext:\n",
    "        embedding_vector = lines[words_fasttext.index(word)+1].split()[1:]\n",
    "        if embedding_vector is not None:\n",
    "              embedding_matrix_encoder[i] = embedding_vector\n",
    "\n",
    "embedding_matrix_decoder = np.zeros((dec_vocab_size+1, 300))\n",
    "for word, i in decoder_token.word_index.items():\n",
    "  if i<5001:\n",
    "      if word in words_fasttext:\n",
    "        embedding_vector = lines[words_fasttext.index(word)+1].split()[1:]\n",
    "        if embedding_vector is not None:\n",
    "              embedding_matrix_decoder[i] = embedding_vector"
   ]
  },
  {
   "cell_type": "code",
   "execution_count": null,
   "metadata": {
    "id": "od2s5Dg5BHOs"
   },
   "outputs": [],
   "source": [
    "from tensorflow.keras import backend\n",
    "backend.clear_session()"
   ]
  },
  {
   "cell_type": "code",
   "execution_count": null,
   "metadata": {
    "colab": {
     "background_save": true,
     "base_uri": "https://localhost:8080/"
    },
    "id": "4RZeOOO3AUZb",
    "outputId": "678b88c3-cce7-4f09-be23-aaaeb6ade539"
   },
   "outputs": [
    {
     "name": "stdout",
     "output_type": "stream",
     "text": [
      "using pretrained vector for embedding\n",
      "Epoch 1/30\n",
      "423/423 [==============================] - 433s 824ms/step - loss: 3.3648 - acc: 0.1118 - val_loss: 2.9852 - val_acc: 0.1422\n",
      "Epoch 2/30\n",
      "423/423 [==============================] - 100s 237ms/step - loss: 2.9148 - acc: 0.1506 - val_loss: 2.8172 - val_acc: 0.1566\n",
      "Epoch 3/30\n",
      "423/423 [==============================] - 100s 237ms/step - loss: 2.7919 - acc: 0.1598 - val_loss: 2.7473 - val_acc: 0.1621\n",
      "Epoch 4/30\n",
      "423/423 [==============================] - 100s 237ms/step - loss: 2.7233 - acc: 0.1645 - val_loss: 2.7081 - val_acc: 0.1660\n",
      "Epoch 5/30\n",
      "423/423 [==============================] - 100s 238ms/step - loss: 2.6700 - acc: 0.1683 - val_loss: 2.6823 - val_acc: 0.1686\n",
      "Epoch 6/30\n",
      "423/423 [==============================] - 100s 237ms/step - loss: 2.6282 - acc: 0.1708 - val_loss: 2.6634 - val_acc: 0.1707\n",
      "Epoch 7/30\n",
      "423/423 [==============================] - 100s 237ms/step - loss: 2.5915 - acc: 0.1730 - val_loss: 2.6510 - val_acc: 0.1720\n",
      "Epoch 8/30\n",
      "423/423 [==============================] - 100s 236ms/step - loss: 2.5575 - acc: 0.1751 - val_loss: 2.6393 - val_acc: 0.1736\n",
      "Epoch 9/30\n",
      "423/423 [==============================] - 101s 239ms/step - loss: 2.5260 - acc: 0.1769 - val_loss: 2.6326 - val_acc: 0.1742\n",
      "Epoch 10/30\n",
      "423/423 [==============================] - 100s 236ms/step - loss: 2.4967 - acc: 0.1786 - val_loss: 2.6297 - val_acc: 0.1751\n",
      "Epoch 11/30\n",
      "423/423 [==============================] - 101s 238ms/step - loss: 2.4689 - acc: 0.1802 - val_loss: 2.6255 - val_acc: 0.1760\n",
      "Epoch 12/30\n",
      "423/423 [==============================] - 101s 240ms/step - loss: 2.4418 - acc: 0.1820 - val_loss: 2.6227 - val_acc: 0.1771\n",
      "Epoch 13/30\n",
      "423/423 [==============================] - 101s 239ms/step - loss: 2.4155 - acc: 0.1834 - val_loss: 2.6255 - val_acc: 0.1767\n",
      "\n",
      "Epoch 00013: ReduceLROnPlateau reducing learning rate to 0.0003868626990115422.\n",
      "Epoch 14/30\n",
      "423/423 [==============================] - 101s 238ms/step - loss: 2.3631 - acc: 0.1869 - val_loss: 2.6143 - val_acc: 0.1790\n",
      "Epoch 15/30\n",
      "423/423 [==============================] - 103s 243ms/step - loss: 2.3487 - acc: 0.1878 - val_loss: 2.6168 - val_acc: 0.1788\n",
      "Epoch 16/30\n",
      "423/423 [==============================] - 103s 242ms/step - loss: 2.3367 - acc: 0.1887 - val_loss: 2.6165 - val_acc: 0.1786\n",
      "\n",
      "Epoch 00016: ReduceLROnPlateau reducing learning rate to 0.00014966273940005437.\n",
      "Model: \"encoder__decoder__model\"\n",
      "_________________________________________________________________\n",
      "Layer (type)                 Output Shape              Param #   \n",
      "=================================================================\n",
      "encoder (Encoder)            multiple                  4215948   \n",
      "_________________________________________________________________\n",
      "decoder (Decoder)            multiple                  7829524   \n",
      "=================================================================\n",
      "Total params: 12,045,472\n",
      "Trainable params: 10,545,172\n",
      "Non-trainable params: 1,500,300\n",
      "_________________________________________________________________\n"
     ]
    }
   ],
   "source": [
    "embedding_size=300\n",
    "enc_lstm_size1=256\n",
    "enc_lstm_size2=256\n",
    "dec_lstm_size1=512\n",
    "dec_lstm_size2=512\n",
    "\n",
    "enc_vocab_size=VOCAB_SIZE\n",
    "dec_vocab_size=VOCAB_SIZE\n",
    "\n",
    "model  = Encoder_Decoder_Model(enc_vocab_size,dec_vocab_size,embedding_size,enc_lstm_size1,enc_lstm_size2,dec_lstm_size1,dec_lstm_size2,max_length,embedding_weights_available=True)\n",
    "reduce_lr=tf.keras.callbacks.ReduceLROnPlateau(monitor='val_loss', factor= 0.3868626806365509, patience=2, verbose=1,mode='min', min_delta=0.006267752196755831, cooldown=0, min_lr=0.0001)\n",
    "optimizer = tf.keras.optimizers.Adam(0.001)\n",
    "model.compile(optimizer=optimizer,loss=custom_lossfunction,metrics=['acc'])\n",
    "train_steps=train.shape[0]//batch_size\n",
    "valid_steps=validation.shape[0]//batch_size\n",
    "history3=model.fit(train_dataloader,steps_per_epoch=train_steps,epochs=30, validation_data=test_dataloader, validation_steps=valid_steps,callbacks=[reduce_lr,early_stop])\n",
    "model.summary()"
   ]
  },
  {
   "cell_type": "code",
   "execution_count": 34,
   "metadata": {
    "colab": {
     "base_uri": "https://localhost:8080/",
     "height": 312
    },
    "id": "568TixqiAUWh",
    "outputId": "842ae8b5-bc8e-4ef7-bb4c-300a572a58ff"
   },
   "outputs": [
    {
     "data": {
      "text/plain": [
       "[]"
      ]
     },
     "execution_count": 34,
     "metadata": {},
     "output_type": "execute_result"
    },
    {
     "data": {
      "image/png": "[encoded data removed]",
      "text/plain": [
       "<Figure size 432x288 with 1 Axes>"
      ]
     },
     "metadata": {
      "needs_background": "light"
     },
     "output_type": "display_data"
    }
   ],
   "source": [
    "#print history loss validation and training\n",
    "plt.plot(history3.history['loss'])\n",
    "plt.plot(history3.history['val_loss'])\n",
    "plt.ylabel('LOSS')\n",
    "plt.xlabel('epoch')\n",
    "plt.title('LOSS vs EPOCHS')\n",
    "plt.legend(['train', 'validation'], loc='upper left')\n",
    "plt.plot()"
   ]
  },
  {
   "cell_type": "code",
   "execution_count": 35,
   "metadata": {
    "colab": {
     "base_uri": "https://localhost:8080/",
     "height": 298
    },
    "id": "xD5KBZhYI3RN",
    "outputId": "bb81682d-f54e-4085-e1c1-d7325760f716"
   },
   "outputs": [
    {
     "data": {
      "text/plain": [
       "[]"
      ]
     },
     "execution_count": 35,
     "metadata": {},
     "output_type": "execute_result"
    },
    {
     "data": {
      "image/png": "[encoded data removed]",
      "text/plain": [
       "<Figure size 432x288 with 1 Axes>"
      ]
     },
     "metadata": {
      "needs_background": "light"
     },
     "output_type": "display_data"
    }
   ],
   "source": [
    "#print history accuracy validation and training\n",
    "plt.plot(history3.history['acc'])\n",
    "plt.plot(history3.history['val_acc'])\n",
    "plt.ylabel('ACCURACYepoch')\n",
    "plt.title('ACCURACY vs EPOCHS')\n",
    "plt.legend(['train', 'validation'], loc='upper left')\n",
    "plt.plot()"
   ]
  },
  {
   "cell_type": "code",
   "execution_count": null,
   "metadata": {
    "id": "iFVNRXVIJJAj"
   },
   "outputs": [],
   "source": []
  },
  {
   "cell_type": "code",
   "execution_count": 39,
   "metadata": {
    "id": "bnolgzWRJI26"
   },
   "outputs": [],
   "source": [
    "max_length_encoder=max_length\n",
    "max_length_decoder=max_length"
   ]
  },
  {
   "cell_type": "code",
   "execution_count": 40,
   "metadata": {
    "colab": {
     "base_uri": "https://localhost:8080/"
    },
    "id": "jTZHA7ZpI3NW",
    "outputId": "222fd90c-93cf-4259-eae5-91b233794df8"
   },
   "outputs": [
    {
     "name": "stdout",
     "output_type": "stream",
     "text": [
      "question--> hello\n",
      "BOT--> ['hello', '<end>']\n",
      "question--> how are you\n",
      "BOT--> ['i', 'am', 'not', '<end>']\n",
      "question--> who is your master\n",
      "BOT--> ['i', 'am', 'not', '<end>']\n",
      "question--> are you sure you will be alright\n",
      "BOT--> ['i', 'am', 'not', 'going', 'to', 'be', '<end>']\n",
      "question--> are you coming with me to London\n",
      "BOT--> ['i', 'am', 'not', '<end>']\n",
      "question--> do you know me\n",
      "BOT--> ['i', 'am', 'not', '<end>']\n"
     ]
    }
   ],
   "source": [
    "input_sentence=['hello',\n",
    "                'how are you',\n",
    "                'who is your master',\n",
    "                'are you sure you will be alright',\n",
    "                'are you coming with me to London',\n",
    "                'do you know me']\n",
    "for i in input_sentence:\n",
    "    print('question-->',i)\n",
    "    print('BOT-->',predict_greedy([i]))"
   ]
  },
  {
   "cell_type": "code",
   "execution_count": 41,
   "metadata": {
    "colab": {
     "base_uri": "https://localhost:8080/"
    },
    "id": "WxBVLACCI3FX",
    "outputId": "25af5413-0c7f-4295-d07c-3f4da264aaba"
   },
   "outputs": [
    {
     "name": "stderr",
     "output_type": "stream",
     "text": [
      "/usr/local/lib/python3.7/dist-packages/nltk/translate/bleu_score.py:490: UserWarning: \n",
      "Corpus/Sentence contains 0 counts of 2-gram overlaps.\n",
      "BLEU scores might be undesirable; use SmoothingFunction().\n",
      "  warnings.warn(_msg)\n",
      "/usr/local/lib/python3.7/dist-packages/nltk/translate/bleu_score.py:490: UserWarning: \n",
      "Corpus/Sentence contains 0 counts of 3-gram overlaps.\n",
      "BLEU scores might be undesirable; use SmoothingFunction().\n",
      "  warnings.warn(_msg)\n",
      "/usr/local/lib/python3.7/dist-packages/nltk/translate/bleu_score.py:490: UserWarning: \n",
      "Corpus/Sentence contains 0 counts of 4-gram overlaps.\n",
      "BLEU scores might be undesirable; use SmoothingFunction().\n",
      "  warnings.warn(_msg)\n"
     ]
    },
    {
     "name": "stdout",
     "output_type": "stream",
     "text": [
      "The average BLEU score of these sentences is 0.4616624808605121\n"
     ]
    }
   ],
   "source": [
    "from  nltk.translate.bleu_score import sentence_bleu\n",
    "val=validation.sample(1000)\n",
    "predicted=[]\n",
    "references=[]\n",
    "bleu=[]\n",
    "for i in range(1000):\n",
    "  \n",
    "     candidate=predict_greedy([val['questions'].astype(str).iloc[i]])\n",
    "     reference=[val['answers_out'].astype(str).iloc[i].split()]\n",
    "     bleu.append(sentence_bleu(reference,candidate,weights=[0.25,0.25,0.25,0.25]))\n",
    "bleu_score=np.mean(bleu)\n",
    "print(\"The average BLEU score of these sentences is\", bleu_score)"
   ]
  },
  {
   "cell_type": "markdown",
   "metadata": {
    "id": "6_NSnBojKRRx"
   },
   "source": [
    "<h2> OBSERVATION </h2>\n",
    "\n",
    " 1.We can see all the three models are roughly performing the same with BLEU score for arbitrarily chosen 1000 validation questions with BLEU score in the range (0.40-0.46).\n",
    "\n",
    " 2.Third model whic used pretrained Fasttext vectors in embedding layers performed slightly better than the other two."
   ]
  }
 ],
 "metadata": {
  "accelerator": "GPU",
  "colab": {
   "collapsed_sections": [],
   "machine_shape": "hm",
   "name": "sameer.pandey617@gmail.com_Encoder_decoder_bidirectional_two_layer.ipynb",
   "provenance": []
  },
  "kernelspec": {
   "display_name": "Python 3",
   "language": "python",
   "name": "python3"
  },
  "language_info": {
   "codemirror_mode": {
    "name": "ipython",
    "version": 3
   },
   "file_extension": ".py",
   "mimetype": "text/x-python",
   "name": "python",
   "nbconvert_exporter": "python",
   "pygments_lexer": "ipython3",
   "version": "3.8.3"
  }
 },
 "nbformat": 4,
 "nbformat_minor": 4
}
