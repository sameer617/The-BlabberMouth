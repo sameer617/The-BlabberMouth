{
 "cells": [
  {
   "cell_type": "code",
   "execution_count": 1,
   "metadata": {
    "colab": {
     "base_uri": "https://localhost:8080/"
    },
    "id": "nkOVQh5thMCX",
    "outputId": "a1f54097-8859-4dd5-cfb1-eb735dd88391"
   },
   "outputs": [
    {
     "name": "stdout",
     "output_type": "stream",
     "text": [
      "--2021-10-30 18:45:04--  https://doc-10-5k-docs.googleusercontent.com/docs/securesc/6kbudo4ee5hqmlq3ia8ppia9sbcvjuvj/llhm2dnoep97do4r8o27lkgekv3ssug7/1635619425000/12878554966299595518/12878554966299595518/1Xql-_6UB8obmLItReI8_GGAdUU1XJkCr?e=download&authuser=0&nonce=g63glrrhl8h4q&user=12878554966299595518&hash=6jopnp4ntuhqf4ir2i04fbm4ikfp4vtf\n",
      "Resolving doc-10-5k-docs.googleusercontent.com (doc-10-5k-docs.googleusercontent.com)... 108.177.97.132, 2404:6800:4008:c00::84\n",
      "Connecting to doc-10-5k-docs.googleusercontent.com (doc-10-5k-docs.googleusercontent.com)|108.177.97.132|:443... connected.\n",
      "HTTP request sent, awaiting response... 200 OK\n",
      "Length: 9916637 (9.5M) [application/x-zip-compressed]\n",
      "Saving to: ‘cornell_movie_dialogs_corpus.zip’\n",
      "\n",
      "cornell_movie_dialo 100%[===================>]   9.46M  30.4MB/s    in 0.3s    \n",
      "\n",
      "2021-10-30 18:45:05 (30.4 MB/s) - ‘cornell_movie_dialogs_corpus.zip’ saved [9916637/9916637]\n",
      "\n"
     ]
    }
   ],
   "source": [
    "!wget --header=\"Host: doc-10-5k-docs.googleusercontent.com\" --header=\"User-Agent: Mozilla/5.0 (Windows NT 10.0; Win64; x64) AppleWebKit/537.36 (KHTML, like Gecko) Chrome/94.0.4606.81 Safari/537.36\" --header=\"Accept: text/html,application/xhtml+xml,application/xml;q=0.9,image/avif,image/webp,image/apng,*/*;q=0.8,application/signed-exchange;v=b3;q=0.9\" --header=\"Accept-Language: en-US,en;q=0.9,mt;q=0.8,hi;q=0.7\" --header=\"Cookie: AUTH_2u1gmt4j08s836ujksdlj51vps0jhs16_nonce=g63glrrhl8h4q\" --header=\"Connection: keep-alive\" \"https://doc-10-5k-docs.googleusercontent.com/docs/securesc/6kbudo4ee5hqmlq3ia8ppia9sbcvjuvj/llhm2dnoep97do4r8o27lkgekv3ssug7/1635619425000/12878554966299595518/12878554966299595518/1Xql-_6UB8obmLItReI8_GGAdUU1XJkCr?e=download&authuser=0&nonce=g63glrrhl8h4q&user=12878554966299595518&hash=6jopnp4ntuhqf4ir2i04fbm4ikfp4vtf\" -c -O 'cornell_movie_dialogs_corpus.zip'"
   ]
  },
  {
   "cell_type": "code",
   "execution_count": 2,
   "metadata": {
    "colab": {
     "base_uri": "https://localhost:8080/"
    },
    "id": "YmzzI46fhMAA",
    "outputId": "f7f9eee4-911a-4389-be62-4f9a8f6f071c"
   },
   "outputs": [
    {
     "name": "stdout",
     "output_type": "stream",
     "text": [
      "Archive:  cornell_movie_dialogs_corpus.zip\n",
      "   creating: cornell movie-dialogs corpus/\n",
      "  inflating: cornell movie-dialogs corpus/.DS_Store  \n",
      "   creating: __MACOSX/\n",
      "   creating: __MACOSX/cornell movie-dialogs corpus/\n",
      "  inflating: __MACOSX/cornell movie-dialogs corpus/._.DS_Store  \n",
      "  inflating: cornell movie-dialogs corpus/chameleons.pdf  \n",
      "  inflating: __MACOSX/cornell movie-dialogs corpus/._chameleons.pdf  \n",
      "  inflating: cornell movie-dialogs corpus/movie_characters_metadata.txt  \n",
      "  inflating: cornell movie-dialogs corpus/movie_conversations.txt  \n",
      "  inflating: cornell movie-dialogs corpus/movie_lines.txt  \n",
      "  inflating: cornell movie-dialogs corpus/movie_titles_metadata.txt  \n",
      "  inflating: cornell movie-dialogs corpus/raw_script_urls.txt  \n",
      "  inflating: cornell movie-dialogs corpus/README.txt  \n",
      "  inflating: __MACOSX/cornell movie-dialogs corpus/._README.txt  \n"
     ]
    }
   ],
   "source": [
    "!unzip cornell_movie_dialogs_corpus.zip"
   ]
  },
  {
   "cell_type": "code",
   "execution_count": null,
   "metadata": {
    "id": "tAEGXAGkhL87"
   },
   "outputs": [],
   "source": []
  },
  {
   "cell_type": "code",
   "execution_count": null,
   "metadata": {
    "id": "UZT2A41LhL6P"
   },
   "outputs": [],
   "source": []
  },
  {
   "cell_type": "code",
   "execution_count": 3,
   "metadata": {
    "id": "wrpXjPXD4qzV"
   },
   "outputs": [],
   "source": [
    "import tensorflow as tf\n",
    "tf.random.set_seed(1234)\n",
    "\n",
    "import tensorflow_datasets as tfds\n",
    "\n",
    "import re\n",
    "import pandas as pd\n",
    "import numpy as np\n",
    "import matplotlib.pyplot as plt"
   ]
  },
  {
   "cell_type": "code",
   "execution_count": 4,
   "metadata": {
    "id": "9MkQFyBP4qou"
   },
   "outputs": [],
   "source": [
    "#we will be working only using 100000 samples\n",
    "MAX_SAMPLES = 100000\n",
    "\n",
    "def preprocess_sentence(sentence):\n",
    "    #converting everything to lower case\n",
    "    sentence = sentence.lower().strip()\n",
    " \n",
    "    sentence = re.sub(r\"([?.!,])\", r\" \\1 \", sentence)\n",
    "    # removing unnecessary space\n",
    "    sentecne = re.sub(r'[\" \"]+', \" \", sentence)\n",
    "    # replacing everything with space except (a-z, A-Z, \".\", \"?\", \"!\", \",\")\n",
    "    sentence = re.sub(r\"[^a-zA-Z?.,!]+\", \" \", sentence)\n",
    "    #removal of trailing spaces\n",
    "    sentence = sentence.strip()\n",
    "\n",
    "    return sentence\n",
    "\n",
    "def load_conversations():\n",
    "    # dictionary of line id to text\n",
    "    id2line = {}\n",
    "    with open('/content/cornell movie-dialogs corpus/movie_lines.txt', encoding = 'utf-8', errors = 'ignore') as file:\n",
    "        lines = file.readlines()\n",
    "    for line in lines:\n",
    "        parts = line.replace('\\n', '').split(' +++$+++ ')\n",
    "        id2line[parts[0]] = parts[4]\n",
    "        \n",
    "    inputs, outputs = [], []\n",
    "    with open('/content/cornell movie-dialogs corpus/movie_conversations.txt', \n",
    "                     encoding = 'utf-8', errors = 'ignore') as file:\n",
    "        lines = file.readlines()\n",
    "    for line in lines:\n",
    "        parts = line.replace('\\n', '').split(' +++$+++ ')\n",
    "        # get conversation in a list of line ID\n",
    "        conversation = [line[1:-1] for line in parts[3][1:-1].split(', ')]\n",
    "        for i in range(len(conversation) - 1):\n",
    "            inputs.append(preprocess_sentence(id2line[conversation[i]]))\n",
    "            outputs.append(preprocess_sentence(id2line[conversation[i + 1]]))\n",
    "            if len(inputs) >= MAX_SAMPLES:\n",
    "                return inputs, outputs\n",
    "    return inputs, outputs\n",
    "\n",
    "questions, answers = load_conversations()"
   ]
  },
  {
   "cell_type": "code",
   "execution_count": 5,
   "metadata": {
    "id": "z16e6NmwN_Ml"
   },
   "outputs": [],
   "source": [
    "#creation of data frames containing questions and answers generated from the data\n",
    "df_data=pd.DataFrame({'questions':questions,'answers':answers})\n",
    "df_data.columns=['questions','answers']"
   ]
  },
  {
   "cell_type": "code",
   "execution_count": null,
   "metadata": {
    "id": "gzKPVEiWOeOc"
   },
   "outputs": [],
   "source": []
  },
  {
   "cell_type": "code",
   "execution_count": 6,
   "metadata": {
    "id": "kNB-tRjxPMzz"
   },
   "outputs": [],
   "source": [
    "from sklearn.model_selection import train_test_split\n",
    "train, validation=train_test_split(df_data, test_size=0.2, random_state=42)"
   ]
  },
  {
   "cell_type": "code",
   "execution_count": 7,
   "metadata": {
    "id": "KLzrdfs04qiZ"
   },
   "outputs": [],
   "source": [
    "# Build tokenizer for both questions and answers\n",
    "tokenizer = tfds.deprecated.text.SubwordTextEncoder.build_from_corpus(df_data['questions'] + df_data['answers'], target_vocab_size = 2**13)\n",
    "\n",
    "# Define start and end token to indicate the start and end of a sentence\n",
    "START_TOKEN, END_TOKEN = [tokenizer.vocab_size], [tokenizer.vocab_size + 1]\n",
    "\n",
    "# Vocabulary size plus start and end token\n",
    "VOCAB_SIZE = tokenizer.vocab_size + 2"
   ]
  },
  {
   "cell_type": "code",
   "execution_count": 9,
   "metadata": {
    "id": "ULIugqEUhaYG"
   },
   "outputs": [],
   "source": [
    "import pickle\n",
    "pickle.dump(tokenizer,open('tokenizer.pkl', 'wb'))"
   ]
  },
  {
   "cell_type": "code",
   "execution_count": null,
   "metadata": {
    "id": "R9uTHpEUiXx9"
   },
   "outputs": [],
   "source": []
  },
  {
   "cell_type": "code",
   "execution_count": 10,
   "metadata": {
    "id": "BpJ_io524qfL"
   },
   "outputs": [],
   "source": [
    "# Maximum sentence length\n",
    "MAX_LENGTH = 23\n",
    "\n",
    "# Tokenize, filter and pad sentences\n",
    "def tokenize_and_filter(inputs, outputs):\n",
    "    \n",
    "    '''\n",
    "    \n",
    "    The function accepts the questions and answers and encodes followed by padding each question and answer using the tokenizer trained on the above corpus\n",
    "    \n",
    "    Args:\n",
    "         inputs-questions\n",
    "         outputs-answers\n",
    "         \n",
    "    Returns:\n",
    "         tokenized_inputs-tokenized and padded questions .\n",
    "         tokenized_decoder_inp- tokenized and padded decoder inputs to be fed to the decoder.\n",
    "         tokenized_decoder_out- tokenized and padded decoder outputs expected at the decoder end.\n",
    "    \n",
    "    '''\n",
    "    tokenized_inputs, tokenized_decoder_inp, tokenized_decoder_out = [], [], []\n",
    "    \n",
    "    for (sentence1, sentence2_) in zip(inputs, outputs):\n",
    "        # tokenize sentence\n",
    "        sentence1 = START_TOKEN + tokenizer.encode(sentence1) + END_TOKEN\n",
    "        sentence2 = START_TOKEN + tokenizer.encode(sentence2_) \n",
    "        sentence3 = tokenizer.encode(sentence2_) + END_TOKEN\n",
    "\n",
    "        # check tokenized sentence max length\n",
    "        if len(sentence1) <= MAX_LENGTH and len(sentence2) <= MAX_LENGTH:\n",
    "            tokenized_inputs.append(sentence1)\n",
    "            tokenized_decoder_inp.append(sentence2)\n",
    "            tokenized_decoder_out.append(sentence3)\n",
    "            \n",
    "    # pad tokenized sentences\n",
    "    tokenized_inputs = tf.keras.preprocessing.sequence.pad_sequences(tokenized_inputs, maxlen = MAX_LENGTH, padding = 'post')\n",
    "    tokenized_decoder_inp = tf.keras.preprocessing.sequence.pad_sequences(tokenized_decoder_inp, maxlen=MAX_LENGTH-1, padding = 'post')\n",
    "    tokenized_decoder_out = tf.keras.preprocessing.sequence.pad_sequences(tokenized_decoder_out, maxlen=MAX_LENGTH-1, padding= 'post')\n",
    "    \n",
    "    return tokenized_inputs, tokenized_decoder_inp, tokenized_decoder_out\n",
    "\n",
    "train_questions, train_decoder_inp, train_decoder_out= tokenize_and_filter(train['questions'], train['answers'])\n",
    "validation_questions, validation_decoder_inp, validation_decoder_out = tokenize_and_filter(validation['questions'], validation['answers'])\n"
   ]
  },
  {
   "cell_type": "code",
   "execution_count": 11,
   "metadata": {
    "colab": {
     "base_uri": "https://localhost:8080/"
    },
    "id": "pSF5XP_K4qbY",
    "outputId": "fb9e0132-fb9a-4049-937e-d0c816d1eeb6"
   },
   "outputs": [
    {
     "name": "stdout",
     "output_type": "stream",
     "text": [
      "Vocab size: 8194\n"
     ]
    }
   ],
   "source": [
    "print('Vocab size: {}'.format(VOCAB_SIZE))\n",
    "#print('Number of samples: {}'.format(len(questions)))"
   ]
  },
  {
   "cell_type": "code",
   "execution_count": 12,
   "metadata": {
    "id": "tE0M3TowD2Es"
   },
   "outputs": [],
   "source": [
    "import pandas as pd\n",
    "import numpy as np"
   ]
  },
  {
   "cell_type": "code",
   "execution_count": 13,
   "metadata": {
    "id": "811VwU8l4qX_"
   },
   "outputs": [],
   "source": [
    "#will be using a batch size of 128.\n",
    "BATCH_SIZE = 128\n",
    "BUFFER_SIZE = 20000\n",
    "\n",
    "\n",
    "\n",
    "train_dataset = tf.data.Dataset.from_tensor_slices(((train_questions,train_decoder_inp),train_decoder_out))\n",
    "train_dataset = train_dataset.cache()\n",
    "train_dataset = train_dataset.shuffle(BUFFER_SIZE)\n",
    "train_dataset = train_dataset.batch(BATCH_SIZE)\n",
    "train_dataset = train_dataset.prefetch(tf.data.experimental.AUTOTUNE)\n",
    "\n",
    "BUFFER_SIZE=1000\n",
    "\n",
    "validation_dataset = tf.data.Dataset.from_tensor_slices(((validation_questions, validation_decoder_inp),validation_decoder_out))\n",
    "validation_dataset = validation_dataset.cache()\n",
    "validation_dataset = validation_dataset.shuffle(BUFFER_SIZE)\n",
    "validation_dataset = validation_dataset.batch(BATCH_SIZE)\n",
    "validation_dataset = validation_dataset.prefetch(tf.data.experimental.AUTOTUNE)\n",
    "\n",
    "\n"
   ]
  },
  {
   "cell_type": "code",
   "execution_count": 14,
   "metadata": {
    "id": "8iPw_oEv4qU-"
   },
   "outputs": [],
   "source": [
    "#REFERENCE-https://blog.tensorflow.org/2019/05/transformer-chatbot-tutorial-with-tensorflow-2.html\n",
    "\n",
    "def scaled_dot_product_attention(query, key, value, mask):\n",
    "    \"\"\"Calculate the attention weights.\"\"\"\n",
    "    matmul_qk = tf.matmul(query, key, transpose_b = True)\n",
    "    \n",
    "    # scale matmul_qk\n",
    "    depth = tf.cast(tf.shape(key)[-1], tf.float32)\n",
    "    logits = matmul_qk / tf.math.sqrt(depth)\n",
    "    \n",
    "    # add the mask to zero out padding tokens\n",
    "    if mask is not None:\n",
    "        logits += (mask * -1e9)\n",
    "        \n",
    "    #sofmax is normalized on the last axis (seq_len_k)\n",
    "    attention_weights = tf.nn.softmax(logits, axis = -1)\n",
    "    \n",
    "    output = tf.matmul(attention_weights, value)\n",
    "    \n",
    "    return output"
   ]
  },
  {
   "cell_type": "code",
   "execution_count": 26,
   "metadata": {
    "id": "Lcmr5LBf4qRv"
   },
   "outputs": [],
   "source": [
    "#REFERENCE-https://blog.tensorflow.org/2019/05/transformer-chatbot-tutorial-with-tensorflow-2.html\n",
    "\n",
    "class MultiHeadAttention(tf.keras.layers.Layer):\n",
    "  '''\n",
    "  A class for multi head attention calculation \n",
    "  '''\n",
    "\n",
    "  def __init__(self, d_model, num_heads, name=\"multi_head_attention\"):\n",
    "    super().__init__()\n",
    "    self.num_heads = num_heads\n",
    "    self.d_model = d_model\n",
    "\n",
    "    assert d_model % self.num_heads == 0\n",
    "\n",
    "    self.depth = d_model // self.num_heads\n",
    "\n",
    "    self.query_dense = tf.keras.layers.Dense(units=d_model)\n",
    "    self.key_dense = tf.keras.layers.Dense(units=d_model)\n",
    "    self.value_dense = tf.keras.layers.Dense(units=d_model)\n",
    "\n",
    "    self.dense = tf.keras.layers.Dense(units=d_model)\n",
    "\n",
    "  def split_heads(self, inputs, batch_size):\n",
    "    inputs = tf.reshape(\n",
    "        inputs, shape=(batch_size, -1, self.num_heads, self.depth))\n",
    "    return tf.transpose(inputs, perm=[0, 2, 1, 3])\n",
    "\n",
    "  def call(self, inputs):\n",
    "    query, key, value, mask = inputs['query'], inputs['key'], inputs['value'], inputs['mask']\n",
    "    batch_size = tf.shape(query)[0]\n",
    "\n",
    "    # linear layers\n",
    "    query = self.query_dense(query)\n",
    "    key = self.key_dense(key)\n",
    "    value = self.value_dense(value)\n",
    "\n",
    "\n",
    "    # split heads\n",
    "    query = self.split_heads(query, batch_size)\n",
    "    key = self.split_heads(key, batch_size)\n",
    "    value = self.split_heads(value, batch_size)\n",
    "\n",
    "    # scaled dot-product attention\n",
    "    scaled_attention = scaled_dot_product_attention(query, key, value, mask)\n",
    "\n",
    "    scaled_attention = tf.transpose(scaled_attention, perm=[0, 2, 1, 3])\n",
    "\n",
    "    # concatenation of heads\n",
    "    concat_attention = tf.reshape(scaled_attention,\n",
    "                                  (batch_size, -1, self.d_model))\n",
    "\n",
    "    # final linear layer\n",
    "    outputs = self.dense(concat_attention)\n",
    "\n",
    "    return outputs"
   ]
  },
  {
   "cell_type": "code",
   "execution_count": 16,
   "metadata": {
    "id": "jizBVSGF4qOv"
   },
   "outputs": [],
   "source": [
    "def create_padding_mask(x):\n",
    "    '''\n",
    "    For masking the encoder inputs\n",
    "    \n",
    "    '''\n",
    "    # tf.math.equal returns the truth value of (x == y) element-wise\n",
    "    mask = tf.cast(tf.math.equal(x, 0), tf.float32)\n",
    "    # (batch_size, 1, 1, sequence length)\n",
    "    return mask[:, tf.newaxis, tf.newaxis, :]\n"
   ]
  },
  {
   "cell_type": "code",
   "execution_count": 17,
   "metadata": {
    "id": "pCvy1vXw4qLi"
   },
   "outputs": [],
   "source": [
    "def create_look_ahead_mask(x):\n",
    "     '''\n",
    "     For masking the decoder inputs\n",
    "     \n",
    "     '''\n",
    "    \n",
    "    seq_len = tf.shape(x)[1]\n",
    "    look_ahead_mask = 1- tf.linalg.band_part(tf.ones((seq_len, seq_len)), -1, 0)\n",
    "    padding_mask = create_padding_mask(x)\n",
    "    # tf.maximum returns the max of x and y (i.e. x>y?x:y) element-wise\n",
    "    return tf.maximum(look_ahead_mask, padding_mask)"
   ]
  },
  {
   "cell_type": "code",
   "execution_count": 18,
   "metadata": {
    "id": "xpp3DwR04qId"
   },
   "outputs": [],
   "source": [
    "class PositionalEncoding(tf.keras.layers.Layer):\n",
    "    \n",
    "    \n",
    "    def __init__(self, position, d_model):\n",
    "        super().__init__()\n",
    "        self.pos_encoding = self.positional_encoding(position, d_model)\n",
    "        \n",
    "    def get_angles(self, position, i, d_model):\n",
    "        angles = 1 / tf.pow(10000,(2 * (i // 2)) / tf.cast(d_model, tf.float32))\n",
    "        return position * angles\n",
    "    \n",
    "    def positional_encoding(self, position, d_model):\n",
    "        angle_rads = self.get_angles(position = tf.range(position, dtype=tf.float32)[:, tf.newaxis], i=tf.range(d_model, dtype=tf.float32)[tf.newaxis, :], d_model = d_model)\n",
    "        # apply sin to even index in the array\n",
    "        sines = tf.math.sin(angle_rads[:, 1::2])\n",
    "        # apply cos to odd index in the array\n",
    "        cosines = tf.math.cos(angle_rads[:, 1::2])\n",
    "        \n",
    "        # negative axis refers to axis + rank(values)-th dimension.\n",
    "        pos_encoding = tf.concat([sines, cosines], axis = -1)\n",
    "        pos_encoding = pos_encoding[tf.newaxis, ...]\n",
    "        return tf.cast(pos_encoding, tf.float32)\n",
    "    \n",
    "    def call(self, inputs):\n",
    "        return inputs + self.pos_encoding[:, :tf.shape(inputs)[1], :]"
   ]
  },
  {
   "cell_type": "code",
   "execution_count": 19,
   "metadata": {
    "id": "eddX7RQDTySi"
   },
   "outputs": [],
   "source": [
    "class EncoderLayer(tf.keras.layers.Layer):\n",
    "    \n",
    "  \n",
    "\n",
    "  def __init__(self, units, d_model, num_heads, dropout, name=\"encoder_layer\"):\n",
    "      super().__init__()\n",
    "      self.units=units\n",
    "      self.d_model=d_model\n",
    "      self.num_heads=num_heads\n",
    "      self.dropout=dropout\n",
    "      self.attention = MultiHeadAttention(d_model=self.d_model, num_heads=self.num_heads, name=\"multi_head_attention\")\n",
    "      self.dropout_layer=Dropout(self.dropout)\n",
    "      self.layer_normalization1=LayerNormalization(epsilon=1e-6)\n",
    "      self.dense1=Dense(self.units, activation='relu')\n",
    "      self.dense2=Dense(self.d_model)\n",
    "      self.layer_normalization2=LayerNormalization(epsilon=1e-6)\n",
    "\n",
    "\n",
    "  def call(self, input, padding_mask):\n",
    "      '''\n",
    "      input has to be in the form of a dictionary\n",
    "      input={\n",
    "          'query': inputs,\n",
    "          'key': inputs,\n",
    "          'value': inputs,\n",
    "          'mask': padding_mask\n",
    "      }   \n",
    "\n",
    "      '''\n",
    "      att_input={'query':input,'key':input,'value':input, 'mask':padding_mask}\n",
    "\n",
    "      attention_output=self.attention(att_input)\n",
    "      attention_output=self.dropout_layer(attention_output)\n",
    "      attention_output=self.layer_normalization1(input+attention_output)\n",
    "      output=self.dense1(attention_output)\n",
    "      output=self.dense2(output)\n",
    "      output=self.dropout_layer(output)\n",
    "      output=self.layer_normalization2(output+attention_output)\n",
    "\n",
    "      return output"
   ]
  },
  {
   "cell_type": "code",
   "execution_count": 20,
   "metadata": {
    "id": "KB3l0UdFtH20"
   },
   "outputs": [],
   "source": [
    "class Encoder(tf.keras.layers.Layer):\n",
    "    def __init__(self, vocab_size,num_layers,units, d_model, num_heads, dropout, name='encoder'):\n",
    "       super().__init__()\n",
    "       self.vocab_size=vocab_size\n",
    "       self.units=units\n",
    "       self.num_layers=num_layers\n",
    "       self.d_model=d_model\n",
    "       self.num_heads=num_heads\n",
    "       self.dropout=dropout\n",
    "       #self.position=position\n",
    "       self.embedding=Embedding(input_dim=self.vocab_size,output_dim=self.d_model)\n",
    "       self.positional_encoding=PositionalEncoding(position=self.vocab_size, d_model=self.d_model)\n",
    "       self.dropout_layer=Dropout(self.dropout)\n",
    "       self.enc_layers = [EncoderLayer(units=self.units, d_model=self.d_model, num_heads=self.num_heads, dropout=self.dropout, name=\"encoder_layer_{}\".format(i))  for i in range(self.num_layers)]\n",
    "      \n",
    "\n",
    "    def call(self,input, padding_mask):\n",
    "      embedd_output=self.embedding(input)\n",
    "      embedd_output *= tf.math.sqrt(tf.cast(self.d_model, tf.float32))\n",
    "      embeddings=self.positional_encoding(embedd_output)\n",
    "      outputs=self.dropout_layer(embeddings)\n",
    "\n",
    "      for i in range(self.num_layers):\n",
    "            outputs = self.enc_layers[i](outputs, padding_mask)\n",
    "      return outputs   "
   ]
  },
  {
   "cell_type": "code",
   "execution_count": 21,
   "metadata": {
    "id": "2HXcalkj406W"
   },
   "outputs": [],
   "source": [
    "class DecoderLayer(tf.keras.layers.Layer):\n",
    "  def __init__(self, units, d_model, num_heads,dropout, name = \"decoder_layer\"):\n",
    "      super().__init__()\n",
    "      self.units=units\n",
    "      self.d_model=d_model\n",
    "      self.num_heads=num_heads\n",
    "      self.dropout=dropout\n",
    "      self.attention1 = MultiHeadAttention(d_model=self.d_model, num_heads=self.num_heads, name=\"attention_1\")\n",
    "      self.attention2 = MultiHeadAttention(d_model=self.d_model, num_heads=self.num_heads, name=\"attention_2\")\n",
    "      self.layernorm1=LayerNormalization(epsilon=1e-6)\n",
    "      self.layernorm2 = LayerNormalization(epsilon=1e-6)\n",
    "      self.layernorm3 = LayerNormalization(epsilon=1e-6)\n",
    "      self.dropout1 = Dropout(self.dropout)\n",
    "      self.dropout2 = Dropout(self.dropout)\n",
    "      self.dropout3 = Dropout(self.dropout)\n",
    "      self.dense1 = Dense(self.units, activation='relu')\n",
    "      self.dense2 = Dense(self.d_model)\n",
    "  \n",
    "  def __call__(self,inputs,encoder_outputs,look_ahead_mask, padding_mask):\n",
    "      att_input={'query':inputs, 'key': inputs, 'value': inputs, 'mask':look_ahead_mask}\n",
    "      attention_1=self.attention1(att_input)\n",
    "      attention_1=self.dropout1(attention_1)\n",
    "      attention_1=self.layernorm1(attention_1+inputs)\n",
    "  \n",
    "      att_input2={'query':attention_1,'key':encoder_outputs, 'value':encoder_outputs,'mask':padding_mask}\n",
    "      attention_2=self.attention2(att_input2)\n",
    "      \n",
    "      attention_2=self.dropout2(attention_2)\n",
    "      attention_2=self.layernorm2(attention_1+attention_2)\n",
    "      output=self.dense1(attention_2)\n",
    "      output=self.dense2(output)\n",
    "      output=self.dropout3(output)\n",
    "      output=self.layernorm3(output+attention_2)\n",
    "      return output\n",
    "\n",
    "   "
   ]
  },
  {
   "cell_type": "code",
   "execution_count": 22,
   "metadata": {
    "id": "UgJJ7k31T78Q"
   },
   "outputs": [],
   "source": [
    "class Decoder(tf.keras.layers.Layer):\n",
    "      def __init__(self,vocab_size, num_layers,units,d_model,num_heads, dropout,name='decoder'):\n",
    "           super().__init__()\n",
    "           self.vocab_size=vocab_size\n",
    "           self.num_layers=num_layers\n",
    "           self.units=units\n",
    "           self.d_model=d_model\n",
    "           self.num_heads=num_heads\n",
    "           self.dropout=dropout\n",
    "           self.embedding=Embedding(input_dim=self.vocab_size, output_dim=self.d_model)\n",
    "           self.positional_embedding=PositionalEncoding(self.vocab_size, self.d_model)\n",
    "           self.dropout_layer=Dropout(self.dropout)\n",
    "           self.dec_layers = [DecoderLayer(units=self.units, d_model=self.d_model, num_heads=self.num_heads, dropout=self.dropout, name=\"decoder_layer_{}\".format(i))  for i in range(self.num_layers)]\n",
    "\n",
    "      def call(self, inputs, encoder_outputs, look_ahead_mask, padding_mask):\n",
    "           embeddings=self.embedding(inputs)\n",
    "           embeddings *= tf.math.sqrt(tf.cast(self.d_model, tf.float32))\n",
    "           embeddings = self.positional_embedding(embeddings)\n",
    "           output=self.dropout_layer(embeddings)\n",
    "           for i in range(self.num_layers):\n",
    "               output=self.dec_layers[i](output, encoder_outputs, look_ahead_mask, padding_mask)\n",
    "\n",
    "           return output\n",
    "\n",
    "          "
   ]
  },
  {
   "cell_type": "code",
   "execution_count": 23,
   "metadata": {
    "id": "t0c12cpkUSFQ"
   },
   "outputs": [],
   "source": [
    "class Transformer(tf.keras.Model):\n",
    "      def __init__(self,vocab_size,num_layers,units, d_model, num_heads, dropout):\n",
    "          super().__init__()\n",
    "          self.vocab_size = vocab_size\n",
    "          self.num_layers = num_layers\n",
    "          self.units = units\n",
    "          self.d_model = d_model\n",
    "          self.num_heads = num_heads\n",
    "          self.dropout = dropout\n",
    "          self.enc_padding_mask=Lambda(create_padding_mask, output_shape=(1, 1, None),name=\"enc_padding_mask\")\n",
    "          self.dec_padding_mask=Lambda(create_padding_mask, output_shape=(1, 1, None),name=\"dec_padding_mask\")\n",
    "          self.look_ahead_mask=Lambda(create_look_ahead_mask,output_shape=(1, None, None),name = \"look_ahead_mask\")\n",
    "          self.encoder = Encoder(vocab_size=self.vocab_size, num_layers=self.num_layers, units=self.units, d_model=self.d_model, num_heads=self.num_heads, dropout=self.dropout, name='encoder')\n",
    "          self.decoder = Decoder(vocab_size=self.vocab_size, num_layers=self.num_layers, units=self.units, d_model=self.d_model, num_heads=self.num_heads, dropout=self.dropout, name='decoder')\n",
    "          self.dense1 = Dense(units=self.vocab_size, name=\"outputs\")\n",
    "\n",
    "      def call(self, data):\n",
    "         \n",
    "          encoder_input = data[0]\n",
    "          decoder_input=data[1]\n",
    "          enc_padding_mask=self.enc_padding_mask(encoder_input)\n",
    "      \n",
    "          dec_input_look_ahead_mask=self.look_ahead_mask(decoder_input)\n",
    "          enc_output=self.encoder(encoder_input,enc_padding_mask)\n",
    "          decoder_padding_mask=self.dec_padding_mask(encoder_input)\n",
    "\n",
    "          dec_output=self.decoder(decoder_input, enc_output, dec_input_look_ahead_mask, decoder_padding_mask)\n",
    "          outputs = self.dense1(dec_output)\n",
    "          return outputs"
   ]
  },
  {
   "cell_type": "code",
   "execution_count": 24,
   "metadata": {
    "id": "I0Id1qOhHIku"
   },
   "outputs": [],
   "source": [
    "import tensorflow as tf\n",
    "from tensorflow.keras.layers import *"
   ]
  },
  {
   "cell_type": "code",
   "execution_count": 97,
   "metadata": {
    "id": "yRmnTXD0_CE_"
   },
   "outputs": [],
   "source": [
    "tf.keras.backend.clear_session()\n",
    "\n",
    "# Hyper-parameters\n",
    "NUM_LAYERS = 2\n",
    "D_MODEL = 512\n",
    "NUM_HEADS = 8\n",
    "UNITS = 512\n",
    "DROPOUT = 0.2\n",
    "\n",
    "model = Transformer(vocab_size = VOCAB_SIZE, num_layers=NUM_LAYERS, units = UNITS, d_model = D_MODEL, num_heads = NUM_HEADS,\n",
    "                    dropout = DROPOUT)"
   ]
  },
  {
   "cell_type": "code",
   "execution_count": 78,
   "metadata": {
    "id": "7q6gdYa3_CCD"
   },
   "outputs": [],
   "source": [
    "#REFERENCE-https://blog.tensorflow.org/2019/05/transformer-chatbot-tutorial-with-tensorflow-2.html\n",
    "\n",
    "\n",
    "def loss_function(y_true, y_pred):\n",
    "    y_true = tf.reshape(y_true, shape=(-1, MAX_LENGTH - 1))\n",
    "    \n",
    "    loss = tf.keras.losses.SparseCategoricalCrossentropy(\n",
    "    from_logits= True, reduction='none')(y_true, y_pred)\n",
    "    \n",
    "    mask = tf.cast(tf.not_equal(y_true, 0), tf.float32)\n",
    "    loss = tf.multiply(loss, mask)\n",
    "    \n",
    "    return tf.reduce_mean(loss)"
   ]
  },
  {
   "cell_type": "code",
   "execution_count": 79,
   "metadata": {
    "id": "mOozvH2Z_B-0"
   },
   "outputs": [],
   "source": [
    "#REFERENCE-https://blog.tensorflow.org/2019/05/transformer-chatbot-tutorial-with-tensorflow-2.html\n",
    "\n",
    "\n",
    "class CustomSchedule(tf.keras.optimizers.schedules.LearningRateSchedule):\n",
    "    \n",
    "    def __init__(self, d_model, warmup_steps=4000):\n",
    "        super(CustomSchedule, self).__init__()\n",
    "        \n",
    "        self.d_model = d_model\n",
    "        self.d_model = tf.cast(self.d_model, tf.float32)\n",
    "        \n",
    "        self.warmup_steps = warmup_steps\n",
    "        \n",
    "    def __call__(self, step):\n",
    "        arg1 = tf.math.rsqrt(step)\n",
    "        arg2 = step * (self.warmup_steps**-1.5)\n",
    "        \n",
    "        return tf.math.rsqrt(self.d_model) * tf.math.minimum(arg1, arg2)"
   ]
  },
  {
   "cell_type": "code",
   "execution_count": 30,
   "metadata": {
    "colab": {
     "base_uri": "https://localhost:8080/",
     "height": 296
    },
    "id": "-xwBqq9Z_B8F",
    "outputId": "f6e41618-9eb6-4b88-e223-e20bc9bec02e"
   },
   "outputs": [
    {
     "data": {
      "text/plain": [
       "Text(0.5, 0, 'Train Step')"
      ]
     },
     "execution_count": 30,
     "metadata": {},
     "output_type": "execute_result"
    },
    {
     "data": {
      "image/png": "[encoded data removed]",
      "text/plain": [
       "<Figure size 432x288 with 1 Axes>"
      ]
     },
     "metadata": {
      "needs_background": "light"
     },
     "output_type": "display_data"
    }
   ],
   "source": [
    "#REFERENCE-https://blog.tensorflow.org/2019/05/transformer-chatbot-tutorial-with-tensorflow-2.html\n",
    "\n",
    "sample_learning_rate = CustomSchedule(d_model=128)\n",
    "\n",
    "plt.plot(sample_learning_rate(tf.range(200000, dtype=tf.float32)))\n",
    "plt.ylabel(\"Learning Rate\")\n",
    "plt.xlabel(\"Train Step\")"
   ]
  },
  {
   "cell_type": "code",
   "execution_count": 98,
   "metadata": {
    "id": "NWEn2M_-_Zw9"
   },
   "outputs": [],
   "source": [
    "learning_rate = CustomSchedule(D_MODEL)\n",
    "\n",
    "optimizer = tf.keras.optimizers.Adam(learning_rate, beta_1=0.9, beta_2=0.98, epsilon=1e-9)\n",
    "#optimizer = tf.keras.optimizers.Adam(0.001, beta_1=0.9, beta_2=0.98, epsilon=1e-9)\n",
    "def accuracy(y_true, y_pred):\n",
    "    # ensure labels have shape (batch_size, MAX_LENGTH - 1)\n",
    "    y_true = tf.reshape(y_true, shape=(-1, MAX_LENGTH-1 ))\n",
    "    return tf.keras.metrics.sparse_categorical_accuracy(y_true, y_pred)\n",
    "reduce_lr=tf.keras.callbacks.ReduceLROnPlateau(monitor='val_loss', factor= 0.1, patience=1, verbose=1,mode='min', min_delta=0.001, cooldown=0, min_lr=0)\n",
    "model.compile(optimizer=optimizer, loss=loss_function, metrics=[accuracy])\n",
    "early_stop=tf.keras.callbacks.EarlyStopping( monitor='val_loss', min_delta=0.0001, patience=1, verbose=0,mode='min', restore_best_weights=True)\n"
   ]
  },
  {
   "cell_type": "code",
   "execution_count": 99,
   "metadata": {
    "colab": {
     "base_uri": "https://localhost:8080/"
    },
    "id": "ni84aKxd_ZuK",
    "outputId": "cb641342-93ea-4c16-d07d-c5de9f3f4585"
   },
   "outputs": [
    {
     "name": "stdout",
     "output_type": "stream",
     "text": [
      "Epoch 1/50\n",
      "414/414 [==============================] - 51s 104ms/step - loss: 3.1136 - accuracy: 0.0575 - val_loss: 2.3712 - val_accuracy: 0.1043\n",
      "Epoch 2/50\n",
      "414/414 [==============================] - 42s 101ms/step - loss: 2.2030 - accuracy: 0.1159 - val_loss: 2.0445 - val_accuracy: 0.1251\n",
      "Epoch 3/50\n",
      "414/414 [==============================] - 42s 101ms/step - loss: 2.0002 - accuracy: 0.1278 - val_loss: 1.9396 - val_accuracy: 0.1336\n",
      "Epoch 4/50\n",
      "414/414 [==============================] - 42s 100ms/step - loss: 1.9015 - accuracy: 0.1347 - val_loss: 1.8730 - val_accuracy: 0.1380\n",
      "Epoch 5/50\n",
      "414/414 [==============================] - 42s 100ms/step - loss: 1.8304 - accuracy: 0.1398 - val_loss: 1.8459 - val_accuracy: 0.1411\n",
      "Epoch 6/50\n",
      "414/414 [==============================] - 42s 100ms/step - loss: 1.7673 - accuracy: 0.1452 - val_loss: 1.8211 - val_accuracy: 0.1421\n",
      "Epoch 7/50\n",
      "414/414 [==============================] - 42s 100ms/step - loss: 1.7069 - accuracy: 0.1499 - val_loss: 1.8119 - val_accuracy: 0.1433\n",
      "Epoch 8/50\n",
      "414/414 [==============================] - 41s 100ms/step - loss: 1.6471 - accuracy: 0.1546 - val_loss: 1.8119 - val_accuracy: 0.1433\n"
     ]
    }
   ],
   "source": [
    "EPOCHS = 50\n",
    "\n",
    "history=model.fit(train_dataset, validation_data=validation_dataset, epochs = EPOCHS, callbacks=[ early_stop])"
   ]
  },
  {
   "cell_type": "code",
   "execution_count": 90,
   "metadata": {
    "colab": {
     "base_uri": "https://localhost:8080/"
    },
    "id": "SE1quVULWFqs",
    "outputId": "be3d4f87-1e7f-466e-9b55-04aa4966f1e6"
   },
   "outputs": [
    {
     "name": "stdout",
     "output_type": "stream",
     "text": [
      "Model: \"transformer\"\n",
      "_________________________________________________________________\n",
      "Layer (type)                 Output Shape              Param #   \n",
      "=================================================================\n",
      "enc_padding_mask (Lambda)    multiple                  0         \n",
      "_________________________________________________________________\n",
      "dec_padding_mask (Lambda)    multiple                  0         \n",
      "_________________________________________________________________\n",
      "look_ahead_mask (Lambda)     multiple                  0         \n",
      "_________________________________________________________________\n",
      "encoder (Encoder)            multiple                  6826496   \n",
      "_________________________________________________________________\n",
      "decoder (Decoder)            multiple                  8929792   \n",
      "_________________________________________________________________\n",
      "outputs (Dense)              multiple                  4203522   \n",
      "=================================================================\n",
      "Total params: 19,959,810\n",
      "Trainable params: 19,959,810\n",
      "Non-trainable params: 0\n",
      "_________________________________________________________________\n"
     ]
    }
   ],
   "source": [
    "model.summary(\n",
    ")"
   ]
  },
  {
   "cell_type": "code",
   "execution_count": 100,
   "metadata": {
    "colab": {
     "base_uri": "https://localhost:8080/",
     "height": 312
    },
    "id": "82ts-b9mZLN3",
    "outputId": "1c3877d2-c556-4e8a-b914-f03b2bb3ba36"
   },
   "outputs": [
    {
     "data": {
      "text/plain": [
       "[]"
      ]
     },
     "execution_count": 100,
     "metadata": {},
     "output_type": "execute_result"
    },
    {
     "data": {
      "image/png": "[encoded data removed]",
      "text/plain": [
       "<Figure size 432x288 with 1 Axes>"
      ]
     },
     "metadata": {
      "needs_background": "light"
     },
     "output_type": "display_data"
    }
   ],
   "source": [
    "plt.plot(history.history['loss'])\n",
    "plt.plot(history.history['val_loss'])\n",
    "plt.ylabel('LOSS')\n",
    "plt.xlabel('epoch')\n",
    "plt.title(f'LOSS vs EPOCHS ')\n",
    "plt.legend(['train', 'validation'], loc='upper left')\n",
    "plt.plot()"
   ]
  },
  {
   "cell_type": "code",
   "execution_count": 101,
   "metadata": {
    "colab": {
     "base_uri": "https://localhost:8080/",
     "height": 312
    },
    "id": "IPqjzB7eZK90",
    "outputId": "da98e925-15e3-4779-a3f4-1319114519c8"
   },
   "outputs": [
    {
     "data": {
      "text/plain": [
       "[]"
      ]
     },
     "execution_count": 101,
     "metadata": {},
     "output_type": "execute_result"
    },
    {
     "data": {
      "image/png": "[encoded data removed]",
      "text/plain": [
       "<Figure size 432x288 with 1 Axes>"
      ]
     },
     "metadata": {
      "needs_background": "light"
     },
     "output_type": "display_data"
    }
   ],
   "source": [
    "plt.plot(history.history['accuracy'])\n",
    "plt.plot(history.history['val_accuracy'])\n",
    "plt.ylabel('Accuracy')\n",
    "plt.xlabel('epoch')\n",
    "plt.title(f'Accuracy vs EPOCHS ')\n",
    "plt.legend(['train', 'validation'], loc='upper left')\n",
    "plt.plot()"
   ]
  },
  {
   "cell_type": "code",
   "execution_count": 107,
   "metadata": {
    "id": "QGub754GsTD_"
   },
   "outputs": [],
   "source": [
    "model.save_weights('transformer')"
   ]
  },
  {
   "cell_type": "code",
   "execution_count": 102,
   "metadata": {
    "id": "01fhKC3AAPMf"
   },
   "outputs": [],
   "source": [
    "def evaluate(sentence,model):\n",
    "    \n",
    "    '''\n",
    "    A function for prediction of the input sentence to the model\n",
    "    \n",
    "    Args:\n",
    "         sentence-input sentence by the user\n",
    "         model- model the input is fed to\n",
    "         \n",
    "    Returns:\n",
    "           output- a tokenized form of predicted sentence\n",
    "    '''\n",
    "    sentence = preprocess_sentence(sentence)\n",
    "    \n",
    "    sentence = tf.expand_dims(START_TOKEN + tokenizer.encode(sentence) + END_TOKEN, axis = 0)\n",
    "    \n",
    "    output = tf.expand_dims(START_TOKEN, 0)\n",
    "\n",
    "    #output = tf.expand_dims(START_TOKEN, 0)\n",
    "    for i in range(MAX_LENGTH):\n",
    "        enc_padding_mask = model.layers[0](sentence)\n",
    "        dec_input_look_ahead_mask=model.layers[2](output)\n",
    "        enc_output=model.layers[3](sentence,enc_padding_mask)\n",
    "        decoder_padding_mask=model.layers[1](sentence)\n",
    "        dec_output=model.layers[4](output, enc_output, dec_input_look_ahead_mask, decoder_padding_mask)\n",
    "        predictions=model.layers[5](dec_output)\n",
    "\n",
    "        \n",
    "        # select the last word from the seq_len dimension\n",
    "        predictions = predictions[:, -1:, :]\n",
    "        predicted_id = tf.cast(tf.argmax(predictions, axis=-1), tf.int32)\n",
    "        \n",
    "        # return the result if the predicted_id is equal to the end token\n",
    "        if tf.equal(predicted_id, END_TOKEN[0]):\n",
    "            break\n",
    "            \n",
    "        # concatenated the predicted_id to the output which is given to the decoder at its input.\n",
    "        output = tf.concat([output, predicted_id], axis=-1)\n",
    "        \n",
    "    return tf.squeeze(output, axis = 0)\n",
    "\n",
    "def predict(sentence,model):\n",
    "    '''\n",
    "    This function predicts the output from the chatbot given the input by the user\n",
    "    \n",
    "    Args:\n",
    "         sentence- input sentence to the chat bot\n",
    "         model- model input is fed to\n",
    "         \n",
    "    Returns:\n",
    "           predicted_sentence- the output generated by the model\n",
    "    '''\n",
    "    prediction = evaluate(sentence,model)\n",
    "    \n",
    "    predicted_sentence = tokenizer.decode([i for i in prediction if i < tokenizer.vocab_size])\n",
    "    \n",
    "    #print('Input: {}'.format(sentence))\n",
    "    #print('Output: {}'.format(predicted_sentence))\n",
    "    \n",
    "    return predicted_sentence"
   ]
  },
  {
   "cell_type": "code",
   "execution_count": 103,
   "metadata": {
    "colab": {
     "base_uri": "https://localhost:8080/",
     "height": 35
    },
    "id": "weUGzyoiOKPv",
    "outputId": "88584543-ded8-44eb-9844-c5d159cf4d63"
   },
   "outputs": [
    {
     "data": {
      "application/vnd.google.colaboratory.intrinsic+json": {
       "type": "string"
      },
      "text/plain": [
       "'i don t want to talk about it .'"
      ]
     },
     "execution_count": 103,
     "metadata": {},
     "output_type": "execute_result"
    }
   ],
   "source": [
    "predict('I think I know you',model)"
   ]
  },
  {
   "cell_type": "code",
   "execution_count": 104,
   "metadata": {
    "colab": {
     "base_uri": "https://localhost:8080/"
    },
    "id": "BQo32yF4APJ1",
    "outputId": "230dab0b-279a-424f-d936-91a55eee67fd"
   },
   "outputs": [
    {
     "name": "stdout",
     "output_type": "stream",
     "text": [
      "Question->  hello\n",
      "BOT->  i m sorry .\n",
      "Question->  how are you\n",
      "BOT->  i m sorry , i m sorry . i m sorry .\n",
      "Question->  once upon a  time there was a man\n",
      "BOT->  i don t know what you re talking about .\n",
      "Question->  are you sure you will be alright\n",
      "BOT->  i m not going to be a little while .\n",
      "Question->  are you coming with me to London\n",
      "BOT->  i m sorry , i m sorry .\n",
      "Question->  do you know me\n",
      "BOT->  i don t want to talk about it .\n"
     ]
    }
   ],
   "source": [
    "input_sentence=['hello',\n",
    "                'how are you',\n",
    "                'once upon a  time there was a man',\n",
    "                'are you sure you will be alright',\n",
    "                'are you coming with me to London',\n",
    "                'do you know me']\n",
    "for i in input_sentence:\n",
    "    print(\"Question-> \",i)\n",
    "    print(\"BOT-> \",predict(i,model))"
   ]
  },
  {
   "cell_type": "code",
   "execution_count": null,
   "metadata": {
    "id": "t7eBUraqAPHH"
   },
   "outputs": [],
   "source": []
  },
  {
   "cell_type": "code",
   "execution_count": 106,
   "metadata": {
    "colab": {
     "base_uri": "https://localhost:8080/"
    },
    "id": "32oAsgDP_ZrN",
    "outputId": "dd947154-0d0a-4862-8c77-d1109feae756"
   },
   "outputs": [
    {
     "name": "stderr",
     "output_type": "stream",
     "text": [
      "/usr/local/lib/python3.7/dist-packages/nltk/translate/bleu_score.py:490: UserWarning: \n",
      "Corpus/Sentence contains 0 counts of 2-gram overlaps.\n",
      "BLEU scores might be undesirable; use SmoothingFunction().\n",
      "  warnings.warn(_msg)\n",
      "/usr/local/lib/python3.7/dist-packages/nltk/translate/bleu_score.py:490: UserWarning: \n",
      "Corpus/Sentence contains 0 counts of 3-gram overlaps.\n",
      "BLEU scores might be undesirable; use SmoothingFunction().\n",
      "  warnings.warn(_msg)\n"
     ]
    },
    {
     "name": "stdout",
     "output_type": "stream",
     "text": [
      "The average BLEU score of these sentences is 0.6780326604128989\n"
     ]
    }
   ],
   "source": [
    "from  nltk.translate.bleu_score import sentence_bleu\n",
    "val=validation.sample(1000)\n",
    "predicted=[]\n",
    "references=[]\n",
    "bleu=[]\n",
    "for i in range(1000):\n",
    "    \n",
    "     candidate=predict(val['questions'].iloc[i],model).split()\n",
    "     reference=val['answers'].iloc[i].split()\n",
    "     bleu.append(sentence_bleu(reference,candidate,weights=[0.25,0.25,0.25,0.25]))\n",
    "bleu_score=np.mean(bleu)\n",
    "print(\"The average BLEU score of these sentences is\", bleu_score)"
   ]
  },
  {
   "cell_type": "markdown",
   "metadata": {
    "id": "5KXeC-bn_ZoZ"
   },
   "source": [
    "<h2> OBSERVATION </h2>\n",
    "\n",
    "We can certainly say by looking at the BLEU score which is our performance metric for this case study, this transformer model is performing fairly well in comparison to all other models."
   ]
  },
  {
   "cell_type": "code",
   "execution_count": null,
   "metadata": {
    "id": "Wf1XC6yN_Zlx"
   },
   "outputs": [],
   "source": []
  },
  {
   "cell_type": "code",
   "execution_count": null,
   "metadata": {
    "id": "cTH5f4Nn_Ziy"
   },
   "outputs": [],
   "source": []
  }
 ],
 "metadata": {
  "accelerator": "GPU",
  "colab": {
   "collapsed_sections": [],
   "machine_shape": "hm",
   "name": "sameer.pandey617@gmail.com_transformer.ipynb",
   "provenance": []
  },
  "kernelspec": {
   "display_name": "Python 3",
   "language": "python",
   "name": "python3"
  },
  "language_info": {
   "codemirror_mode": {
    "name": "ipython",
    "version": 3
   },
   "file_extension": ".py",
   "mimetype": "text/x-python",
   "name": "python",
   "nbconvert_exporter": "python",
   "pygments_lexer": "ipython3",
   "version": "3.8.3"
  }
 },
 "nbformat": 4,
 "nbformat_minor": 4
}
