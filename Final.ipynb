{
 "cells": [
  {
   "cell_type": "code",
   "execution_count": 1,
   "metadata": {
    "id": "Q_JKq1fnhopK"
   },
   "outputs": [],
   "source": [
    "import warnings\n",
    "\n",
    "warnings.filterwarnings(\"ignore\")\n"
   ]
  },
  {
   "cell_type": "code",
   "execution_count": 2,
   "metadata": {},
   "outputs": [],
   "source": [
    "import tensorflow as tf\n",
    "physical_devices = tf.config.list_physical_devices('GPU') \n",
    "for device in physical_devices:\n",
    "    tf.config.experimental.set_memory_growth(device, True)"
   ]
  },
  {
   "cell_type": "code",
   "execution_count": 3,
   "metadata": {},
   "outputs": [],
   "source": [
    "tf.keras.backend.clear_session()"
   ]
  },
  {
   "cell_type": "code",
   "execution_count": 4,
   "metadata": {
    "id": "c2Mlt1KqZw5g"
   },
   "outputs": [],
   "source": [
    "import os\n",
    "os.environ['TF_CPP_MIN_LOG_LEVEL'] = '3'"
   ]
  },
  {
   "cell_type": "code",
   "execution_count": 5,
   "metadata": {
    "id": "dfNANtpxMqUJ"
   },
   "outputs": [],
   "source": [
    "import pickle\n",
    "from transformer_framework import Transformer\n",
    "from transformer_framework import predict\n",
    "from  nltk.translate.bleu_score import sentence_bleu"
   ]
  },
  {
   "cell_type": "code",
   "execution_count": 6,
   "metadata": {
    "colab": {
     "base_uri": "https://localhost:8080/"
    },
    "id": "bKxfpetJV-Bp",
    "outputId": "82cd6786-42c6-479e-88ad-a43d1800c459"
   },
   "outputs": [
    {
     "data": {
      "text/plain": [
       "<tensorflow.python.training.tracking.util.CheckpointLoadStatus at 0x29a68ce5b50>"
      ]
     },
     "execution_count": 6,
     "metadata": {},
     "output_type": "execute_result"
    }
   ],
   "source": [
    "NUM_LAYERS = 2\n",
    "D_MODEL = 512\n",
    "NUM_HEADS = 8\n",
    "UNITS = 512\n",
    "DROPOUT = 0.2\n",
    "\n",
    "with open('tokenizer.pkl', 'rb') as handle:\n",
    "    tokenizer = pickle.load(handle)\n",
    "START_TOKEN, END_TOKEN = [tokenizer.vocab_size], [tokenizer.vocab_size + 1]\n",
    "VOCAB_SIZE=tokenizer.vocab_size+2\n",
    "model =Transformer(vocab_size = VOCAB_SIZE, num_layers=NUM_LAYERS, units = UNITS, d_model = D_MODEL, num_heads = NUM_HEADS,dropout = DROPOUT)\n",
    "model.load_weights('transformer')"
   ]
  },
  {
   "cell_type": "code",
   "execution_count": 7,
   "metadata": {
    "id": "LqhrVvATK1-v"
   },
   "outputs": [],
   "source": [
    "def function1(sent):\n",
    "    \n",
    "      '''\n",
    "      The function accepts a string as input and return the predicted sentence by the chatbot\n",
    "      \n",
    "      '''\n",
    "        \n",
    "      predicted_sent=predict(sent, model)\n",
    "    \n",
    "      return predicted_sent\n"
   ]
  },
  {
   "cell_type": "code",
   "execution_count": 8,
   "metadata": {
    "id": "ww6rHVVf4MJy"
   },
   "outputs": [],
   "source": [
    "\n",
    "predicted_sent=function1('are you alright?')"
   ]
  },
  {
   "cell_type": "code",
   "execution_count": 9,
   "metadata": {
    "colab": {
     "base_uri": "https://localhost:8080/",
     "height": 35
    },
    "id": "vYVIn3nhR7CX",
    "outputId": "076d978a-b150-4917-931a-77407b3ad59f"
   },
   "outputs": [],
   "source": [
    "#predicted_sent"
   ]
  },
  {
   "cell_type": "code",
   "execution_count": 10,
   "metadata": {
    "id": "JBPtaaRFR64y"
   },
   "outputs": [],
   "source": [
    "def function2(sent,ref):\n",
    "    \n",
    "    '''\n",
    "    The function takes the question asked by the user and the result expected by the user as argument and returns the bleu score based on the prediction made by the bot and the actual result.\n",
    "   \n",
    "    '''\n",
    "    candidate=predict(sent,model).split()\n",
    "    ref=ref.split()\n",
    "  \n",
    "    bleu_score=sentence_bleu(candidate,ref,weights=[0.25,0.25,0.25,0.25])\n",
    "    return bleu_score"
   ]
  },
  {
   "cell_type": "code",
   "execution_count": 11,
   "metadata": {
    "colab": {
     "base_uri": "https://localhost:8080/"
    },
    "id": "hirMGIINYu76",
    "outputId": "58878eb4-8579-48ef-a925-2a619c3e0f77"
   },
   "outputs": [],
   "source": [
    "sent='How are you?'\n",
    "ref='i m fine .'\n",
    "\n",
    "#function2(sent,ref)"
   ]
  },
  {
   "cell_type": "markdown",
   "metadata": {},
   "source": [
    "<h2>DEPLOYMENT</h2>"
   ]
  },
  {
   "cell_type": "code",
   "execution_count": 12,
   "metadata": {},
   "outputs": [
    {
     "name": "stderr",
     "output_type": "stream",
     "text": [
      "2021-11-02 08:34:16.320 \n",
      "  \u001b[33m\u001b[1mWarning:\u001b[0m to view this Streamlit app on a browser, run it with the following\n",
      "  command:\n",
      "\n",
      "    streamlit run C:\\Users\\samee\\anaconda3\\lib\\site-packages\\ipykernel_launcher.py [ARGUMENTS]\n"
     ]
    }
   ],
   "source": [
    "import streamlit as st\n",
    "def main():\n",
    "    st.title(\"CONVERSATIONAL AI\")\n",
    "    html_temp = \"\"\"\n",
    "    <div style=\"background-color:tomato;padding:10px\">\n",
    "    <h2 style=\"color:white;text-align:center;\">Streamlit Bank Authenticator ML App </h2>\n",
    "    </div>\n",
    "    \"\"\"\n",
    "    st.markdown(html_temp,unsafe_allow_html=True)\n",
    "    sentence = st.text_input(\"INPUT\",\"Type Here\")\n",
    "    \n",
    "    result=\"\"\n",
    "    if st.button(\"function1\"):\n",
    "        result=function1(sentence)\n",
    "    st.success('BOT-> {}'.format(result))\n",
    "  \n",
    "\n",
    "if __name__=='__main__':\n",
    "    main()"
   ]
  },
  {
   "cell_type": "code",
   "execution_count": null,
   "metadata": {},
   "outputs": [],
   "source": []
  },
  {
   "cell_type": "code",
   "execution_count": null,
   "metadata": {},
   "outputs": [],
   "source": []
  },
  {
   "cell_type": "code",
   "execution_count": null,
   "metadata": {},
   "outputs": [],
   "source": []
  }
 ],
 "metadata": {
  "colab": {
   "collapsed_sections": [],
   "name": "Final.ipynb",
   "provenance": []
  },
  "kernelspec": {
   "display_name": "Python 3 (ipykernel)",
   "language": "python",
   "name": "python3"
  },
  "language_info": {
   "codemirror_mode": {
    "name": "ipython",
    "version": 3
   },
   "file_extension": ".py",
   "mimetype": "text/x-python",
   "name": "python",
   "nbconvert_exporter": "python",
   "pygments_lexer": "ipython3",
   "version": "3.8.12"
  }
 },
 "nbformat": 4,
 "nbformat_minor": 4
}
